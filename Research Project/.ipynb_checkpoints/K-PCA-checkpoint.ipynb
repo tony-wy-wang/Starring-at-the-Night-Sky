{
 "cells": [
  {
   "cell_type": "code",
   "execution_count": 66,
   "metadata": {},
   "outputs": [],
   "source": [
    "import matplotlib.pyplot as plt\n",
    "from astropy.visualization import astropy_mpl_style\n",
    "from astropy.io import fits\n",
    "import astropy\n",
    "plt.style.use(astropy_mpl_style)\n",
    "from astropy.utils.data import get_pkg_data_filename\n",
    "import numpy as np\n",
    "import cv2\n",
    "#import ogr\n",
    "#import shapely.wkt\n",
    "#import shapely.geometry\n",
    "import urllib.request\n",
    "import zipfile\n",
    "import json\n",
    "import csv\n",
    "from collections import Counter\n",
    "import itertools\n",
    "from collections import defaultdict\n",
    "import pandas as pd\n",
    "import matplotlib.pyplot as plt\n",
    "import numpy as np\n",
    "import csv\n",
    "import os, glob\n",
    "from sklearn import decomposition\n",
    "from sklearn import cluster\n",
    "from sklearn import preprocessing\n",
    "from scipy import spatial\n",
    "from io import StringIO\n",
    "import importlib\n",
    "from mpl_toolkits.mplot3d import Axes3D\n",
    "from astropy.utils.data import get_pkg_data_filename\n",
    "from astropy.io import fits\n",
    "import PIL\n",
    "from PIL import Image\n",
    "import scipy.misc\n",
    "import os\n",
    "from sklearn.datasets import make_moons\n",
    "import numpy as np\n",
    "import matplotlib.pyplot as plt\n",
    "from sklearn.model_selection import train_test_split\n",
    "from sklearn.decomposition import PCA, KernelPCA\n",
    "from sklearn.datasets import make_circles"
   ]
  },
  {
   "cell_type": "code",
   "execution_count": 2,
   "metadata": {},
   "outputs": [
    {
     "ename": "SyntaxError",
     "evalue": "EOF while scanning triple-quoted string literal (<ipython-input-2-29d7d4eabaf0>, line 14)",
     "output_type": "error",
     "traceback": [
      "\u001b[1;36m  File \u001b[1;32m\"<ipython-input-2-29d7d4eabaf0>\"\u001b[1;36m, line \u001b[1;32m14\u001b[0m\n\u001b[1;33m    n: undetermined/questionable data\u001b[0m\n\u001b[1;37m                                     \n^\u001b[0m\n\u001b[1;31mSyntaxError\u001b[0m\u001b[1;31m:\u001b[0m EOF while scanning triple-quoted string literal\n"
     ]
    }
   ],
   "source": [
    "''''\n",
    "''class a and b\n",
    "m: moon is up\n",
    "''class b\n",
    "p: no cloud\n",
    "''class a\n",
    "o: clouds only in the outer circle\n",
    "\n",
    "i: clouds only in the inner circle\n",
    "\n",
    "u:  full cover\n",
    "\n",
    "''\n",
    "n: undetermined/questionable data"
   ]
  },
  {
   "cell_type": "code",
   "execution_count": 46,
   "metadata": {},
   "outputs": [],
   "source": [
    "def data_normalization(data): #normalizes data to a gaussian\n",
    "    new_data = preprocessing.normalize(data)\n",
    "    return new_data\n",
    "def Get_Round_Pixel_Locations(data,radius,center_x,center_y): \n",
    "    #gets the coordinates of pixels in the round arrea. Outputs a n*2 array\n",
    "    len_y = np.shape(data)[0]\n",
    "    len_x = np.shape(data)[1]\n",
    "    out = [[None,None]] #stores the coordinate of the pixels\n",
    "    for j in range(0,len_y-1):\n",
    "        for i in range(0,len_x-1):\n",
    "            if ((i-center_x)**2 + (j-center_y)**2) < radius**2:\n",
    "                out.append([i,j])\n",
    "    out = np.delete(out, 0, 0)  # delete first row of out\n",
    "    return out #Returns the Loc: location of the pixels\n",
    "\n",
    "def Get_Ring_Pixel_Locations(data,radius_inner,radius_outer,center_x,center_y): \n",
    "    #gets the coordinates of pixels in the round arrea. Outputs a n*2 array\n",
    "    len_y = np.shape(data)[0]\n",
    "    len_x = np.shape(data)[1]\n",
    "    out = [[None,None]] #stores the coordinate of the pixels\n",
    "    for j in range(0,len_y-1):\n",
    "        for i in range(0,len_x-1):\n",
    "            if ((((i-center_x)**2 + (j-center_y)**2) <= radius_outer**2) & (((i-center_x)**2 + (j-center_y)**2) >= radius_inner**2) ):\n",
    "                out.append([i,j])\n",
    "    out = np.delete(out, 0, 0)  # delete first row of out\n",
    "    return out #Returns the Loc: location of the pixels\n",
    "\n",
    "def Get_Data(data, Loc): \n",
    "    #returns the converted pixels using the coordinates\n",
    "    n = np.shape(Loc)[0]\n",
    "    out = np.zeros([np.shape(Loc)[0],1])\n",
    "    for i in range(0,n-1):\n",
    "        out[i] = data[Loc[i,0],Loc[i,1]]\n",
    "    return out\n",
    "\n",
    "def Reconstruct_Data(data_Vec,Loc,x_len,y_len):\n",
    "    n = np.shape(Loc)[0]\n",
    "    out = np.zeros([x_len,y_len])\n",
    "    for i in range(0,n-1):\n",
    "        out[Loc[i,0],Loc[i,1]] = data_Vec[i]\n",
    "    return out\n",
    "\n",
    "def data_slicing(dir0,loc1,loc2):\n",
    "    list_dirs = os.walk(dir0)\n",
    "    path, dirs, files = os.walk(dir0).__next__()\n",
    "    file_count = len(files)*2\n",
    "    print(file_count)\n",
    "    data1b = np.zeros([file_count//2,loc1.shape[0] +1])\n",
    "    data2r = np.zeros([file_count//2,loc2.shape[0] +1])\n",
    "    data1r = np.zeros([file_count//2,loc1.shape[0] +1])\n",
    "    data2b = np.zeros([file_count//2,loc2.shape[0] +1])\n",
    "    i = 0\n",
    "    j = 0\n",
    "    for root, dirs, files in list_dirs: \n",
    "        for d in files: \n",
    "            path = os.path.join(root, d)\n",
    "            str0 = path.split('\\\\')[-1]\n",
    "            band = str0[0]\n",
    "            label = str0[11]\n",
    "            img = cv2.imread(path,0)\n",
    "            if band == 'b':\n",
    "#                 img = data_normalization(img)\n",
    "                new1 = Get_Data(img, loc1)\n",
    "                new2 = Get_Data(img, loc2)\n",
    "                data1b[i,:-1] = new1.T\n",
    "                data2b[i,:-1] = new2.T\n",
    "                if label == 'm':\n",
    "                    data1b[i,-1] = 1\n",
    "                    data2b[i,-1] = 1\n",
    "                elif label == 'p':\n",
    "                    data1b[i,-1] = 2\n",
    "                    data2b[i,-1] = 2\n",
    "                elif (label == 'o'):\n",
    "                    data1b[i,-1] = 3\n",
    "                    data2b[i,-1] = 3\n",
    "                elif (label == 'i'):\n",
    "                    data1b[i,-1] = 4\n",
    "                    data2b[i,-1] = 4\n",
    "                elif (label == 'u'):\n",
    "                    data1b[i,-1] = 5\n",
    "                    data2b[i,-1] = 5\n",
    "                i += 1\n",
    "            else:\n",
    "#                 img = data_normalization(img)\n",
    "                new1 = Get_Data(img, loc1)\n",
    "                new2 = Get_Data(img, loc2)\n",
    "                data1r[j,:-1] = new1.T\n",
    "                data2r[j,:-1] = new2.T\n",
    "#                 if label == 'm':\n",
    "#                     data1r[j,-1] = 1\n",
    "#                     data2r[j,-1] = 1\n",
    "#                 elif label == 'p':\n",
    "#                     data1r[j,-1] = 2\n",
    "#                     data2r[j,-1] = 2\n",
    "#                 elif (label == 'o') | (label == 'i') | (label == 'u'):\n",
    "#                     data1r[j,-1] = 3\n",
    "#                     data2r[j,-1] = 3\n",
    "                if label == 'm':\n",
    "                    data1r[j,-1] = 1\n",
    "                    data2r[j,-1] = 1\n",
    "                elif label == 'p':\n",
    "                    data1r[j,-1] = 2\n",
    "                    data2r[j,-1] = 2\n",
    "                elif (label == 'o'):\n",
    "                    data1r[j,-1] = 3\n",
    "                    data2r[j,-1] = 3\n",
    "                elif (label == 'i'):\n",
    "                    data1r[j,-1] = 4\n",
    "                    data2r[j,-1] = 4\n",
    "                elif (label == 'u'):\n",
    "                    data1r[j,-1] = 5\n",
    "                    data2r[j,-1] = 5\n",
    "                j += 1\n",
    "            \n",
    "            \n",
    "    return data1b,data1r,data2b,data2r\n",
    "def data_cleaning(data): #generates data and label\n",
    "    new = np.zeros([data.shape [0],data.shape[1]-1])\n",
    "    label = np.zeros(data.shape[0])\n",
    "    i = 0\n",
    "    j = 0\n",
    "    for i in range(data.shape[0]):\n",
    "        if data[i,-1] != 0:\n",
    "            new[j,:] = data[i,:-1]\n",
    "            label[j] = data[i,-1]\n",
    "            j = j+1\n",
    "    new = new[:j,:]\n",
    "    label = label[:j]\n",
    "    return new,label\n",
    "def data_cleaning15(data):\n",
    "    new = np.zeros([150*3,data.shape[1]-1])\n",
    "    label = np.zeros([150*3])\n",
    "    i = 0\n",
    "    j = 0\n",
    "    k = 150\n",
    "    m = 300\n",
    "    for i in range(data.shape[0]):\n",
    "        if (data[i,-1] == 1) & (j < 150):\n",
    "            new[j,:] = data[i,:-1]\n",
    "            label[j] = data[i,-1]\n",
    "            j = j+1\n",
    "        elif (data[i,-1] == 2) & (k < 300):\n",
    "            new[k,:] = data[i,:-1]\n",
    "            label[k] = data[i,-1]\n",
    "            k = k+1\n",
    "        elif (data[i,-1] == 3) & (m < 450):\n",
    "            new[m,:] = data[i,:-1]\n",
    "            label[m] = data[i,-1]\n",
    "            m = m+1            \n",
    "    return new, label\n",
    "def data_cleaning100(data):\n",
    "    index = 1\n",
    "    new = np.zeros([index*100*5,data.shape[1]-1])\n",
    "    label = np.zeros([index*100*5])\n",
    "    i = 0\n",
    "    j = 0\n",
    "    k = 100*index\n",
    "    m = 200*index\n",
    "    cnt1 = 300*index\n",
    "    cnt2 = 400*index\n",
    "    for i in range(data.shape[0]):\n",
    "        if (data[i,-1] == 1) & (j < 100*index):\n",
    "            new[j,:] = data[i,:-1]\n",
    "            label[j] = data[i,-1]\n",
    "            j = j+1\n",
    "        elif (data[i,-1] == 2) & (k < 200*index):\n",
    "            new[k,:] = data[i,:-1]\n",
    "            label[k] = data[i,-1]\n",
    "            k = k+1\n",
    "        elif (data[i,-1] == 3) & (m < 300*index):\n",
    "            new[m,:] = data[i,:-1]\n",
    "            label[m] = data[i,-1]\n",
    "            m = m+1         \n",
    "        elif (data[i,-1] == 4) & (cnt1 < 400*index):\n",
    "            new[cnt1,:] = data[i,:-1]\n",
    "            label[cnt1] = data[i,-1]\n",
    "            cnt1 = cnt1+1  \n",
    "        elif (data[i,-1] == 5) & (cnt2 < 500*index):\n",
    "            new[cnt2,:] = data[i,:-1]\n",
    "            label[cnt2] = data[i,-1]\n",
    "            cnt2 = cnt2+1  \n",
    "    print(j,k,m,cnt1,cnt2)\n",
    "    return new, label"
   ]
  },
  {
   "cell_type": "markdown",
   "metadata": {},
   "source": [
    "### Get the pixel locations and test on a sample data"
   ]
  },
  {
   "cell_type": "code",
   "execution_count": 47,
   "metadata": {},
   "outputs": [
    {
     "data": {
      "text/plain": [
       "<matplotlib.colorbar.Colorbar at 0x24800055f8>"
      ]
     },
     "execution_count": 47,
     "metadata": {},
     "output_type": "execute_result"
    },
    {
     "data": {
      "image/png": "[encoded data removed]",
      "text/plain": [
       "<matplotlib.figure.Figure at 0x24da69e6d8>"
      ]
     },
     "metadata": {
      "needs_background": "light"
     },
     "output_type": "display_data"
    }
   ],
   "source": [
    "dir0 = 'D:\\\\Rescaled_data1'\n",
    "img = cv2.imread('D:\\\\Rescaled_data\\\\b2006061022m.png',0)\n",
    "data = img\n",
    "center_x= (10+120)\n",
    "center_y=(9+120)\n",
    "radius_outer = 120 /(np.sqrt(2))\n",
    "radius_inner=120 /2\n",
    "x_len = 256\n",
    "y_len = 256\n",
    "loc1 = Get_Round_Pixel_Locations(data,radius_inner,center_x,center_y)\n",
    "loc2 = Get_Ring_Pixel_Locations(data,radius_inner,radius_outer,center_x,center_y)\n",
    "data1 = Get_Data(data, loc1)\n",
    "data2 = Get_Data(data, loc2)\n",
    "new1 = Reconstruct_Data(data1,loc1,x_len,y_len)\n",
    "new2 = Reconstruct_Data(data2,loc2,x_len,y_len)\n",
    "new = new1 + new2\n",
    "plt.figure\n",
    "plt.imshow(new, cmap='gray')\n",
    "plt.colorbar()"
   ]
  },
  {
   "cell_type": "markdown",
   "metadata": {},
   "source": [
    "### Get the 3 PC of K-PCA Transformation (10-fold Cross Validation) "
   ]
  },
  {
   "cell_type": "code",
   "execution_count": 48,
   "metadata": {},
   "outputs": [
    {
     "name": "stdout",
     "output_type": "stream",
     "text": [
      "19290\n",
      "100 200 300 400 500\n",
      "100 200 300 400 500\n",
      "100 200 300 400 500\n",
      "100 200 300 400 500\n"
     ]
    }
   ],
   "source": [
    "#loads the entire dataset\n",
    "data1b,data1r,data2b,data2r = data_slicing(dir0,loc1,loc2)\n",
    "# data1b,label1 = data_cleaning15(data1b)\n",
    "# data1r,label2 = data_cleaning15(data1r)\n",
    "# data2b,label1 = data_cleaning15(data2b)\n",
    "# data2r,label2 = data_cleaning15(data2r)\n",
    "data1b,label1 = data_cleaning100(data1b)\n",
    "data1r,label2 = data_cleaning100(data1r)\n",
    "data2b,label1 = data_cleaning100(data2b)\n",
    "data2r,label2 = data_cleaning100(data2r)"
   ]
  },
  {
   "cell_type": "code",
   "execution_count": 49,
   "metadata": {},
   "outputs": [],
   "source": [
    "from sklearn.naive_bayes import MultinomialNB\n",
    "from sklearn.preprocessing import StandardScaler\n",
    "from sklearn import linear_model, datasets\n",
    "from sklearn.model_selection import KFold\n",
    "def Naive_Bayes(X_train, X_test,y_train, y_test):\n",
    "    clf = MultinomialNB()\n",
    "    clf.fit(X_train, y_train)\n",
    "    MultinomialNB(alpha=1.0, class_prior=None, fit_prior=True)\n",
    "    pred = clf.predict(X_test)\n",
    "    err = pred - y_test\n",
    "    err= np.asarray(err)\n",
    "    j = 0\n",
    "    for i in range(len(err)):\n",
    "        if err[i] == 0:\n",
    "            j += 1\n",
    "    return j/len(err)\n",
    "\n",
    "def Multi_Regression(X_train1,X_test1,Y_train1,Y_test1):\n",
    "    sc = StandardScaler()\n",
    "    sc.fit(X_train1)\n",
    "    X_train_std1 = sc.transform(X_train1)\n",
    "    X_test_std1 = sc.transform(X_test1)\n",
    "    logreg = linear_model.LogisticRegression()\n",
    "    logreg.fit(X_train1, Y_train1)\n",
    "    prepro = logreg.predict_proba(X_test_std1)\n",
    "    acc = logreg.score(X_test_std1,Y_test1)\n",
    "    return acc\n",
    "def cross_validataion(X,y):\n",
    "    kf = KFold(n_splits=10, random_state=5889098, shuffle=True)\n",
    "    acc = np.zeros([10,2])\n",
    "    i = 0\n",
    "    for train_index, test_index in kf.split(X):\n",
    "        \n",
    "        print(\"TRAIN:\", train_index, \"TEST:\", test_index)\n",
    "        X_train, X_test = X[train_index], X[test_index]\n",
    "        y_train, y_test = y[train_index], y[test_index]\n",
    "        kpca = KernelPCA(kernel=\"linear\", fit_inverse_transform=True, gamma=10)\n",
    "        X_kpca = kpca.fit_transform(data_normalization(X))\n",
    "        X_train = data_normalization(X_train)\n",
    "        X_test = data_normalization(X_test)\n",
    "        #X_train1 = X_kpca[:,:10]\n",
    "        X_train1 = X_kpca[train_index,:3]\n",
    "        #X_kpca = kpca.fit_transform(X_test)\n",
    "#         X_test1 = X_kpca[:,:10]\n",
    "        X_test1 = X_kpca[test_index,:3]\n",
    "        acc[i,0] = Naive_Bayes(X_train, X_test,y_train, y_test)\n",
    "        acc[i,1] = Multi_Regression(X_train1, X_test1,y_train, y_test)\n",
    "        i = i+1\n",
    "    return acc"
   ]
  },
  {
   "cell_type": "code",
   "execution_count": 50,
   "metadata": {},
   "outputs": [
    {
     "name": "stdout",
     "output_type": "stream",
     "text": [
      "TRAIN: [  0   1   3   4   5   6   7   8   9  10  12  13  14  15  17  18  19  21\n",
      "  23  25  26  27  28  29  30  31  32  33  34  35  36  37  38  39  40  41\n",
      "  43  44  45  46  47  48  49  50  51  52  53  54  55  56  57  58  59  60\n",
      "  61  62  63  64  65  66  68  69  70  72  73  74  75  76  77  78  79  80\n",
      "  81  82  83  84  85  86  87  89  90  91  92  93  94  95  96  97  98  99\n",
      " 101 102 103 104 105 106 107 108 109 111 112 113 114 115 116 117 118 119\n",
      " 120 121 122 123 124 125 126 127 128 130 131 132 134 135 136 137 138 139\n",
      " 140 141 143 144 145 146 147 148 149 150 151 152 153 154 155 156 157 158\n",
      " 159 160 161 162 163 164 165 166 168 170 171 172 173 175 176 177 178 179\n",
      " 180 181 182 183 184 185 186 187 188 189 190 191 193 194 195 196 197 198\n",
      " 199 200 201 202 203 204 205 206 207 208 209 211 213 214 215 216 217 218\n",
      " 219 220 221 222 223 224 225 226 227 228 231 232 233 234 235 237 238 240\n",
      " 241 242 243 244 246 247 248 249 250 251 252 253 254 256 257 259 260 261\n",
      " 262 264 265 266 267 268 270 271 272 273 274 275 276 277 279 280 281 282\n",
      " 283 284 285 286 287 288 289 290 291 292 293 294 296 297 298 299 300 301\n",
      " 302 303 304 305 306 307 308 309 310 312 313 314 315 317 318 319 321 322\n",
      " 323 324 326 327 328 329 330 331 332 333 334 335 336 337 338 339 340 341\n",
      " 342 343 344 345 346 347 348 349 350 351 352 353 354 355 357 358 359 360\n",
      " 361 362 363 364 365 366 367 368 369 370 371 372 373 374 375 376 377 378\n",
      " 379 380 382 383 384 385 386 387 388 389 390 391 392 393 394 395 396 398\n",
      " 399 400 401 402 403 404 405 406 407 408 409 410 411 412 413 416 417 418\n",
      " 419 420 421 422 423 424 425 426 427 428 429 430 431 432 433 434 435 436\n",
      " 437 438 439 440 443 444 445 446 447 448 450 453 454 455 456 457 458 459\n",
      " 460 461 462 463 464 465 467 468 469 470 472 473 474 475 476 477 478 479\n",
      " 480 481 483 484 485 486 487 488 489 490 491 492 494 495 496 497 498 499] TEST: [  2  11  16  20  22  24  42  67  71  88 100 110 129 133 142 167 169 174\n",
      " 192 210 212 229 230 236 239 245 255 258 263 269 278 295 311 316 320 325\n",
      " 356 381 397 414 415 441 442 449 451 452 466 471 482 493]\n"
     ]
    },
    {
     "name": "stderr",
     "output_type": "stream",
     "text": [
      "c:\\users\\tony\\anaconda3\\lib\\site-packages\\sklearn\\linear_model\\logistic.py:432: FutureWarning: Default solver will be changed to 'lbfgs' in 0.22. Specify a solver to silence this warning.\n",
      "  FutureWarning)\n",
      "c:\\users\\tony\\anaconda3\\lib\\site-packages\\sklearn\\linear_model\\logistic.py:459: FutureWarning: Default multi_class will be changed to 'auto' in 0.22. Specify the multi_class option to silence this warning.\n",
      "  \"this warning.\", FutureWarning)\n"
     ]
    },
    {
     "name": "stdout",
     "output_type": "stream",
     "text": [
      "TRAIN: [  0   1   2   3   4   5   6   7   8   9  10  11  12  13  14  15  16  17\n",
      "  19  20  21  22  23  24  25  26  27  28  29  30  31  33  34  35  36  37\n",
      "  38  39  40  41  42  43  44  45  46  47  49  50  51  52  53  54  55  56\n",
      "  57  58  59  60  61  63  64  65  67  68  69  70  71  72  73  74  75  76\n",
      "  77  78  79  81  82  83  84  85  86  87  88  90  93  94  95  96  97  98\n",
      "  99 100 101 102 103 104 105 106 107 108 109 110 111 112 114 115 116 117\n",
      " 118 119 120 121 122 123 124 125 126 127 128 129 130 131 132 133 134 135\n",
      " 136 137 138 139 142 143 144 145 146 147 148 149 150 151 152 153 154 156\n",
      " 157 158 159 160 161 162 163 164 165 166 167 168 169 170 171 172 173 174\n",
      " 175 176 177 178 179 180 181 182 186 187 188 190 192 193 195 197 198 199\n",
      " 200 201 202 203 204 205 206 207 209 210 211 212 213 215 216 217 219 220\n",
      " 221 222 224 226 227 228 229 230 231 232 233 234 235 236 237 238 239 240\n",
      " 241 243 244 245 246 247 248 250 251 253 254 255 257 258 260 261 263 264\n",
      " 266 267 268 269 270 273 274 275 276 277 278 279 280 281 282 283 284 285\n",
      " 286 287 288 289 290 292 293 294 295 296 297 298 299 300 301 302 303 304\n",
      " 305 306 307 308 309 310 311 312 313 314 315 316 317 319 320 322 323 324\n",
      " 325 326 327 328 329 330 331 332 333 334 335 337 338 339 340 341 343 344\n",
      " 345 347 348 349 350 351 352 353 354 355 356 357 358 359 360 361 362 363\n",
      " 364 365 366 367 368 370 371 372 373 374 375 376 377 378 380 381 382 383\n",
      " 384 385 386 388 389 390 391 392 393 394 395 396 397 398 399 400 401 402\n",
      " 403 404 405 406 407 408 409 410 411 412 413 414 415 416 417 419 420 421\n",
      " 422 423 424 425 427 428 429 430 431 432 433 434 435 436 437 438 439 440\n",
      " 441 442 444 445 446 447 448 449 450 451 452 453 454 456 457 458 459 460\n",
      " 461 462 463 464 465 466 467 468 469 470 471 472 473 474 475 476 478 479\n",
      " 480 481 482 483 484 485 487 488 489 490 491 492 493 494 495 496 498 499] TEST: [ 18  32  48  62  66  80  89  91  92 113 140 141 155 183 184 185 189 191\n",
      " 194 196 208 214 218 223 225 242 249 252 256 259 262 265 271 272 291 318\n",
      " 321 336 342 346 369 379 387 418 426 443 455 477 486 497]\n"
     ]
    },
    {
     "name": "stderr",
     "output_type": "stream",
     "text": [
      "c:\\users\\tony\\anaconda3\\lib\\site-packages\\sklearn\\linear_model\\logistic.py:432: FutureWarning: Default solver will be changed to 'lbfgs' in 0.22. Specify a solver to silence this warning.\n",
      "  FutureWarning)\n",
      "c:\\users\\tony\\anaconda3\\lib\\site-packages\\sklearn\\linear_model\\logistic.py:459: FutureWarning: Default multi_class will be changed to 'auto' in 0.22. Specify the multi_class option to silence this warning.\n",
      "  \"this warning.\", FutureWarning)\n"
     ]
    },
    {
     "name": "stdout",
     "output_type": "stream",
     "text": [
      "TRAIN: [  0   1   2   3   4   5   6   7   8   9  10  11  12  13  14  15  16  17\n",
      "  18  19  20  21  22  23  24  25  26  27  28  29  30  31  32  33  34  35\n",
      "  37  38  39  40  42  44  45  46  47  48  49  50  51  52  53  54  56  57\n",
      "  58  59  60  61  62  64  65  66  67  69  70  71  73  74  75  76  77  78\n",
      "  79  80  81  82  83  84  85  86  87  88  89  90  91  92  93  94  95  96\n",
      "  97  99 100 101 102 103 104 105 106 107 108 109 110 111 112 113 114 115\n",
      " 117 118 119 120 122 123 124 125 127 129 130 131 132 133 134 135 137 139\n",
      " 140 141 142 143 144 145 146 147 148 149 150 151 152 154 155 156 159 160\n",
      " 161 162 163 164 165 166 167 168 169 170 171 172 173 174 175 176 177 178\n",
      " 181 182 183 184 185 186 187 188 189 191 192 193 194 196 197 199 200 202\n",
      " 203 204 205 207 208 209 210 211 212 213 214 215 216 217 218 219 220 221\n",
      " 222 223 224 225 226 227 228 229 230 231 232 233 234 235 236 237 238 239\n",
      " 241 242 243 244 245 246 247 248 249 250 251 252 253 254 255 256 257 258\n",
      " 259 260 262 263 265 266 267 268 269 270 271 272 273 275 276 277 278 279\n",
      " 280 281 282 283 284 286 287 288 289 290 291 292 293 294 295 296 297 298\n",
      " 299 300 301 303 304 305 306 307 308 309 311 312 313 314 315 316 317 318\n",
      " 319 320 321 322 323 324 325 326 327 328 329 330 331 332 333 334 335 336\n",
      " 337 338 339 340 341 342 343 344 345 346 347 348 349 350 351 352 353 355\n",
      " 356 357 358 359 360 361 362 363 364 366 368 369 371 372 373 374 375 376\n",
      " 377 378 379 380 381 382 383 385 386 387 388 390 391 392 393 394 395 396\n",
      " 397 398 399 400 401 402 403 404 405 406 407 408 409 410 411 412 413 414\n",
      " 415 416 417 418 420 421 424 425 426 427 429 430 431 432 433 434 435 436\n",
      " 438 439 440 441 442 443 444 445 446 447 449 450 451 452 453 454 455 456\n",
      " 457 458 459 460 461 462 463 464 465 466 468 469 470 471 472 473 474 476\n",
      " 477 478 479 480 482 483 484 485 486 487 489 490 492 493 496 497 498 499] TEST: [ 36  41  43  55  63  68  72  98 116 121 126 128 136 138 153 157 158 179\n",
      " 180 190 195 198 201 206 240 261 264 274 285 302 310 354 365 367 370 384\n",
      " 389 419 422 423 428 437 448 467 475 481 488 491 494 495]\n"
     ]
    },
    {
     "name": "stderr",
     "output_type": "stream",
     "text": [
      "c:\\users\\tony\\anaconda3\\lib\\site-packages\\sklearn\\linear_model\\logistic.py:432: FutureWarning: Default solver will be changed to 'lbfgs' in 0.22. Specify a solver to silence this warning.\n",
      "  FutureWarning)\n",
      "c:\\users\\tony\\anaconda3\\lib\\site-packages\\sklearn\\linear_model\\logistic.py:459: FutureWarning: Default multi_class will be changed to 'auto' in 0.22. Specify the multi_class option to silence this warning.\n",
      "  \"this warning.\", FutureWarning)\n"
     ]
    },
    {
     "name": "stdout",
     "output_type": "stream",
     "text": [
      "TRAIN: [  0   1   2   4   5   6   8   9  10  11  12  13  14  15  16  17  18  19\n",
      "  20  21  22  23  24  25  26  27  28  29  30  31  32  33  34  35  36  37\n",
      "  38  39  40  41  42  43  44  45  46  48  49  52  54  55  56  57  58  59\n",
      "  60  61  62  63  64  65  66  67  68  69  70  71  72  73  74  76  77  78\n",
      "  80  81  82  83  84  85  86  87  88  89  90  91  92  93  94  95  96  97\n",
      "  98 100 101 102 103 105 106 107 108 109 110 111 112 113 114 115 116 117\n",
      " 118 119 120 121 122 123 125 126 127 128 129 130 131 132 133 134 135 136\n",
      " 137 138 139 140 141 142 143 144 145 147 148 149 150 151 153 154 155 156\n",
      " 157 158 159 160 161 162 163 164 165 166 167 168 169 170 171 173 174 175\n",
      " 176 177 179 180 181 182 183 184 185 186 187 188 189 190 191 192 194 195\n",
      " 196 198 199 201 202 203 204 205 206 207 208 209 210 212 214 215 216 217\n",
      " 218 219 220 221 222 223 224 225 226 227 228 229 230 231 233 234 235 236\n",
      " 238 239 240 241 242 243 244 245 246 247 248 249 250 252 253 254 255 256\n",
      " 257 258 259 260 261 262 263 264 265 266 267 268 269 270 271 272 273 274\n",
      " 275 276 277 278 279 280 281 282 283 284 285 286 287 288 289 290 291 292\n",
      " 293 294 295 297 298 299 300 301 302 303 305 306 307 308 309 310 311 312\n",
      " 313 315 316 317 318 319 320 321 322 323 325 326 327 328 329 330 331 332\n",
      " 333 334 336 337 338 340 341 342 343 344 345 346 348 349 350 351 352 353\n",
      " 354 355 356 357 358 359 360 361 362 363 364 365 366 367 368 369 370 371\n",
      " 372 373 374 376 379 380 381 382 383 384 385 387 388 389 390 391 392 393\n",
      " 394 395 397 398 399 400 401 403 405 406 407 411 412 413 414 415 417 418\n",
      " 419 420 421 422 423 424 425 426 427 428 429 430 431 432 433 434 435 436\n",
      " 437 438 439 440 441 442 443 444 446 447 448 449 451 452 453 454 455 457\n",
      " 458 459 460 461 463 464 466 467 468 471 472 473 474 475 476 477 478 479\n",
      " 480 481 482 483 485 486 487 488 489 491 492 493 494 495 496 497 498 499] TEST: [  3   7  47  50  51  53  75  79  99 104 124 146 152 172 178 193 197 200\n",
      " 211 213 232 237 251 296 304 314 324 335 339 347 375 377 378 386 396 402\n",
      " 404 408 409 410 416 445 450 456 462 465 469 470 484 490]\n"
     ]
    },
    {
     "name": "stderr",
     "output_type": "stream",
     "text": [
      "c:\\users\\tony\\anaconda3\\lib\\site-packages\\sklearn\\linear_model\\logistic.py:432: FutureWarning: Default solver will be changed to 'lbfgs' in 0.22. Specify a solver to silence this warning.\n",
      "  FutureWarning)\n",
      "c:\\users\\tony\\anaconda3\\lib\\site-packages\\sklearn\\linear_model\\logistic.py:459: FutureWarning: Default multi_class will be changed to 'auto' in 0.22. Specify the multi_class option to silence this warning.\n",
      "  \"this warning.\", FutureWarning)\n"
     ]
    },
    {
     "name": "stdout",
     "output_type": "stream",
     "text": [
      "TRAIN: [  0   1   2   3   4   7   8   9  10  11  12  13  14  16  18  20  21  22\n",
      "  23  24  26  27  29  31  32  33  34  35  36  38  39  40  41  42  43  44\n",
      "  45  46  47  48  49  50  51  52  53  54  55  57  59  60  61  62  63  65\n",
      "  66  67  68  69  71  72  73  74  75  76  78  79  80  81  82  83  84  85\n",
      "  86  87  88  89  90  91  92  93  94  95  96  97  98  99 100 101 102 103\n",
      " 104 105 106 107 108 109 110 111 112 113 114 115 116 117 118 119 121 122\n",
      " 123 124 125 126 128 129 130 131 132 133 134 135 136 137 138 140 141 142\n",
      " 143 144 145 146 147 148 150 151 152 153 154 155 156 157 158 159 160 161\n",
      " 162 164 165 166 167 168 169 170 171 172 173 174 175 176 177 178 179 180\n",
      " 181 182 183 184 185 186 188 189 190 191 192 193 194 195 196 197 198 200\n",
      " 201 203 204 205 206 208 209 210 211 212 213 214 215 216 217 218 219 220\n",
      " 221 222 223 225 226 227 228 229 230 231 232 233 234 236 237 238 239 240\n",
      " 242 244 245 246 247 248 249 250 251 252 253 254 255 256 257 258 259 260\n",
      " 261 262 263 264 265 266 268 269 270 271 272 273 274 275 276 277 278 279\n",
      " 280 282 283 285 286 287 288 289 290 291 292 295 296 297 298 299 300 301\n",
      " 302 303 304 305 306 307 308 310 311 312 313 314 315 316 318 319 320 321\n",
      " 322 323 324 325 327 328 329 331 332 334 335 336 337 338 339 340 342 343\n",
      " 344 345 346 347 349 351 352 353 354 355 356 357 360 361 362 363 364 365\n",
      " 367 368 369 370 371 372 373 374 375 376 377 378 379 380 381 383 384 385\n",
      " 386 387 388 389 390 392 393 394 395 396 397 398 399 400 401 402 403 404\n",
      " 405 406 407 408 409 410 411 412 413 414 415 416 417 418 419 420 422 423\n",
      " 424 425 426 427 428 429 430 431 432 433 435 436 437 438 440 441 442 443\n",
      " 444 445 446 447 448 449 450 451 452 453 454 455 456 457 458 459 460 461\n",
      " 462 463 464 465 466 467 468 469 470 471 472 473 474 475 477 478 479 481\n",
      " 482 483 484 485 486 487 488 489 490 491 492 493 494 495 496 497 498 499] TEST: [  5   6  15  17  19  25  28  30  37  56  58  64  70  77 120 127 139 149\n",
      " 163 187 199 202 207 224 235 241 243 267 281 284 293 294 309 317 326 330\n",
      " 333 341 348 350 358 359 366 382 391 421 434 439 476 480]\n"
     ]
    },
    {
     "name": "stderr",
     "output_type": "stream",
     "text": [
      "c:\\users\\tony\\anaconda3\\lib\\site-packages\\sklearn\\linear_model\\logistic.py:432: FutureWarning: Default solver will be changed to 'lbfgs' in 0.22. Specify a solver to silence this warning.\n",
      "  FutureWarning)\n",
      "c:\\users\\tony\\anaconda3\\lib\\site-packages\\sklearn\\linear_model\\logistic.py:459: FutureWarning: Default multi_class will be changed to 'auto' in 0.22. Specify the multi_class option to silence this warning.\n",
      "  \"this warning.\", FutureWarning)\n"
     ]
    },
    {
     "name": "stdout",
     "output_type": "stream",
     "text": [
      "TRAIN: [  0   1   2   3   4   5   6   7   8   9  11  12  13  14  15  16  17  18\n",
      "  19  20  21  22  23  24  25  26  28  29  30  32  33  34  35  36  37  38\n",
      "  39  41  42  43  44  45  46  47  48  49  50  51  52  53  54  55  56  57\n",
      "  58  59  60  61  62  63  64  65  66  67  68  69  70  71  72  74  75  76\n",
      "  77  78  79  80  81  82  84  85  86  87  88  89  90  91  92  93  94  95\n",
      "  96  97  98  99 100 101 102 103 104 105 106 107 110 111 113 114 115 116\n",
      " 117 118 120 121 122 123 124 125 126 127 128 129 130 131 132 133 134 135\n",
      " 136 137 138 139 140 141 142 143 144 145 146 148 149 151 152 153 154 155\n",
      " 156 157 158 159 161 162 163 164 165 166 167 168 169 170 171 172 173 174\n",
      " 175 176 178 179 180 181 182 183 184 185 186 187 188 189 190 191 192 193\n",
      " 194 195 196 197 198 199 200 201 202 205 206 207 208 210 211 212 213 214\n",
      " 216 218 219 220 221 222 223 224 225 226 227 228 229 230 231 232 234 235\n",
      " 236 237 238 239 240 241 242 243 245 246 247 248 249 250 251 252 253 254\n",
      " 255 256 257 258 259 261 262 263 264 265 266 267 268 269 270 271 272 274\n",
      " 275 276 277 278 279 280 281 284 285 287 290 291 292 293 294 295 296 299\n",
      " 302 303 304 308 309 310 311 312 313 314 315 316 317 318 319 320 321 322\n",
      " 323 324 325 326 328 329 330 332 333 335 336 337 338 339 340 341 342 343\n",
      " 344 345 346 347 348 349 350 351 353 354 355 356 357 358 359 360 361 362\n",
      " 364 365 366 367 368 369 370 371 372 373 374 375 376 377 378 379 381 382\n",
      " 383 384 385 386 387 388 389 390 391 393 394 395 396 397 398 399 400 401\n",
      " 402 403 404 405 406 407 408 409 410 411 413 414 415 416 417 418 419 421\n",
      " 422 423 424 425 426 427 428 429 430 431 432 434 435 436 437 438 439 441\n",
      " 442 443 444 445 446 447 448 449 450 451 452 453 455 456 457 458 459 462\n",
      " 463 464 465 466 467 468 469 470 471 472 473 474 475 476 477 478 479 480\n",
      " 481 482 483 484 485 486 487 488 489 490 491 493 494 495 496 497 498 499] TEST: [ 10  27  31  40  73  83 108 109 112 119 147 150 160 177 203 204 209 215\n",
      " 217 233 244 260 273 282 283 286 288 289 297 298 300 301 305 306 307 327\n",
      " 331 334 352 363 380 392 412 420 433 440 454 460 461 492]\n"
     ]
    },
    {
     "name": "stderr",
     "output_type": "stream",
     "text": [
      "c:\\users\\tony\\anaconda3\\lib\\site-packages\\sklearn\\linear_model\\logistic.py:432: FutureWarning: Default solver will be changed to 'lbfgs' in 0.22. Specify a solver to silence this warning.\n",
      "  FutureWarning)\n",
      "c:\\users\\tony\\anaconda3\\lib\\site-packages\\sklearn\\linear_model\\logistic.py:459: FutureWarning: Default multi_class will be changed to 'auto' in 0.22. Specify the multi_class option to silence this warning.\n",
      "  \"this warning.\", FutureWarning)\n"
     ]
    },
    {
     "name": "stdout",
     "output_type": "stream",
     "text": [
      "TRAIN: [  0   1   2   3   4   5   6   7   8   9  10  11  12  13  14  15  16  17\n",
      "  18  19  20  22  23  24  25  26  27  28  29  30  31  32  33  35  36  37\n",
      "  38  39  40  41  42  43  44  46  47  48  49  50  51  52  53  54  55  56\n",
      "  58  59  62  63  64  65  66  67  68  69  70  71  72  73  74  75  77  78\n",
      "  79  80  81  82  83  85  86  87  88  89  91  92  93  95  96  97  98  99\n",
      " 100 101 104 105 107 108 109 110 111 112 113 114 115 116 117 118 119 120\n",
      " 121 122 123 124 125 126 127 128 129 130 132 133 136 137 138 139 140 141\n",
      " 142 144 145 146 147 148 149 150 151 152 153 154 155 156 157 158 159 160\n",
      " 162 163 164 167 168 169 170 171 172 173 174 175 176 177 178 179 180 181\n",
      " 182 183 184 185 187 188 189 190 191 192 193 194 195 196 197 198 199 200\n",
      " 201 202 203 204 205 206 207 208 209 210 211 212 213 214 215 216 217 218\n",
      " 219 220 221 222 223 224 225 227 228 229 230 231 232 233 234 235 236 237\n",
      " 238 239 240 241 242 243 244 245 246 248 249 250 251 252 254 255 256 257\n",
      " 258 259 260 261 262 263 264 265 266 267 268 269 270 271 272 273 274 275\n",
      " 277 278 279 280 281 282 283 284 285 286 287 288 289 290 291 292 293 294\n",
      " 295 296 297 298 300 301 302 303 304 305 306 307 308 309 310 311 312 313\n",
      " 314 315 316 317 318 319 320 321 322 324 325 326 327 328 329 330 331 332\n",
      " 333 334 335 336 337 339 341 342 343 344 345 346 347 348 349 350 351 352\n",
      " 354 355 356 357 358 359 361 362 363 365 366 367 368 369 370 371 372 373\n",
      " 374 375 376 377 378 379 380 381 382 384 386 387 389 390 391 392 394 395\n",
      " 396 397 399 401 402 403 404 405 406 408 409 410 411 412 413 414 415 416\n",
      " 417 418 419 420 421 422 423 425 426 428 429 431 432 433 434 436 437 438\n",
      " 439 440 441 442 443 445 446 448 449 450 451 452 453 454 455 456 457 458\n",
      " 459 460 461 462 463 464 465 466 467 468 469 470 471 475 476 477 478 479\n",
      " 480 481 482 483 484 485 486 488 489 490 491 492 493 494 495 496 497 499] TEST: [ 21  34  45  57  60  61  76  84  90  94 102 103 106 131 134 135 143 161\n",
      " 165 166 186 226 247 253 276 299 323 338 340 353 360 364 383 385 388 393\n",
      " 398 400 407 424 427 430 435 444 447 472 473 474 487 498]\n"
     ]
    },
    {
     "name": "stderr",
     "output_type": "stream",
     "text": [
      "c:\\users\\tony\\anaconda3\\lib\\site-packages\\sklearn\\linear_model\\logistic.py:432: FutureWarning: Default solver will be changed to 'lbfgs' in 0.22. Specify a solver to silence this warning.\n",
      "  FutureWarning)\n",
      "c:\\users\\tony\\anaconda3\\lib\\site-packages\\sklearn\\linear_model\\logistic.py:459: FutureWarning: Default multi_class will be changed to 'auto' in 0.22. Specify the multi_class option to silence this warning.\n",
      "  \"this warning.\", FutureWarning)\n"
     ]
    },
    {
     "name": "stdout",
     "output_type": "stream",
     "text": [
      "TRAIN: [  1   2   3   4   5   6   7  10  11  12  13  15  16  17  18  19  20  21\n",
      "  22  23  24  25  26  27  28  29  30  31  32  34  35  36  37  38  40  41\n",
      "  42  43  45  47  48  49  50  51  52  53  55  56  57  58  59  60  61  62\n",
      "  63  64  66  67  68  69  70  71  72  73  74  75  76  77  78  79  80  82\n",
      "  83  84  86  87  88  89  90  91  92  94  95  96  97  98  99 100 101 102\n",
      " 103 104 105 106 107 108 109 110 111 112 113 114 115 116 117 118 119 120\n",
      " 121 122 124 126 127 128 129 131 133 134 135 136 137 138 139 140 141 142\n",
      " 143 144 145 146 147 149 150 152 153 154 155 157 158 159 160 161 162 163\n",
      " 165 166 167 168 169 171 172 173 174 175 176 177 178 179 180 181 183 184\n",
      " 185 186 187 188 189 190 191 192 193 194 195 196 197 198 199 200 201 202\n",
      " 203 204 205 206 207 208 209 210 211 212 213 214 215 216 217 218 219 221\n",
      " 222 223 224 225 226 227 228 229 230 231 232 233 235 236 237 238 239 240\n",
      " 241 242 243 244 245 246 247 249 250 251 252 253 254 255 256 258 259 260\n",
      " 261 262 263 264 265 266 267 268 269 270 271 272 273 274 276 277 278 280\n",
      " 281 282 283 284 285 286 287 288 289 291 292 293 294 295 296 297 298 299\n",
      " 300 301 302 303 304 305 306 307 309 310 311 313 314 316 317 318 320 321\n",
      " 322 323 324 325 326 327 329 330 331 333 334 335 336 337 338 339 340 341\n",
      " 342 345 346 347 348 349 350 352 353 354 355 356 357 358 359 360 361 362\n",
      " 363 364 365 366 367 368 369 370 371 372 373 374 375 376 377 378 379 380\n",
      " 381 382 383 384 385 386 387 388 389 390 391 392 393 394 395 396 397 398\n",
      " 399 400 401 402 403 404 407 408 409 410 412 414 415 416 417 418 419 420\n",
      " 421 422 423 424 425 426 427 428 429 430 431 433 434 435 436 437 438 439\n",
      " 440 441 442 443 444 445 447 448 449 450 451 452 453 454 455 456 457 458\n",
      " 459 460 461 462 463 464 465 466 467 468 469 470 471 472 473 474 475 476\n",
      " 477 480 481 482 484 485 486 487 488 489 490 491 492 493 494 495 497 498] TEST: [  0   8   9  14  33  39  44  46  54  65  81  85  93 123 125 130 132 148\n",
      " 151 156 164 170 182 220 234 248 257 275 279 290 308 312 315 319 328 332\n",
      " 343 344 351 405 406 411 413 432 446 478 479 483 496 499]\n"
     ]
    },
    {
     "name": "stderr",
     "output_type": "stream",
     "text": [
      "c:\\users\\tony\\anaconda3\\lib\\site-packages\\sklearn\\linear_model\\logistic.py:432: FutureWarning: Default solver will be changed to 'lbfgs' in 0.22. Specify a solver to silence this warning.\n",
      "  FutureWarning)\n",
      "c:\\users\\tony\\anaconda3\\lib\\site-packages\\sklearn\\linear_model\\logistic.py:459: FutureWarning: Default multi_class will be changed to 'auto' in 0.22. Specify the multi_class option to silence this warning.\n",
      "  \"this warning.\", FutureWarning)\n"
     ]
    },
    {
     "name": "stdout",
     "output_type": "stream",
     "text": [
      "TRAIN: [  0   1   2   3   5   6   7   8   9  10  11  13  14  15  16  17  18  19\n",
      "  20  21  22  23  24  25  27  28  29  30  31  32  33  34  36  37  38  39\n",
      "  40  41  42  43  44  45  46  47  48  49  50  51  52  53  54  55  56  57\n",
      "  58  59  60  61  62  63  64  65  66  67  68  70  71  72  73  74  75  76\n",
      "  77  79  80  81  82  83  84  85  86  88  89  90  91  92  93  94  95  96\n",
      "  98  99 100 101 102 103 104 105 106 108 109 110 112 113 116 118 119 120\n",
      " 121 123 124 125 126 127 128 129 130 131 132 133 134 135 136 137 138 139\n",
      " 140 141 142 143 144 146 147 148 149 150 151 152 153 155 156 157 158 159\n",
      " 160 161 162 163 164 165 166 167 168 169 170 172 174 177 178 179 180 182\n",
      " 183 184 185 186 187 189 190 191 192 193 194 195 196 197 198 199 200 201\n",
      " 202 203 204 205 206 207 208 209 210 211 212 213 214 215 217 218 219 220\n",
      " 222 223 224 225 226 229 230 231 232 233 234 235 236 237 239 240 241 242\n",
      " 243 244 245 246 247 248 249 251 252 253 255 256 257 258 259 260 261 262\n",
      " 263 264 265 267 269 270 271 272 273 274 275 276 277 278 279 281 282 283\n",
      " 284 285 286 287 288 289 290 291 292 293 294 295 296 297 298 299 300 301\n",
      " 302 304 305 306 307 308 309 310 311 312 313 314 315 316 317 318 319 320\n",
      " 321 322 323 324 325 326 327 328 329 330 331 332 333 334 335 336 338 339\n",
      " 340 341 342 343 344 346 347 348 350 351 352 353 354 356 358 359 360 362\n",
      " 363 364 365 366 367 368 369 370 372 375 376 377 378 379 380 381 382 383\n",
      " 384 385 386 387 388 389 391 392 393 395 396 397 398 399 400 401 402 403\n",
      " 404 405 406 407 408 409 410 411 412 413 414 415 416 417 418 419 420 421\n",
      " 422 423 424 426 427 428 429 430 431 432 433 434 435 437 438 439 440 441\n",
      " 442 443 444 445 446 447 448 449 450 451 452 453 454 455 456 458 460 461\n",
      " 462 465 466 467 468 469 470 471 472 473 474 475 476 477 478 479 480 481\n",
      " 482 483 484 485 486 487 488 489 490 491 492 493 494 495 496 497 498 499] TEST: [  4  12  26  35  69  78  87  97 107 111 114 115 117 122 145 154 171 173\n",
      " 175 176 181 188 216 221 227 228 238 250 254 266 268 280 303 337 345 349\n",
      " 355 357 361 371 373 374 390 394 425 436 457 459 463 464]\n"
     ]
    },
    {
     "name": "stderr",
     "output_type": "stream",
     "text": [
      "c:\\users\\tony\\anaconda3\\lib\\site-packages\\sklearn\\linear_model\\logistic.py:432: FutureWarning: Default solver will be changed to 'lbfgs' in 0.22. Specify a solver to silence this warning.\n",
      "  FutureWarning)\n",
      "c:\\users\\tony\\anaconda3\\lib\\site-packages\\sklearn\\linear_model\\logistic.py:459: FutureWarning: Default multi_class will be changed to 'auto' in 0.22. Specify the multi_class option to silence this warning.\n",
      "  \"this warning.\", FutureWarning)\n"
     ]
    },
    {
     "name": "stdout",
     "output_type": "stream",
     "text": [
      "TRAIN: [  0   2   3   4   5   6   7   8   9  10  11  12  14  15  16  17  18  19\n",
      "  20  21  22  24  25  26  27  28  30  31  32  33  34  35  36  37  39  40\n",
      "  41  42  43  44  45  46  47  48  50  51  53  54  55  56  57  58  60  61\n",
      "  62  63  64  65  66  67  68  69  70  71  72  73  75  76  77  78  79  80\n",
      "  81  83  84  85  87  88  89  90  91  92  93  94  97  98  99 100 102 103\n",
      " 104 106 107 108 109 110 111 112 113 114 115 116 117 119 120 121 122 123\n",
      " 124 125 126 127 128 129 130 131 132 133 134 135 136 138 139 140 141 142\n",
      " 143 145 146 147 148 149 150 151 152 153 154 155 156 157 158 160 161 163\n",
      " 164 165 166 167 169 170 171 172 173 174 175 176 177 178 179 180 181 182\n",
      " 183 184 185 186 187 188 189 190 191 192 193 194 195 196 197 198 199 200\n",
      " 201 202 203 204 206 207 208 209 210 211 212 213 214 215 216 217 218 220\n",
      " 221 223 224 225 226 227 228 229 230 232 233 234 235 236 237 238 239 240\n",
      " 241 242 243 244 245 247 248 249 250 251 252 253 254 255 256 257 258 259\n",
      " 260 261 262 263 264 265 266 267 268 269 271 272 273 274 275 276 278 279\n",
      " 280 281 282 283 284 285 286 288 289 290 291 293 294 295 296 297 298 299\n",
      " 300 301 302 303 304 305 306 307 308 309 310 311 312 314 315 316 317 318\n",
      " 319 320 321 323 324 325 326 327 328 330 331 332 333 334 335 336 337 338\n",
      " 339 340 341 342 343 344 345 346 347 348 349 350 351 352 353 354 355 356\n",
      " 357 358 359 360 361 363 364 365 366 367 369 370 371 373 374 375 377 378\n",
      " 379 380 381 382 383 384 385 386 387 388 389 390 391 392 393 394 396 397\n",
      " 398 400 402 404 405 406 407 408 409 410 411 412 413 414 415 416 418 419\n",
      " 420 421 422 423 424 425 426 427 428 430 432 433 434 435 436 437 439 440\n",
      " 441 442 443 444 445 446 447 448 449 450 451 452 454 455 456 457 459 460\n",
      " 461 462 463 464 465 466 467 469 470 471 472 473 474 475 476 477 478 479\n",
      " 480 481 482 483 484 486 487 488 490 491 492 493 494 495 496 497 498 499] TEST: [  1  13  23  29  38  49  52  59  74  82  86  95  96 101 105 118 137 144\n",
      " 159 162 168 205 219 222 231 246 270 277 287 292 313 322 329 362 368 372\n",
      " 376 395 399 401 403 417 429 431 438 453 458 468 485 489]\n"
     ]
    },
    {
     "name": "stderr",
     "output_type": "stream",
     "text": [
      "c:\\users\\tony\\anaconda3\\lib\\site-packages\\sklearn\\linear_model\\logistic.py:432: FutureWarning: Default solver will be changed to 'lbfgs' in 0.22. Specify a solver to silence this warning.\n",
      "  FutureWarning)\n",
      "c:\\users\\tony\\anaconda3\\lib\\site-packages\\sklearn\\linear_model\\logistic.py:459: FutureWarning: Default multi_class will be changed to 'auto' in 0.22. Specify the multi_class option to silence this warning.\n",
      "  \"this warning.\", FutureWarning)\n"
     ]
    },
    {
     "name": "stdout",
     "output_type": "stream",
     "text": [
      "TRAIN: [  0   1   3   4   5   6   7   8   9  10  12  13  14  15  17  18  19  21\n",
      "  23  25  26  27  28  29  30  31  32  33  34  35  36  37  38  39  40  41\n",
      "  43  44  45  46  47  48  49  50  51  52  53  54  55  56  57  58  59  60\n",
      "  61  62  63  64  65  66  68  69  70  72  73  74  75  76  77  78  79  80\n",
      "  81  82  83  84  85  86  87  89  90  91  92  93  94  95  96  97  98  99\n",
      " 101 102 103 104 105 106 107 108 109 111 112 113 114 115 116 117 118 119\n",
      " 120 121 122 123 124 125 126 127 128 130 131 132 134 135 136 137 138 139\n",
      " 140 141 143 144 145 146 147 148 149 150 151 152 153 154 155 156 157 158\n",
      " 159 160 161 162 163 164 165 166 168 170 171 172 173 175 176 177 178 179\n",
      " 180 181 182 183 184 185 186 187 188 189 190 191 193 194 195 196 197 198\n",
      " 199 200 201 202 203 204 205 206 207 208 209 211 213 214 215 216 217 218\n",
      " 219 220 221 222 223 224 225 226 227 228 231 232 233 234 235 237 238 240\n",
      " 241 242 243 244 246 247 248 249 250 251 252 253 254 256 257 259 260 261\n",
      " 262 264 265 266 267 268 270 271 272 273 274 275 276 277 279 280 281 282\n",
      " 283 284 285 286 287 288 289 290 291 292 293 294 296 297 298 299 300 301\n",
      " 302 303 304 305 306 307 308 309 310 312 313 314 315 317 318 319 321 322\n",
      " 323 324 326 327 328 329 330 331 332 333 334 335 336 337 338 339 340 341\n",
      " 342 343 344 345 346 347 348 349 350 351 352 353 354 355 357 358 359 360\n",
      " 361 362 363 364 365 366 367 368 369 370 371 372 373 374 375 376 377 378\n",
      " 379 380 382 383 384 385 386 387 388 389 390 391 392 393 394 395 396 398\n",
      " 399 400 401 402 403 404 405 406 407 408 409 410 411 412 413 416 417 418\n",
      " 419 420 421 422 423 424 425 426 427 428 429 430 431 432 433 434 435 436\n",
      " 437 438 439 440 443 444 445 446 447 448 450 453 454 455 456 457 458 459\n",
      " 460 461 462 463 464 465 467 468 469 470 472 473 474 475 476 477 478 479\n",
      " 480 481 483 484 485 486 487 488 489 490 491 492 494 495 496 497 498 499] TEST: [  2  11  16  20  22  24  42  67  71  88 100 110 129 133 142 167 169 174\n",
      " 192 210 212 229 230 236 239 245 255 258 263 269 278 295 311 316 320 325\n",
      " 356 381 397 414 415 441 442 449 451 452 466 471 482 493]\n"
     ]
    },
    {
     "name": "stderr",
     "output_type": "stream",
     "text": [
      "c:\\users\\tony\\anaconda3\\lib\\site-packages\\sklearn\\linear_model\\logistic.py:432: FutureWarning: Default solver will be changed to 'lbfgs' in 0.22. Specify a solver to silence this warning.\n",
      "  FutureWarning)\n",
      "c:\\users\\tony\\anaconda3\\lib\\site-packages\\sklearn\\linear_model\\logistic.py:459: FutureWarning: Default multi_class will be changed to 'auto' in 0.22. Specify the multi_class option to silence this warning.\n",
      "  \"this warning.\", FutureWarning)\n"
     ]
    },
    {
     "name": "stdout",
     "output_type": "stream",
     "text": [
      "TRAIN: [  0   1   2   3   4   5   6   7   8   9  10  11  12  13  14  15  16  17\n",
      "  19  20  21  22  23  24  25  26  27  28  29  30  31  33  34  35  36  37\n",
      "  38  39  40  41  42  43  44  45  46  47  49  50  51  52  53  54  55  56\n",
      "  57  58  59  60  61  63  64  65  67  68  69  70  71  72  73  74  75  76\n",
      "  77  78  79  81  82  83  84  85  86  87  88  90  93  94  95  96  97  98\n",
      "  99 100 101 102 103 104 105 106 107 108 109 110 111 112 114 115 116 117\n",
      " 118 119 120 121 122 123 124 125 126 127 128 129 130 131 132 133 134 135\n",
      " 136 137 138 139 142 143 144 145 146 147 148 149 150 151 152 153 154 156\n",
      " 157 158 159 160 161 162 163 164 165 166 167 168 169 170 171 172 173 174\n",
      " 175 176 177 178 179 180 181 182 186 187 188 190 192 193 195 197 198 199\n",
      " 200 201 202 203 204 205 206 207 209 210 211 212 213 215 216 217 219 220\n",
      " 221 222 224 226 227 228 229 230 231 232 233 234 235 236 237 238 239 240\n",
      " 241 243 244 245 246 247 248 250 251 253 254 255 257 258 260 261 263 264\n",
      " 266 267 268 269 270 273 274 275 276 277 278 279 280 281 282 283 284 285\n",
      " 286 287 288 289 290 292 293 294 295 296 297 298 299 300 301 302 303 304\n",
      " 305 306 307 308 309 310 311 312 313 314 315 316 317 319 320 322 323 324\n",
      " 325 326 327 328 329 330 331 332 333 334 335 337 338 339 340 341 343 344\n",
      " 345 347 348 349 350 351 352 353 354 355 356 357 358 359 360 361 362 363\n",
      " 364 365 366 367 368 370 371 372 373 374 375 376 377 378 380 381 382 383\n",
      " 384 385 386 388 389 390 391 392 393 394 395 396 397 398 399 400 401 402\n",
      " 403 404 405 406 407 408 409 410 411 412 413 414 415 416 417 419 420 421\n",
      " 422 423 424 425 427 428 429 430 431 432 433 434 435 436 437 438 439 440\n",
      " 441 442 444 445 446 447 448 449 450 451 452 453 454 456 457 458 459 460\n",
      " 461 462 463 464 465 466 467 468 469 470 471 472 473 474 475 476 478 479\n",
      " 480 481 482 483 484 485 487 488 489 490 491 492 493 494 495 496 498 499] TEST: [ 18  32  48  62  66  80  89  91  92 113 140 141 155 183 184 185 189 191\n",
      " 194 196 208 214 218 223 225 242 249 252 256 259 262 265 271 272 291 318\n",
      " 321 336 342 346 369 379 387 418 426 443 455 477 486 497]\n"
     ]
    },
    {
     "name": "stderr",
     "output_type": "stream",
     "text": [
      "c:\\users\\tony\\anaconda3\\lib\\site-packages\\sklearn\\linear_model\\logistic.py:432: FutureWarning: Default solver will be changed to 'lbfgs' in 0.22. Specify a solver to silence this warning.\n",
      "  FutureWarning)\n",
      "c:\\users\\tony\\anaconda3\\lib\\site-packages\\sklearn\\linear_model\\logistic.py:459: FutureWarning: Default multi_class will be changed to 'auto' in 0.22. Specify the multi_class option to silence this warning.\n",
      "  \"this warning.\", FutureWarning)\n"
     ]
    },
    {
     "name": "stdout",
     "output_type": "stream",
     "text": [
      "TRAIN: [  0   1   2   3   4   5   6   7   8   9  10  11  12  13  14  15  16  17\n",
      "  18  19  20  21  22  23  24  25  26  27  28  29  30  31  32  33  34  35\n",
      "  37  38  39  40  42  44  45  46  47  48  49  50  51  52  53  54  56  57\n",
      "  58  59  60  61  62  64  65  66  67  69  70  71  73  74  75  76  77  78\n",
      "  79  80  81  82  83  84  85  86  87  88  89  90  91  92  93  94  95  96\n",
      "  97  99 100 101 102 103 104 105 106 107 108 109 110 111 112 113 114 115\n",
      " 117 118 119 120 122 123 124 125 127 129 130 131 132 133 134 135 137 139\n",
      " 140 141 142 143 144 145 146 147 148 149 150 151 152 154 155 156 159 160\n",
      " 161 162 163 164 165 166 167 168 169 170 171 172 173 174 175 176 177 178\n",
      " 181 182 183 184 185 186 187 188 189 191 192 193 194 196 197 199 200 202\n",
      " 203 204 205 207 208 209 210 211 212 213 214 215 216 217 218 219 220 221\n",
      " 222 223 224 225 226 227 228 229 230 231 232 233 234 235 236 237 238 239\n",
      " 241 242 243 244 245 246 247 248 249 250 251 252 253 254 255 256 257 258\n",
      " 259 260 262 263 265 266 267 268 269 270 271 272 273 275 276 277 278 279\n",
      " 280 281 282 283 284 286 287 288 289 290 291 292 293 294 295 296 297 298\n",
      " 299 300 301 303 304 305 306 307 308 309 311 312 313 314 315 316 317 318\n",
      " 319 320 321 322 323 324 325 326 327 328 329 330 331 332 333 334 335 336\n",
      " 337 338 339 340 341 342 343 344 345 346 347 348 349 350 351 352 353 355\n",
      " 356 357 358 359 360 361 362 363 364 366 368 369 371 372 373 374 375 376\n",
      " 377 378 379 380 381 382 383 385 386 387 388 390 391 392 393 394 395 396\n",
      " 397 398 399 400 401 402 403 404 405 406 407 408 409 410 411 412 413 414\n",
      " 415 416 417 418 420 421 424 425 426 427 429 430 431 432 433 434 435 436\n",
      " 438 439 440 441 442 443 444 445 446 447 449 450 451 452 453 454 455 456\n",
      " 457 458 459 460 461 462 463 464 465 466 468 469 470 471 472 473 474 476\n",
      " 477 478 479 480 482 483 484 485 486 487 489 490 492 493 496 497 498 499] TEST: [ 36  41  43  55  63  68  72  98 116 121 126 128 136 138 153 157 158 179\n",
      " 180 190 195 198 201 206 240 261 264 274 285 302 310 354 365 367 370 384\n",
      " 389 419 422 423 428 437 448 467 475 481 488 491 494 495]\n"
     ]
    },
    {
     "name": "stderr",
     "output_type": "stream",
     "text": [
      "c:\\users\\tony\\anaconda3\\lib\\site-packages\\sklearn\\linear_model\\logistic.py:432: FutureWarning: Default solver will be changed to 'lbfgs' in 0.22. Specify a solver to silence this warning.\n",
      "  FutureWarning)\n",
      "c:\\users\\tony\\anaconda3\\lib\\site-packages\\sklearn\\linear_model\\logistic.py:459: FutureWarning: Default multi_class will be changed to 'auto' in 0.22. Specify the multi_class option to silence this warning.\n",
      "  \"this warning.\", FutureWarning)\n"
     ]
    },
    {
     "name": "stdout",
     "output_type": "stream",
     "text": [
      "TRAIN: [  0   1   2   4   5   6   8   9  10  11  12  13  14  15  16  17  18  19\n",
      "  20  21  22  23  24  25  26  27  28  29  30  31  32  33  34  35  36  37\n",
      "  38  39  40  41  42  43  44  45  46  48  49  52  54  55  56  57  58  59\n",
      "  60  61  62  63  64  65  66  67  68  69  70  71  72  73  74  76  77  78\n",
      "  80  81  82  83  84  85  86  87  88  89  90  91  92  93  94  95  96  97\n",
      "  98 100 101 102 103 105 106 107 108 109 110 111 112 113 114 115 116 117\n",
      " 118 119 120 121 122 123 125 126 127 128 129 130 131 132 133 134 135 136\n",
      " 137 138 139 140 141 142 143 144 145 147 148 149 150 151 153 154 155 156\n",
      " 157 158 159 160 161 162 163 164 165 166 167 168 169 170 171 173 174 175\n",
      " 176 177 179 180 181 182 183 184 185 186 187 188 189 190 191 192 194 195\n",
      " 196 198 199 201 202 203 204 205 206 207 208 209 210 212 214 215 216 217\n",
      " 218 219 220 221 222 223 224 225 226 227 228 229 230 231 233 234 235 236\n",
      " 238 239 240 241 242 243 244 245 246 247 248 249 250 252 253 254 255 256\n",
      " 257 258 259 260 261 262 263 264 265 266 267 268 269 270 271 272 273 274\n",
      " 275 276 277 278 279 280 281 282 283 284 285 286 287 288 289 290 291 292\n",
      " 293 294 295 297 298 299 300 301 302 303 305 306 307 308 309 310 311 312\n",
      " 313 315 316 317 318 319 320 321 322 323 325 326 327 328 329 330 331 332\n",
      " 333 334 336 337 338 340 341 342 343 344 345 346 348 349 350 351 352 353\n",
      " 354 355 356 357 358 359 360 361 362 363 364 365 366 367 368 369 370 371\n",
      " 372 373 374 376 379 380 381 382 383 384 385 387 388 389 390 391 392 393\n",
      " 394 395 397 398 399 400 401 403 405 406 407 411 412 413 414 415 417 418\n",
      " 419 420 421 422 423 424 425 426 427 428 429 430 431 432 433 434 435 436\n",
      " 437 438 439 440 441 442 443 444 446 447 448 449 451 452 453 454 455 457\n",
      " 458 459 460 461 463 464 466 467 468 471 472 473 474 475 476 477 478 479\n",
      " 480 481 482 483 485 486 487 488 489 491 492 493 494 495 496 497 498 499] TEST: [  3   7  47  50  51  53  75  79  99 104 124 146 152 172 178 193 197 200\n",
      " 211 213 232 237 251 296 304 314 324 335 339 347 375 377 378 386 396 402\n",
      " 404 408 409 410 416 445 450 456 462 465 469 470 484 490]\n"
     ]
    },
    {
     "name": "stderr",
     "output_type": "stream",
     "text": [
      "c:\\users\\tony\\anaconda3\\lib\\site-packages\\sklearn\\linear_model\\logistic.py:432: FutureWarning: Default solver will be changed to 'lbfgs' in 0.22. Specify a solver to silence this warning.\n",
      "  FutureWarning)\n",
      "c:\\users\\tony\\anaconda3\\lib\\site-packages\\sklearn\\linear_model\\logistic.py:459: FutureWarning: Default multi_class will be changed to 'auto' in 0.22. Specify the multi_class option to silence this warning.\n",
      "  \"this warning.\", FutureWarning)\n"
     ]
    },
    {
     "name": "stdout",
     "output_type": "stream",
     "text": [
      "TRAIN: [  0   1   2   3   4   7   8   9  10  11  12  13  14  16  18  20  21  22\n",
      "  23  24  26  27  29  31  32  33  34  35  36  38  39  40  41  42  43  44\n",
      "  45  46  47  48  49  50  51  52  53  54  55  57  59  60  61  62  63  65\n",
      "  66  67  68  69  71  72  73  74  75  76  78  79  80  81  82  83  84  85\n",
      "  86  87  88  89  90  91  92  93  94  95  96  97  98  99 100 101 102 103\n",
      " 104 105 106 107 108 109 110 111 112 113 114 115 116 117 118 119 121 122\n",
      " 123 124 125 126 128 129 130 131 132 133 134 135 136 137 138 140 141 142\n",
      " 143 144 145 146 147 148 150 151 152 153 154 155 156 157 158 159 160 161\n",
      " 162 164 165 166 167 168 169 170 171 172 173 174 175 176 177 178 179 180\n",
      " 181 182 183 184 185 186 188 189 190 191 192 193 194 195 196 197 198 200\n",
      " 201 203 204 205 206 208 209 210 211 212 213 214 215 216 217 218 219 220\n",
      " 221 222 223 225 226 227 228 229 230 231 232 233 234 236 237 238 239 240\n",
      " 242 244 245 246 247 248 249 250 251 252 253 254 255 256 257 258 259 260\n",
      " 261 262 263 264 265 266 268 269 270 271 272 273 274 275 276 277 278 279\n",
      " 280 282 283 285 286 287 288 289 290 291 292 295 296 297 298 299 300 301\n",
      " 302 303 304 305 306 307 308 310 311 312 313 314 315 316 318 319 320 321\n",
      " 322 323 324 325 327 328 329 331 332 334 335 336 337 338 339 340 342 343\n",
      " 344 345 346 347 349 351 352 353 354 355 356 357 360 361 362 363 364 365\n",
      " 367 368 369 370 371 372 373 374 375 376 377 378 379 380 381 383 384 385\n",
      " 386 387 388 389 390 392 393 394 395 396 397 398 399 400 401 402 403 404\n",
      " 405 406 407 408 409 410 411 412 413 414 415 416 417 418 419 420 422 423\n",
      " 424 425 426 427 428 429 430 431 432 433 435 436 437 438 440 441 442 443\n",
      " 444 445 446 447 448 449 450 451 452 453 454 455 456 457 458 459 460 461\n",
      " 462 463 464 465 466 467 468 469 470 471 472 473 474 475 477 478 479 481\n",
      " 482 483 484 485 486 487 488 489 490 491 492 493 494 495 496 497 498 499] TEST: [  5   6  15  17  19  25  28  30  37  56  58  64  70  77 120 127 139 149\n",
      " 163 187 199 202 207 224 235 241 243 267 281 284 293 294 309 317 326 330\n",
      " 333 341 348 350 358 359 366 382 391 421 434 439 476 480]\n"
     ]
    },
    {
     "name": "stderr",
     "output_type": "stream",
     "text": [
      "c:\\users\\tony\\anaconda3\\lib\\site-packages\\sklearn\\linear_model\\logistic.py:432: FutureWarning: Default solver will be changed to 'lbfgs' in 0.22. Specify a solver to silence this warning.\n",
      "  FutureWarning)\n",
      "c:\\users\\tony\\anaconda3\\lib\\site-packages\\sklearn\\linear_model\\logistic.py:459: FutureWarning: Default multi_class will be changed to 'auto' in 0.22. Specify the multi_class option to silence this warning.\n",
      "  \"this warning.\", FutureWarning)\n"
     ]
    },
    {
     "name": "stdout",
     "output_type": "stream",
     "text": [
      "TRAIN: [  0   1   2   3   4   5   6   7   8   9  11  12  13  14  15  16  17  18\n",
      "  19  20  21  22  23  24  25  26  28  29  30  32  33  34  35  36  37  38\n",
      "  39  41  42  43  44  45  46  47  48  49  50  51  52  53  54  55  56  57\n",
      "  58  59  60  61  62  63  64  65  66  67  68  69  70  71  72  74  75  76\n",
      "  77  78  79  80  81  82  84  85  86  87  88  89  90  91  92  93  94  95\n",
      "  96  97  98  99 100 101 102 103 104 105 106 107 110 111 113 114 115 116\n",
      " 117 118 120 121 122 123 124 125 126 127 128 129 130 131 132 133 134 135\n",
      " 136 137 138 139 140 141 142 143 144 145 146 148 149 151 152 153 154 155\n",
      " 156 157 158 159 161 162 163 164 165 166 167 168 169 170 171 172 173 174\n",
      " 175 176 178 179 180 181 182 183 184 185 186 187 188 189 190 191 192 193\n",
      " 194 195 196 197 198 199 200 201 202 205 206 207 208 210 211 212 213 214\n",
      " 216 218 219 220 221 222 223 224 225 226 227 228 229 230 231 232 234 235\n",
      " 236 237 238 239 240 241 242 243 245 246 247 248 249 250 251 252 253 254\n",
      " 255 256 257 258 259 261 262 263 264 265 266 267 268 269 270 271 272 274\n",
      " 275 276 277 278 279 280 281 284 285 287 290 291 292 293 294 295 296 299\n",
      " 302 303 304 308 309 310 311 312 313 314 315 316 317 318 319 320 321 322\n",
      " 323 324 325 326 328 329 330 332 333 335 336 337 338 339 340 341 342 343\n",
      " 344 345 346 347 348 349 350 351 353 354 355 356 357 358 359 360 361 362\n",
      " 364 365 366 367 368 369 370 371 372 373 374 375 376 377 378 379 381 382\n",
      " 383 384 385 386 387 388 389 390 391 393 394 395 396 397 398 399 400 401\n",
      " 402 403 404 405 406 407 408 409 410 411 413 414 415 416 417 418 419 421\n",
      " 422 423 424 425 426 427 428 429 430 431 432 434 435 436 437 438 439 441\n",
      " 442 443 444 445 446 447 448 449 450 451 452 453 455 456 457 458 459 462\n",
      " 463 464 465 466 467 468 469 470 471 472 473 474 475 476 477 478 479 480\n",
      " 481 482 483 484 485 486 487 488 489 490 491 493 494 495 496 497 498 499] TEST: [ 10  27  31  40  73  83 108 109 112 119 147 150 160 177 203 204 209 215\n",
      " 217 233 244 260 273 282 283 286 288 289 297 298 300 301 305 306 307 327\n",
      " 331 334 352 363 380 392 412 420 433 440 454 460 461 492]\n"
     ]
    },
    {
     "name": "stderr",
     "output_type": "stream",
     "text": [
      "c:\\users\\tony\\anaconda3\\lib\\site-packages\\sklearn\\linear_model\\logistic.py:432: FutureWarning: Default solver will be changed to 'lbfgs' in 0.22. Specify a solver to silence this warning.\n",
      "  FutureWarning)\n",
      "c:\\users\\tony\\anaconda3\\lib\\site-packages\\sklearn\\linear_model\\logistic.py:459: FutureWarning: Default multi_class will be changed to 'auto' in 0.22. Specify the multi_class option to silence this warning.\n",
      "  \"this warning.\", FutureWarning)\n"
     ]
    },
    {
     "name": "stdout",
     "output_type": "stream",
     "text": [
      "TRAIN: [  0   1   2   3   4   5   6   7   8   9  10  11  12  13  14  15  16  17\n",
      "  18  19  20  22  23  24  25  26  27  28  29  30  31  32  33  35  36  37\n",
      "  38  39  40  41  42  43  44  46  47  48  49  50  51  52  53  54  55  56\n",
      "  58  59  62  63  64  65  66  67  68  69  70  71  72  73  74  75  77  78\n",
      "  79  80  81  82  83  85  86  87  88  89  91  92  93  95  96  97  98  99\n",
      " 100 101 104 105 107 108 109 110 111 112 113 114 115 116 117 118 119 120\n",
      " 121 122 123 124 125 126 127 128 129 130 132 133 136 137 138 139 140 141\n",
      " 142 144 145 146 147 148 149 150 151 152 153 154 155 156 157 158 159 160\n",
      " 162 163 164 167 168 169 170 171 172 173 174 175 176 177 178 179 180 181\n",
      " 182 183 184 185 187 188 189 190 191 192 193 194 195 196 197 198 199 200\n",
      " 201 202 203 204 205 206 207 208 209 210 211 212 213 214 215 216 217 218\n",
      " 219 220 221 222 223 224 225 227 228 229 230 231 232 233 234 235 236 237\n",
      " 238 239 240 241 242 243 244 245 246 248 249 250 251 252 254 255 256 257\n",
      " 258 259 260 261 262 263 264 265 266 267 268 269 270 271 272 273 274 275\n",
      " 277 278 279 280 281 282 283 284 285 286 287 288 289 290 291 292 293 294\n",
      " 295 296 297 298 300 301 302 303 304 305 306 307 308 309 310 311 312 313\n",
      " 314 315 316 317 318 319 320 321 322 324 325 326 327 328 329 330 331 332\n",
      " 333 334 335 336 337 339 341 342 343 344 345 346 347 348 349 350 351 352\n",
      " 354 355 356 357 358 359 361 362 363 365 366 367 368 369 370 371 372 373\n",
      " 374 375 376 377 378 379 380 381 382 384 386 387 389 390 391 392 394 395\n",
      " 396 397 399 401 402 403 404 405 406 408 409 410 411 412 413 414 415 416\n",
      " 417 418 419 420 421 422 423 425 426 428 429 431 432 433 434 436 437 438\n",
      " 439 440 441 442 443 445 446 448 449 450 451 452 453 454 455 456 457 458\n",
      " 459 460 461 462 463 464 465 466 467 468 469 470 471 475 476 477 478 479\n",
      " 480 481 482 483 484 485 486 488 489 490 491 492 493 494 495 496 497 499] TEST: [ 21  34  45  57  60  61  76  84  90  94 102 103 106 131 134 135 143 161\n",
      " 165 166 186 226 247 253 276 299 323 338 340 353 360 364 383 385 388 393\n",
      " 398 400 407 424 427 430 435 444 447 472 473 474 487 498]\n"
     ]
    },
    {
     "name": "stderr",
     "output_type": "stream",
     "text": [
      "c:\\users\\tony\\anaconda3\\lib\\site-packages\\sklearn\\linear_model\\logistic.py:432: FutureWarning: Default solver will be changed to 'lbfgs' in 0.22. Specify a solver to silence this warning.\n",
      "  FutureWarning)\n",
      "c:\\users\\tony\\anaconda3\\lib\\site-packages\\sklearn\\linear_model\\logistic.py:459: FutureWarning: Default multi_class will be changed to 'auto' in 0.22. Specify the multi_class option to silence this warning.\n",
      "  \"this warning.\", FutureWarning)\n"
     ]
    },
    {
     "name": "stdout",
     "output_type": "stream",
     "text": [
      "TRAIN: [  1   2   3   4   5   6   7  10  11  12  13  15  16  17  18  19  20  21\n",
      "  22  23  24  25  26  27  28  29  30  31  32  34  35  36  37  38  40  41\n",
      "  42  43  45  47  48  49  50  51  52  53  55  56  57  58  59  60  61  62\n",
      "  63  64  66  67  68  69  70  71  72  73  74  75  76  77  78  79  80  82\n",
      "  83  84  86  87  88  89  90  91  92  94  95  96  97  98  99 100 101 102\n",
      " 103 104 105 106 107 108 109 110 111 112 113 114 115 116 117 118 119 120\n",
      " 121 122 124 126 127 128 129 131 133 134 135 136 137 138 139 140 141 142\n",
      " 143 144 145 146 147 149 150 152 153 154 155 157 158 159 160 161 162 163\n",
      " 165 166 167 168 169 171 172 173 174 175 176 177 178 179 180 181 183 184\n",
      " 185 186 187 188 189 190 191 192 193 194 195 196 197 198 199 200 201 202\n",
      " 203 204 205 206 207 208 209 210 211 212 213 214 215 216 217 218 219 221\n",
      " 222 223 224 225 226 227 228 229 230 231 232 233 235 236 237 238 239 240\n",
      " 241 242 243 244 245 246 247 249 250 251 252 253 254 255 256 258 259 260\n",
      " 261 262 263 264 265 266 267 268 269 270 271 272 273 274 276 277 278 280\n",
      " 281 282 283 284 285 286 287 288 289 291 292 293 294 295 296 297 298 299\n",
      " 300 301 302 303 304 305 306 307 309 310 311 313 314 316 317 318 320 321\n",
      " 322 323 324 325 326 327 329 330 331 333 334 335 336 337 338 339 340 341\n",
      " 342 345 346 347 348 349 350 352 353 354 355 356 357 358 359 360 361 362\n",
      " 363 364 365 366 367 368 369 370 371 372 373 374 375 376 377 378 379 380\n",
      " 381 382 383 384 385 386 387 388 389 390 391 392 393 394 395 396 397 398\n",
      " 399 400 401 402 403 404 407 408 409 410 412 414 415 416 417 418 419 420\n",
      " 421 422 423 424 425 426 427 428 429 430 431 433 434 435 436 437 438 439\n",
      " 440 441 442 443 444 445 447 448 449 450 451 452 453 454 455 456 457 458\n",
      " 459 460 461 462 463 464 465 466 467 468 469 470 471 472 473 474 475 476\n",
      " 477 480 481 482 484 485 486 487 488 489 490 491 492 493 494 495 497 498] TEST: [  0   8   9  14  33  39  44  46  54  65  81  85  93 123 125 130 132 148\n",
      " 151 156 164 170 182 220 234 248 257 275 279 290 308 312 315 319 328 332\n",
      " 343 344 351 405 406 411 413 432 446 478 479 483 496 499]\n"
     ]
    },
    {
     "name": "stderr",
     "output_type": "stream",
     "text": [
      "c:\\users\\tony\\anaconda3\\lib\\site-packages\\sklearn\\linear_model\\logistic.py:432: FutureWarning: Default solver will be changed to 'lbfgs' in 0.22. Specify a solver to silence this warning.\n",
      "  FutureWarning)\n",
      "c:\\users\\tony\\anaconda3\\lib\\site-packages\\sklearn\\linear_model\\logistic.py:459: FutureWarning: Default multi_class will be changed to 'auto' in 0.22. Specify the multi_class option to silence this warning.\n",
      "  \"this warning.\", FutureWarning)\n"
     ]
    },
    {
     "name": "stdout",
     "output_type": "stream",
     "text": [
      "TRAIN: [  0   1   2   3   5   6   7   8   9  10  11  13  14  15  16  17  18  19\n",
      "  20  21  22  23  24  25  27  28  29  30  31  32  33  34  36  37  38  39\n",
      "  40  41  42  43  44  45  46  47  48  49  50  51  52  53  54  55  56  57\n",
      "  58  59  60  61  62  63  64  65  66  67  68  70  71  72  73  74  75  76\n",
      "  77  79  80  81  82  83  84  85  86  88  89  90  91  92  93  94  95  96\n",
      "  98  99 100 101 102 103 104 105 106 108 109 110 112 113 116 118 119 120\n",
      " 121 123 124 125 126 127 128 129 130 131 132 133 134 135 136 137 138 139\n",
      " 140 141 142 143 144 146 147 148 149 150 151 152 153 155 156 157 158 159\n",
      " 160 161 162 163 164 165 166 167 168 169 170 172 174 177 178 179 180 182\n",
      " 183 184 185 186 187 189 190 191 192 193 194 195 196 197 198 199 200 201\n",
      " 202 203 204 205 206 207 208 209 210 211 212 213 214 215 217 218 219 220\n",
      " 222 223 224 225 226 229 230 231 232 233 234 235 236 237 239 240 241 242\n",
      " 243 244 245 246 247 248 249 251 252 253 255 256 257 258 259 260 261 262\n",
      " 263 264 265 267 269 270 271 272 273 274 275 276 277 278 279 281 282 283\n",
      " 284 285 286 287 288 289 290 291 292 293 294 295 296 297 298 299 300 301\n",
      " 302 304 305 306 307 308 309 310 311 312 313 314 315 316 317 318 319 320\n",
      " 321 322 323 324 325 326 327 328 329 330 331 332 333 334 335 336 338 339\n",
      " 340 341 342 343 344 346 347 348 350 351 352 353 354 356 358 359 360 362\n",
      " 363 364 365 366 367 368 369 370 372 375 376 377 378 379 380 381 382 383\n",
      " 384 385 386 387 388 389 391 392 393 395 396 397 398 399 400 401 402 403\n",
      " 404 405 406 407 408 409 410 411 412 413 414 415 416 417 418 419 420 421\n",
      " 422 423 424 426 427 428 429 430 431 432 433 434 435 437 438 439 440 441\n",
      " 442 443 444 445 446 447 448 449 450 451 452 453 454 455 456 458 460 461\n",
      " 462 465 466 467 468 469 470 471 472 473 474 475 476 477 478 479 480 481\n",
      " 482 483 484 485 486 487 488 489 490 491 492 493 494 495 496 497 498 499] TEST: [  4  12  26  35  69  78  87  97 107 111 114 115 117 122 145 154 171 173\n",
      " 175 176 181 188 216 221 227 228 238 250 254 266 268 280 303 337 345 349\n",
      " 355 357 361 371 373 374 390 394 425 436 457 459 463 464]\n"
     ]
    },
    {
     "name": "stderr",
     "output_type": "stream",
     "text": [
      "c:\\users\\tony\\anaconda3\\lib\\site-packages\\sklearn\\linear_model\\logistic.py:432: FutureWarning: Default solver will be changed to 'lbfgs' in 0.22. Specify a solver to silence this warning.\n",
      "  FutureWarning)\n",
      "c:\\users\\tony\\anaconda3\\lib\\site-packages\\sklearn\\linear_model\\logistic.py:459: FutureWarning: Default multi_class will be changed to 'auto' in 0.22. Specify the multi_class option to silence this warning.\n",
      "  \"this warning.\", FutureWarning)\n"
     ]
    },
    {
     "name": "stdout",
     "output_type": "stream",
     "text": [
      "TRAIN: [  0   2   3   4   5   6   7   8   9  10  11  12  14  15  16  17  18  19\n",
      "  20  21  22  24  25  26  27  28  30  31  32  33  34  35  36  37  39  40\n",
      "  41  42  43  44  45  46  47  48  50  51  53  54  55  56  57  58  60  61\n",
      "  62  63  64  65  66  67  68  69  70  71  72  73  75  76  77  78  79  80\n",
      "  81  83  84  85  87  88  89  90  91  92  93  94  97  98  99 100 102 103\n",
      " 104 106 107 108 109 110 111 112 113 114 115 116 117 119 120 121 122 123\n",
      " 124 125 126 127 128 129 130 131 132 133 134 135 136 138 139 140 141 142\n",
      " 143 145 146 147 148 149 150 151 152 153 154 155 156 157 158 160 161 163\n",
      " 164 165 166 167 169 170 171 172 173 174 175 176 177 178 179 180 181 182\n",
      " 183 184 185 186 187 188 189 190 191 192 193 194 195 196 197 198 199 200\n",
      " 201 202 203 204 206 207 208 209 210 211 212 213 214 215 216 217 218 220\n",
      " 221 223 224 225 226 227 228 229 230 232 233 234 235 236 237 238 239 240\n",
      " 241 242 243 244 245 247 248 249 250 251 252 253 254 255 256 257 258 259\n",
      " 260 261 262 263 264 265 266 267 268 269 271 272 273 274 275 276 278 279\n",
      " 280 281 282 283 284 285 286 288 289 290 291 293 294 295 296 297 298 299\n",
      " 300 301 302 303 304 305 306 307 308 309 310 311 312 314 315 316 317 318\n",
      " 319 320 321 323 324 325 326 327 328 330 331 332 333 334 335 336 337 338\n",
      " 339 340 341 342 343 344 345 346 347 348 349 350 351 352 353 354 355 356\n",
      " 357 358 359 360 361 363 364 365 366 367 369 370 371 373 374 375 377 378\n",
      " 379 380 381 382 383 384 385 386 387 388 389 390 391 392 393 394 396 397\n",
      " 398 400 402 404 405 406 407 408 409 410 411 412 413 414 415 416 418 419\n",
      " 420 421 422 423 424 425 426 427 428 430 432 433 434 435 436 437 439 440\n",
      " 441 442 443 444 445 446 447 448 449 450 451 452 454 455 456 457 459 460\n",
      " 461 462 463 464 465 466 467 469 470 471 472 473 474 475 476 477 478 479\n",
      " 480 481 482 483 484 486 487 488 490 491 492 493 494 495 496 497 498 499] TEST: [  1  13  23  29  38  49  52  59  74  82  86  95  96 101 105 118 137 144\n",
      " 159 162 168 205 219 222 231 246 270 277 287 292 313 322 329 362 368 372\n",
      " 376 395 399 401 403 417 429 431 438 453 458 468 485 489]\n"
     ]
    },
    {
     "name": "stderr",
     "output_type": "stream",
     "text": [
      "c:\\users\\tony\\anaconda3\\lib\\site-packages\\sklearn\\linear_model\\logistic.py:432: FutureWarning: Default solver will be changed to 'lbfgs' in 0.22. Specify a solver to silence this warning.\n",
      "  FutureWarning)\n",
      "c:\\users\\tony\\anaconda3\\lib\\site-packages\\sklearn\\linear_model\\logistic.py:459: FutureWarning: Default multi_class will be changed to 'auto' in 0.22. Specify the multi_class option to silence this warning.\n",
      "  \"this warning.\", FutureWarning)\n"
     ]
    },
    {
     "name": "stdout",
     "output_type": "stream",
     "text": [
      "TRAIN: [  0   1   3   4   5   6   7   8   9  10  12  13  14  15  17  18  19  21\n",
      "  23  25  26  27  28  29  30  31  32  33  34  35  36  37  38  39  40  41\n",
      "  43  44  45  46  47  48  49  50  51  52  53  54  55  56  57  58  59  60\n",
      "  61  62  63  64  65  66  68  69  70  72  73  74  75  76  77  78  79  80\n",
      "  81  82  83  84  85  86  87  89  90  91  92  93  94  95  96  97  98  99\n",
      " 101 102 103 104 105 106 107 108 109 111 112 113 114 115 116 117 118 119\n",
      " 120 121 122 123 124 125 126 127 128 130 131 132 134 135 136 137 138 139\n",
      " 140 141 143 144 145 146 147 148 149 150 151 152 153 154 155 156 157 158\n",
      " 159 160 161 162 163 164 165 166 168 170 171 172 173 175 176 177 178 179\n",
      " 180 181 182 183 184 185 186 187 188 189 190 191 193 194 195 196 197 198\n",
      " 199 200 201 202 203 204 205 206 207 208 209 211 213 214 215 216 217 218\n",
      " 219 220 221 222 223 224 225 226 227 228 231 232 233 234 235 237 238 240\n",
      " 241 242 243 244 246 247 248 249 250 251 252 253 254 256 257 259 260 261\n",
      " 262 264 265 266 267 268 270 271 272 273 274 275 276 277 279 280 281 282\n",
      " 283 284 285 286 287 288 289 290 291 292 293 294 296 297 298 299 300 301\n",
      " 302 303 304 305 306 307 308 309 310 312 313 314 315 317 318 319 321 322\n",
      " 323 324 326 327 328 329 330 331 332 333 334 335 336 337 338 339 340 341\n",
      " 342 343 344 345 346 347 348 349 350 351 352 353 354 355 357 358 359 360\n",
      " 361 362 363 364 365 366 367 368 369 370 371 372 373 374 375 376 377 378\n",
      " 379 380 382 383 384 385 386 387 388 389 390 391 392 393 394 395 396 398\n",
      " 399 400 401 402 403 404 405 406 407 408 409 410 411 412 413 416 417 418\n",
      " 419 420 421 422 423 424 425 426 427 428 429 430 431 432 433 434 435 436\n",
      " 437 438 439 440 443 444 445 446 447 448 450 453 454 455 456 457 458 459\n",
      " 460 461 462 463 464 465 467 468 469 470 472 473 474 475 476 477 478 479\n",
      " 480 481 483 484 485 486 487 488 489 490 491 492 494 495 496 497 498 499] TEST: [  2  11  16  20  22  24  42  67  71  88 100 110 129 133 142 167 169 174\n",
      " 192 210 212 229 230 236 239 245 255 258 263 269 278 295 311 316 320 325\n",
      " 356 381 397 414 415 441 442 449 451 452 466 471 482 493]\n"
     ]
    },
    {
     "name": "stderr",
     "output_type": "stream",
     "text": [
      "c:\\users\\tony\\anaconda3\\lib\\site-packages\\sklearn\\linear_model\\logistic.py:432: FutureWarning: Default solver will be changed to 'lbfgs' in 0.22. Specify a solver to silence this warning.\n",
      "  FutureWarning)\n",
      "c:\\users\\tony\\anaconda3\\lib\\site-packages\\sklearn\\linear_model\\logistic.py:459: FutureWarning: Default multi_class will be changed to 'auto' in 0.22. Specify the multi_class option to silence this warning.\n",
      "  \"this warning.\", FutureWarning)\n"
     ]
    },
    {
     "name": "stdout",
     "output_type": "stream",
     "text": [
      "TRAIN: [  0   1   2   3   4   5   6   7   8   9  10  11  12  13  14  15  16  17\n",
      "  19  20  21  22  23  24  25  26  27  28  29  30  31  33  34  35  36  37\n",
      "  38  39  40  41  42  43  44  45  46  47  49  50  51  52  53  54  55  56\n",
      "  57  58  59  60  61  63  64  65  67  68  69  70  71  72  73  74  75  76\n",
      "  77  78  79  81  82  83  84  85  86  87  88  90  93  94  95  96  97  98\n",
      "  99 100 101 102 103 104 105 106 107 108 109 110 111 112 114 115 116 117\n",
      " 118 119 120 121 122 123 124 125 126 127 128 129 130 131 132 133 134 135\n",
      " 136 137 138 139 142 143 144 145 146 147 148 149 150 151 152 153 154 156\n",
      " 157 158 159 160 161 162 163 164 165 166 167 168 169 170 171 172 173 174\n",
      " 175 176 177 178 179 180 181 182 186 187 188 190 192 193 195 197 198 199\n",
      " 200 201 202 203 204 205 206 207 209 210 211 212 213 215 216 217 219 220\n",
      " 221 222 224 226 227 228 229 230 231 232 233 234 235 236 237 238 239 240\n",
      " 241 243 244 245 246 247 248 250 251 253 254 255 257 258 260 261 263 264\n",
      " 266 267 268 269 270 273 274 275 276 277 278 279 280 281 282 283 284 285\n",
      " 286 287 288 289 290 292 293 294 295 296 297 298 299 300 301 302 303 304\n",
      " 305 306 307 308 309 310 311 312 313 314 315 316 317 319 320 322 323 324\n",
      " 325 326 327 328 329 330 331 332 333 334 335 337 338 339 340 341 343 344\n",
      " 345 347 348 349 350 351 352 353 354 355 356 357 358 359 360 361 362 363\n",
      " 364 365 366 367 368 370 371 372 373 374 375 376 377 378 380 381 382 383\n",
      " 384 385 386 388 389 390 391 392 393 394 395 396 397 398 399 400 401 402\n",
      " 403 404 405 406 407 408 409 410 411 412 413 414 415 416 417 419 420 421\n",
      " 422 423 424 425 427 428 429 430 431 432 433 434 435 436 437 438 439 440\n",
      " 441 442 444 445 446 447 448 449 450 451 452 453 454 456 457 458 459 460\n",
      " 461 462 463 464 465 466 467 468 469 470 471 472 473 474 475 476 478 479\n",
      " 480 481 482 483 484 485 487 488 489 490 491 492 493 494 495 496 498 499] TEST: [ 18  32  48  62  66  80  89  91  92 113 140 141 155 183 184 185 189 191\n",
      " 194 196 208 214 218 223 225 242 249 252 256 259 262 265 271 272 291 318\n",
      " 321 336 342 346 369 379 387 418 426 443 455 477 486 497]\n"
     ]
    },
    {
     "name": "stderr",
     "output_type": "stream",
     "text": [
      "c:\\users\\tony\\anaconda3\\lib\\site-packages\\sklearn\\linear_model\\logistic.py:432: FutureWarning: Default solver will be changed to 'lbfgs' in 0.22. Specify a solver to silence this warning.\n",
      "  FutureWarning)\n",
      "c:\\users\\tony\\anaconda3\\lib\\site-packages\\sklearn\\linear_model\\logistic.py:459: FutureWarning: Default multi_class will be changed to 'auto' in 0.22. Specify the multi_class option to silence this warning.\n",
      "  \"this warning.\", FutureWarning)\n"
     ]
    },
    {
     "name": "stdout",
     "output_type": "stream",
     "text": [
      "TRAIN: [  0   1   2   3   4   5   6   7   8   9  10  11  12  13  14  15  16  17\n",
      "  18  19  20  21  22  23  24  25  26  27  28  29  30  31  32  33  34  35\n",
      "  37  38  39  40  42  44  45  46  47  48  49  50  51  52  53  54  56  57\n",
      "  58  59  60  61  62  64  65  66  67  69  70  71  73  74  75  76  77  78\n",
      "  79  80  81  82  83  84  85  86  87  88  89  90  91  92  93  94  95  96\n",
      "  97  99 100 101 102 103 104 105 106 107 108 109 110 111 112 113 114 115\n",
      " 117 118 119 120 122 123 124 125 127 129 130 131 132 133 134 135 137 139\n",
      " 140 141 142 143 144 145 146 147 148 149 150 151 152 154 155 156 159 160\n",
      " 161 162 163 164 165 166 167 168 169 170 171 172 173 174 175 176 177 178\n",
      " 181 182 183 184 185 186 187 188 189 191 192 193 194 196 197 199 200 202\n",
      " 203 204 205 207 208 209 210 211 212 213 214 215 216 217 218 219 220 221\n",
      " 222 223 224 225 226 227 228 229 230 231 232 233 234 235 236 237 238 239\n",
      " 241 242 243 244 245 246 247 248 249 250 251 252 253 254 255 256 257 258\n",
      " 259 260 262 263 265 266 267 268 269 270 271 272 273 275 276 277 278 279\n",
      " 280 281 282 283 284 286 287 288 289 290 291 292 293 294 295 296 297 298\n",
      " 299 300 301 303 304 305 306 307 308 309 311 312 313 314 315 316 317 318\n",
      " 319 320 321 322 323 324 325 326 327 328 329 330 331 332 333 334 335 336\n",
      " 337 338 339 340 341 342 343 344 345 346 347 348 349 350 351 352 353 355\n",
      " 356 357 358 359 360 361 362 363 364 366 368 369 371 372 373 374 375 376\n",
      " 377 378 379 380 381 382 383 385 386 387 388 390 391 392 393 394 395 396\n",
      " 397 398 399 400 401 402 403 404 405 406 407 408 409 410 411 412 413 414\n",
      " 415 416 417 418 420 421 424 425 426 427 429 430 431 432 433 434 435 436\n",
      " 438 439 440 441 442 443 444 445 446 447 449 450 451 452 453 454 455 456\n",
      " 457 458 459 460 461 462 463 464 465 466 468 469 470 471 472 473 474 476\n",
      " 477 478 479 480 482 483 484 485 486 487 489 490 492 493 496 497 498 499] TEST: [ 36  41  43  55  63  68  72  98 116 121 126 128 136 138 153 157 158 179\n",
      " 180 190 195 198 201 206 240 261 264 274 285 302 310 354 365 367 370 384\n",
      " 389 419 422 423 428 437 448 467 475 481 488 491 494 495]\n"
     ]
    },
    {
     "name": "stderr",
     "output_type": "stream",
     "text": [
      "c:\\users\\tony\\anaconda3\\lib\\site-packages\\sklearn\\linear_model\\logistic.py:432: FutureWarning: Default solver will be changed to 'lbfgs' in 0.22. Specify a solver to silence this warning.\n",
      "  FutureWarning)\n",
      "c:\\users\\tony\\anaconda3\\lib\\site-packages\\sklearn\\linear_model\\logistic.py:459: FutureWarning: Default multi_class will be changed to 'auto' in 0.22. Specify the multi_class option to silence this warning.\n",
      "  \"this warning.\", FutureWarning)\n"
     ]
    },
    {
     "name": "stdout",
     "output_type": "stream",
     "text": [
      "TRAIN: [  0   1   2   4   5   6   8   9  10  11  12  13  14  15  16  17  18  19\n",
      "  20  21  22  23  24  25  26  27  28  29  30  31  32  33  34  35  36  37\n",
      "  38  39  40  41  42  43  44  45  46  48  49  52  54  55  56  57  58  59\n",
      "  60  61  62  63  64  65  66  67  68  69  70  71  72  73  74  76  77  78\n",
      "  80  81  82  83  84  85  86  87  88  89  90  91  92  93  94  95  96  97\n",
      "  98 100 101 102 103 105 106 107 108 109 110 111 112 113 114 115 116 117\n",
      " 118 119 120 121 122 123 125 126 127 128 129 130 131 132 133 134 135 136\n",
      " 137 138 139 140 141 142 143 144 145 147 148 149 150 151 153 154 155 156\n",
      " 157 158 159 160 161 162 163 164 165 166 167 168 169 170 171 173 174 175\n",
      " 176 177 179 180 181 182 183 184 185 186 187 188 189 190 191 192 194 195\n",
      " 196 198 199 201 202 203 204 205 206 207 208 209 210 212 214 215 216 217\n",
      " 218 219 220 221 222 223 224 225 226 227 228 229 230 231 233 234 235 236\n",
      " 238 239 240 241 242 243 244 245 246 247 248 249 250 252 253 254 255 256\n",
      " 257 258 259 260 261 262 263 264 265 266 267 268 269 270 271 272 273 274\n",
      " 275 276 277 278 279 280 281 282 283 284 285 286 287 288 289 290 291 292\n",
      " 293 294 295 297 298 299 300 301 302 303 305 306 307 308 309 310 311 312\n",
      " 313 315 316 317 318 319 320 321 322 323 325 326 327 328 329 330 331 332\n",
      " 333 334 336 337 338 340 341 342 343 344 345 346 348 349 350 351 352 353\n",
      " 354 355 356 357 358 359 360 361 362 363 364 365 366 367 368 369 370 371\n",
      " 372 373 374 376 379 380 381 382 383 384 385 387 388 389 390 391 392 393\n",
      " 394 395 397 398 399 400 401 403 405 406 407 411 412 413 414 415 417 418\n",
      " 419 420 421 422 423 424 425 426 427 428 429 430 431 432 433 434 435 436\n",
      " 437 438 439 440 441 442 443 444 446 447 448 449 451 452 453 454 455 457\n",
      " 458 459 460 461 463 464 466 467 468 471 472 473 474 475 476 477 478 479\n",
      " 480 481 482 483 485 486 487 488 489 491 492 493 494 495 496 497 498 499] TEST: [  3   7  47  50  51  53  75  79  99 104 124 146 152 172 178 193 197 200\n",
      " 211 213 232 237 251 296 304 314 324 335 339 347 375 377 378 386 396 402\n",
      " 404 408 409 410 416 445 450 456 462 465 469 470 484 490]\n"
     ]
    },
    {
     "name": "stderr",
     "output_type": "stream",
     "text": [
      "c:\\users\\tony\\anaconda3\\lib\\site-packages\\sklearn\\linear_model\\logistic.py:432: FutureWarning: Default solver will be changed to 'lbfgs' in 0.22. Specify a solver to silence this warning.\n",
      "  FutureWarning)\n",
      "c:\\users\\tony\\anaconda3\\lib\\site-packages\\sklearn\\linear_model\\logistic.py:459: FutureWarning: Default multi_class will be changed to 'auto' in 0.22. Specify the multi_class option to silence this warning.\n",
      "  \"this warning.\", FutureWarning)\n"
     ]
    },
    {
     "name": "stdout",
     "output_type": "stream",
     "text": [
      "TRAIN: [  0   1   2   3   4   7   8   9  10  11  12  13  14  16  18  20  21  22\n",
      "  23  24  26  27  29  31  32  33  34  35  36  38  39  40  41  42  43  44\n",
      "  45  46  47  48  49  50  51  52  53  54  55  57  59  60  61  62  63  65\n",
      "  66  67  68  69  71  72  73  74  75  76  78  79  80  81  82  83  84  85\n",
      "  86  87  88  89  90  91  92  93  94  95  96  97  98  99 100 101 102 103\n",
      " 104 105 106 107 108 109 110 111 112 113 114 115 116 117 118 119 121 122\n",
      " 123 124 125 126 128 129 130 131 132 133 134 135 136 137 138 140 141 142\n",
      " 143 144 145 146 147 148 150 151 152 153 154 155 156 157 158 159 160 161\n",
      " 162 164 165 166 167 168 169 170 171 172 173 174 175 176 177 178 179 180\n",
      " 181 182 183 184 185 186 188 189 190 191 192 193 194 195 196 197 198 200\n",
      " 201 203 204 205 206 208 209 210 211 212 213 214 215 216 217 218 219 220\n",
      " 221 222 223 225 226 227 228 229 230 231 232 233 234 236 237 238 239 240\n",
      " 242 244 245 246 247 248 249 250 251 252 253 254 255 256 257 258 259 260\n",
      " 261 262 263 264 265 266 268 269 270 271 272 273 274 275 276 277 278 279\n",
      " 280 282 283 285 286 287 288 289 290 291 292 295 296 297 298 299 300 301\n",
      " 302 303 304 305 306 307 308 310 311 312 313 314 315 316 318 319 320 321\n",
      " 322 323 324 325 327 328 329 331 332 334 335 336 337 338 339 340 342 343\n",
      " 344 345 346 347 349 351 352 353 354 355 356 357 360 361 362 363 364 365\n",
      " 367 368 369 370 371 372 373 374 375 376 377 378 379 380 381 383 384 385\n",
      " 386 387 388 389 390 392 393 394 395 396 397 398 399 400 401 402 403 404\n",
      " 405 406 407 408 409 410 411 412 413 414 415 416 417 418 419 420 422 423\n",
      " 424 425 426 427 428 429 430 431 432 433 435 436 437 438 440 441 442 443\n",
      " 444 445 446 447 448 449 450 451 452 453 454 455 456 457 458 459 460 461\n",
      " 462 463 464 465 466 467 468 469 470 471 472 473 474 475 477 478 479 481\n",
      " 482 483 484 485 486 487 488 489 490 491 492 493 494 495 496 497 498 499] TEST: [  5   6  15  17  19  25  28  30  37  56  58  64  70  77 120 127 139 149\n",
      " 163 187 199 202 207 224 235 241 243 267 281 284 293 294 309 317 326 330\n",
      " 333 341 348 350 358 359 366 382 391 421 434 439 476 480]\n"
     ]
    },
    {
     "name": "stderr",
     "output_type": "stream",
     "text": [
      "c:\\users\\tony\\anaconda3\\lib\\site-packages\\sklearn\\linear_model\\logistic.py:432: FutureWarning: Default solver will be changed to 'lbfgs' in 0.22. Specify a solver to silence this warning.\n",
      "  FutureWarning)\n",
      "c:\\users\\tony\\anaconda3\\lib\\site-packages\\sklearn\\linear_model\\logistic.py:459: FutureWarning: Default multi_class will be changed to 'auto' in 0.22. Specify the multi_class option to silence this warning.\n",
      "  \"this warning.\", FutureWarning)\n"
     ]
    },
    {
     "name": "stdout",
     "output_type": "stream",
     "text": [
      "TRAIN: [  0   1   2   3   4   5   6   7   8   9  11  12  13  14  15  16  17  18\n",
      "  19  20  21  22  23  24  25  26  28  29  30  32  33  34  35  36  37  38\n",
      "  39  41  42  43  44  45  46  47  48  49  50  51  52  53  54  55  56  57\n",
      "  58  59  60  61  62  63  64  65  66  67  68  69  70  71  72  74  75  76\n",
      "  77  78  79  80  81  82  84  85  86  87  88  89  90  91  92  93  94  95\n",
      "  96  97  98  99 100 101 102 103 104 105 106 107 110 111 113 114 115 116\n",
      " 117 118 120 121 122 123 124 125 126 127 128 129 130 131 132 133 134 135\n",
      " 136 137 138 139 140 141 142 143 144 145 146 148 149 151 152 153 154 155\n",
      " 156 157 158 159 161 162 163 164 165 166 167 168 169 170 171 172 173 174\n",
      " 175 176 178 179 180 181 182 183 184 185 186 187 188 189 190 191 192 193\n",
      " 194 195 196 197 198 199 200 201 202 205 206 207 208 210 211 212 213 214\n",
      " 216 218 219 220 221 222 223 224 225 226 227 228 229 230 231 232 234 235\n",
      " 236 237 238 239 240 241 242 243 245 246 247 248 249 250 251 252 253 254\n",
      " 255 256 257 258 259 261 262 263 264 265 266 267 268 269 270 271 272 274\n",
      " 275 276 277 278 279 280 281 284 285 287 290 291 292 293 294 295 296 299\n",
      " 302 303 304 308 309 310 311 312 313 314 315 316 317 318 319 320 321 322\n",
      " 323 324 325 326 328 329 330 332 333 335 336 337 338 339 340 341 342 343\n",
      " 344 345 346 347 348 349 350 351 353 354 355 356 357 358 359 360 361 362\n",
      " 364 365 366 367 368 369 370 371 372 373 374 375 376 377 378 379 381 382\n",
      " 383 384 385 386 387 388 389 390 391 393 394 395 396 397 398 399 400 401\n",
      " 402 403 404 405 406 407 408 409 410 411 413 414 415 416 417 418 419 421\n",
      " 422 423 424 425 426 427 428 429 430 431 432 434 435 436 437 438 439 441\n",
      " 442 443 444 445 446 447 448 449 450 451 452 453 455 456 457 458 459 462\n",
      " 463 464 465 466 467 468 469 470 471 472 473 474 475 476 477 478 479 480\n",
      " 481 482 483 484 485 486 487 488 489 490 491 493 494 495 496 497 498 499] TEST: [ 10  27  31  40  73  83 108 109 112 119 147 150 160 177 203 204 209 215\n",
      " 217 233 244 260 273 282 283 286 288 289 297 298 300 301 305 306 307 327\n",
      " 331 334 352 363 380 392 412 420 433 440 454 460 461 492]\n"
     ]
    },
    {
     "name": "stderr",
     "output_type": "stream",
     "text": [
      "c:\\users\\tony\\anaconda3\\lib\\site-packages\\sklearn\\linear_model\\logistic.py:432: FutureWarning: Default solver will be changed to 'lbfgs' in 0.22. Specify a solver to silence this warning.\n",
      "  FutureWarning)\n",
      "c:\\users\\tony\\anaconda3\\lib\\site-packages\\sklearn\\linear_model\\logistic.py:459: FutureWarning: Default multi_class will be changed to 'auto' in 0.22. Specify the multi_class option to silence this warning.\n",
      "  \"this warning.\", FutureWarning)\n"
     ]
    },
    {
     "name": "stdout",
     "output_type": "stream",
     "text": [
      "TRAIN: [  0   1   2   3   4   5   6   7   8   9  10  11  12  13  14  15  16  17\n",
      "  18  19  20  22  23  24  25  26  27  28  29  30  31  32  33  35  36  37\n",
      "  38  39  40  41  42  43  44  46  47  48  49  50  51  52  53  54  55  56\n",
      "  58  59  62  63  64  65  66  67  68  69  70  71  72  73  74  75  77  78\n",
      "  79  80  81  82  83  85  86  87  88  89  91  92  93  95  96  97  98  99\n",
      " 100 101 104 105 107 108 109 110 111 112 113 114 115 116 117 118 119 120\n",
      " 121 122 123 124 125 126 127 128 129 130 132 133 136 137 138 139 140 141\n",
      " 142 144 145 146 147 148 149 150 151 152 153 154 155 156 157 158 159 160\n",
      " 162 163 164 167 168 169 170 171 172 173 174 175 176 177 178 179 180 181\n",
      " 182 183 184 185 187 188 189 190 191 192 193 194 195 196 197 198 199 200\n",
      " 201 202 203 204 205 206 207 208 209 210 211 212 213 214 215 216 217 218\n",
      " 219 220 221 222 223 224 225 227 228 229 230 231 232 233 234 235 236 237\n",
      " 238 239 240 241 242 243 244 245 246 248 249 250 251 252 254 255 256 257\n",
      " 258 259 260 261 262 263 264 265 266 267 268 269 270 271 272 273 274 275\n",
      " 277 278 279 280 281 282 283 284 285 286 287 288 289 290 291 292 293 294\n",
      " 295 296 297 298 300 301 302 303 304 305 306 307 308 309 310 311 312 313\n",
      " 314 315 316 317 318 319 320 321 322 324 325 326 327 328 329 330 331 332\n",
      " 333 334 335 336 337 339 341 342 343 344 345 346 347 348 349 350 351 352\n",
      " 354 355 356 357 358 359 361 362 363 365 366 367 368 369 370 371 372 373\n",
      " 374 375 376 377 378 379 380 381 382 384 386 387 389 390 391 392 394 395\n",
      " 396 397 399 401 402 403 404 405 406 408 409 410 411 412 413 414 415 416\n",
      " 417 418 419 420 421 422 423 425 426 428 429 431 432 433 434 436 437 438\n",
      " 439 440 441 442 443 445 446 448 449 450 451 452 453 454 455 456 457 458\n",
      " 459 460 461 462 463 464 465 466 467 468 469 470 471 475 476 477 478 479\n",
      " 480 481 482 483 484 485 486 488 489 490 491 492 493 494 495 496 497 499] TEST: [ 21  34  45  57  60  61  76  84  90  94 102 103 106 131 134 135 143 161\n",
      " 165 166 186 226 247 253 276 299 323 338 340 353 360 364 383 385 388 393\n",
      " 398 400 407 424 427 430 435 444 447 472 473 474 487 498]\n"
     ]
    },
    {
     "name": "stderr",
     "output_type": "stream",
     "text": [
      "c:\\users\\tony\\anaconda3\\lib\\site-packages\\sklearn\\linear_model\\logistic.py:432: FutureWarning: Default solver will be changed to 'lbfgs' in 0.22. Specify a solver to silence this warning.\n",
      "  FutureWarning)\n",
      "c:\\users\\tony\\anaconda3\\lib\\site-packages\\sklearn\\linear_model\\logistic.py:459: FutureWarning: Default multi_class will be changed to 'auto' in 0.22. Specify the multi_class option to silence this warning.\n",
      "  \"this warning.\", FutureWarning)\n"
     ]
    },
    {
     "name": "stdout",
     "output_type": "stream",
     "text": [
      "TRAIN: [  1   2   3   4   5   6   7  10  11  12  13  15  16  17  18  19  20  21\n",
      "  22  23  24  25  26  27  28  29  30  31  32  34  35  36  37  38  40  41\n",
      "  42  43  45  47  48  49  50  51  52  53  55  56  57  58  59  60  61  62\n",
      "  63  64  66  67  68  69  70  71  72  73  74  75  76  77  78  79  80  82\n",
      "  83  84  86  87  88  89  90  91  92  94  95  96  97  98  99 100 101 102\n",
      " 103 104 105 106 107 108 109 110 111 112 113 114 115 116 117 118 119 120\n",
      " 121 122 124 126 127 128 129 131 133 134 135 136 137 138 139 140 141 142\n",
      " 143 144 145 146 147 149 150 152 153 154 155 157 158 159 160 161 162 163\n",
      " 165 166 167 168 169 171 172 173 174 175 176 177 178 179 180 181 183 184\n",
      " 185 186 187 188 189 190 191 192 193 194 195 196 197 198 199 200 201 202\n",
      " 203 204 205 206 207 208 209 210 211 212 213 214 215 216 217 218 219 221\n",
      " 222 223 224 225 226 227 228 229 230 231 232 233 235 236 237 238 239 240\n",
      " 241 242 243 244 245 246 247 249 250 251 252 253 254 255 256 258 259 260\n",
      " 261 262 263 264 265 266 267 268 269 270 271 272 273 274 276 277 278 280\n",
      " 281 282 283 284 285 286 287 288 289 291 292 293 294 295 296 297 298 299\n",
      " 300 301 302 303 304 305 306 307 309 310 311 313 314 316 317 318 320 321\n",
      " 322 323 324 325 326 327 329 330 331 333 334 335 336 337 338 339 340 341\n",
      " 342 345 346 347 348 349 350 352 353 354 355 356 357 358 359 360 361 362\n",
      " 363 364 365 366 367 368 369 370 371 372 373 374 375 376 377 378 379 380\n",
      " 381 382 383 384 385 386 387 388 389 390 391 392 393 394 395 396 397 398\n",
      " 399 400 401 402 403 404 407 408 409 410 412 414 415 416 417 418 419 420\n",
      " 421 422 423 424 425 426 427 428 429 430 431 433 434 435 436 437 438 439\n",
      " 440 441 442 443 444 445 447 448 449 450 451 452 453 454 455 456 457 458\n",
      " 459 460 461 462 463 464 465 466 467 468 469 470 471 472 473 474 475 476\n",
      " 477 480 481 482 484 485 486 487 488 489 490 491 492 493 494 495 497 498] TEST: [  0   8   9  14  33  39  44  46  54  65  81  85  93 123 125 130 132 148\n",
      " 151 156 164 170 182 220 234 248 257 275 279 290 308 312 315 319 328 332\n",
      " 343 344 351 405 406 411 413 432 446 478 479 483 496 499]\n"
     ]
    },
    {
     "name": "stderr",
     "output_type": "stream",
     "text": [
      "c:\\users\\tony\\anaconda3\\lib\\site-packages\\sklearn\\linear_model\\logistic.py:432: FutureWarning: Default solver will be changed to 'lbfgs' in 0.22. Specify a solver to silence this warning.\n",
      "  FutureWarning)\n",
      "c:\\users\\tony\\anaconda3\\lib\\site-packages\\sklearn\\linear_model\\logistic.py:459: FutureWarning: Default multi_class will be changed to 'auto' in 0.22. Specify the multi_class option to silence this warning.\n",
      "  \"this warning.\", FutureWarning)\n"
     ]
    },
    {
     "name": "stdout",
     "output_type": "stream",
     "text": [
      "TRAIN: [  0   1   2   3   5   6   7   8   9  10  11  13  14  15  16  17  18  19\n",
      "  20  21  22  23  24  25  27  28  29  30  31  32  33  34  36  37  38  39\n",
      "  40  41  42  43  44  45  46  47  48  49  50  51  52  53  54  55  56  57\n",
      "  58  59  60  61  62  63  64  65  66  67  68  70  71  72  73  74  75  76\n",
      "  77  79  80  81  82  83  84  85  86  88  89  90  91  92  93  94  95  96\n",
      "  98  99 100 101 102 103 104 105 106 108 109 110 112 113 116 118 119 120\n",
      " 121 123 124 125 126 127 128 129 130 131 132 133 134 135 136 137 138 139\n",
      " 140 141 142 143 144 146 147 148 149 150 151 152 153 155 156 157 158 159\n",
      " 160 161 162 163 164 165 166 167 168 169 170 172 174 177 178 179 180 182\n",
      " 183 184 185 186 187 189 190 191 192 193 194 195 196 197 198 199 200 201\n",
      " 202 203 204 205 206 207 208 209 210 211 212 213 214 215 217 218 219 220\n",
      " 222 223 224 225 226 229 230 231 232 233 234 235 236 237 239 240 241 242\n",
      " 243 244 245 246 247 248 249 251 252 253 255 256 257 258 259 260 261 262\n",
      " 263 264 265 267 269 270 271 272 273 274 275 276 277 278 279 281 282 283\n",
      " 284 285 286 287 288 289 290 291 292 293 294 295 296 297 298 299 300 301\n",
      " 302 304 305 306 307 308 309 310 311 312 313 314 315 316 317 318 319 320\n",
      " 321 322 323 324 325 326 327 328 329 330 331 332 333 334 335 336 338 339\n",
      " 340 341 342 343 344 346 347 348 350 351 352 353 354 356 358 359 360 362\n",
      " 363 364 365 366 367 368 369 370 372 375 376 377 378 379 380 381 382 383\n",
      " 384 385 386 387 388 389 391 392 393 395 396 397 398 399 400 401 402 403\n",
      " 404 405 406 407 408 409 410 411 412 413 414 415 416 417 418 419 420 421\n",
      " 422 423 424 426 427 428 429 430 431 432 433 434 435 437 438 439 440 441\n",
      " 442 443 444 445 446 447 448 449 450 451 452 453 454 455 456 458 460 461\n",
      " 462 465 466 467 468 469 470 471 472 473 474 475 476 477 478 479 480 481\n",
      " 482 483 484 485 486 487 488 489 490 491 492 493 494 495 496 497 498 499] TEST: [  4  12  26  35  69  78  87  97 107 111 114 115 117 122 145 154 171 173\n",
      " 175 176 181 188 216 221 227 228 238 250 254 266 268 280 303 337 345 349\n",
      " 355 357 361 371 373 374 390 394 425 436 457 459 463 464]\n"
     ]
    },
    {
     "name": "stderr",
     "output_type": "stream",
     "text": [
      "c:\\users\\tony\\anaconda3\\lib\\site-packages\\sklearn\\linear_model\\logistic.py:432: FutureWarning: Default solver will be changed to 'lbfgs' in 0.22. Specify a solver to silence this warning.\n",
      "  FutureWarning)\n",
      "c:\\users\\tony\\anaconda3\\lib\\site-packages\\sklearn\\linear_model\\logistic.py:459: FutureWarning: Default multi_class will be changed to 'auto' in 0.22. Specify the multi_class option to silence this warning.\n",
      "  \"this warning.\", FutureWarning)\n"
     ]
    },
    {
     "name": "stdout",
     "output_type": "stream",
     "text": [
      "TRAIN: [  0   2   3   4   5   6   7   8   9  10  11  12  14  15  16  17  18  19\n",
      "  20  21  22  24  25  26  27  28  30  31  32  33  34  35  36  37  39  40\n",
      "  41  42  43  44  45  46  47  48  50  51  53  54  55  56  57  58  60  61\n",
      "  62  63  64  65  66  67  68  69  70  71  72  73  75  76  77  78  79  80\n",
      "  81  83  84  85  87  88  89  90  91  92  93  94  97  98  99 100 102 103\n",
      " 104 106 107 108 109 110 111 112 113 114 115 116 117 119 120 121 122 123\n",
      " 124 125 126 127 128 129 130 131 132 133 134 135 136 138 139 140 141 142\n",
      " 143 145 146 147 148 149 150 151 152 153 154 155 156 157 158 160 161 163\n",
      " 164 165 166 167 169 170 171 172 173 174 175 176 177 178 179 180 181 182\n",
      " 183 184 185 186 187 188 189 190 191 192 193 194 195 196 197 198 199 200\n",
      " 201 202 203 204 206 207 208 209 210 211 212 213 214 215 216 217 218 220\n",
      " 221 223 224 225 226 227 228 229 230 232 233 234 235 236 237 238 239 240\n",
      " 241 242 243 244 245 247 248 249 250 251 252 253 254 255 256 257 258 259\n",
      " 260 261 262 263 264 265 266 267 268 269 271 272 273 274 275 276 278 279\n",
      " 280 281 282 283 284 285 286 288 289 290 291 293 294 295 296 297 298 299\n",
      " 300 301 302 303 304 305 306 307 308 309 310 311 312 314 315 316 317 318\n",
      " 319 320 321 323 324 325 326 327 328 330 331 332 333 334 335 336 337 338\n",
      " 339 340 341 342 343 344 345 346 347 348 349 350 351 352 353 354 355 356\n",
      " 357 358 359 360 361 363 364 365 366 367 369 370 371 373 374 375 377 378\n",
      " 379 380 381 382 383 384 385 386 387 388 389 390 391 392 393 394 396 397\n",
      " 398 400 402 404 405 406 407 408 409 410 411 412 413 414 415 416 418 419\n",
      " 420 421 422 423 424 425 426 427 428 430 432 433 434 435 436 437 439 440\n",
      " 441 442 443 444 445 446 447 448 449 450 451 452 454 455 456 457 459 460\n",
      " 461 462 463 464 465 466 467 469 470 471 472 473 474 475 476 477 478 479\n",
      " 480 481 482 483 484 486 487 488 490 491 492 493 494 495 496 497 498 499] TEST: [  1  13  23  29  38  49  52  59  74  82  86  95  96 101 105 118 137 144\n",
      " 159 162 168 205 219 222 231 246 270 277 287 292 313 322 329 362 368 372\n",
      " 376 395 399 401 403 417 429 431 438 453 458 468 485 489]\n"
     ]
    },
    {
     "name": "stderr",
     "output_type": "stream",
     "text": [
      "c:\\users\\tony\\anaconda3\\lib\\site-packages\\sklearn\\linear_model\\logistic.py:432: FutureWarning: Default solver will be changed to 'lbfgs' in 0.22. Specify a solver to silence this warning.\n",
      "  FutureWarning)\n",
      "c:\\users\\tony\\anaconda3\\lib\\site-packages\\sklearn\\linear_model\\logistic.py:459: FutureWarning: Default multi_class will be changed to 'auto' in 0.22. Specify the multi_class option to silence this warning.\n",
      "  \"this warning.\", FutureWarning)\n"
     ]
    },
    {
     "name": "stdout",
     "output_type": "stream",
     "text": [
      "TRAIN: [  0   1   3   4   5   6   7   8   9  10  12  13  14  15  17  18  19  21\n",
      "  23  25  26  27  28  29  30  31  32  33  34  35  36  37  38  39  40  41\n",
      "  43  44  45  46  47  48  49  50  51  52  53  54  55  56  57  58  59  60\n",
      "  61  62  63  64  65  66  68  69  70  72  73  74  75  76  77  78  79  80\n",
      "  81  82  83  84  85  86  87  89  90  91  92  93  94  95  96  97  98  99\n",
      " 101 102 103 104 105 106 107 108 109 111 112 113 114 115 116 117 118 119\n",
      " 120 121 122 123 124 125 126 127 128 130 131 132 134 135 136 137 138 139\n",
      " 140 141 143 144 145 146 147 148 149 150 151 152 153 154 155 156 157 158\n",
      " 159 160 161 162 163 164 165 166 168 170 171 172 173 175 176 177 178 179\n",
      " 180 181 182 183 184 185 186 187 188 189 190 191 193 194 195 196 197 198\n",
      " 199 200 201 202 203 204 205 206 207 208 209 211 213 214 215 216 217 218\n",
      " 219 220 221 222 223 224 225 226 227 228 231 232 233 234 235 237 238 240\n",
      " 241 242 243 244 246 247 248 249 250 251 252 253 254 256 257 259 260 261\n",
      " 262 264 265 266 267 268 270 271 272 273 274 275 276 277 279 280 281 282\n",
      " 283 284 285 286 287 288 289 290 291 292 293 294 296 297 298 299 300 301\n",
      " 302 303 304 305 306 307 308 309 310 312 313 314 315 317 318 319 321 322\n",
      " 323 324 326 327 328 329 330 331 332 333 334 335 336 337 338 339 340 341\n",
      " 342 343 344 345 346 347 348 349 350 351 352 353 354 355 357 358 359 360\n",
      " 361 362 363 364 365 366 367 368 369 370 371 372 373 374 375 376 377 378\n",
      " 379 380 382 383 384 385 386 387 388 389 390 391 392 393 394 395 396 398\n",
      " 399 400 401 402 403 404 405 406 407 408 409 410 411 412 413 416 417 418\n",
      " 419 420 421 422 423 424 425 426 427 428 429 430 431 432 433 434 435 436\n",
      " 437 438 439 440 443 444 445 446 447 448 450 453 454 455 456 457 458 459\n",
      " 460 461 462 463 464 465 467 468 469 470 472 473 474 475 476 477 478 479\n",
      " 480 481 483 484 485 486 487 488 489 490 491 492 494 495 496 497 498 499] TEST: [  2  11  16  20  22  24  42  67  71  88 100 110 129 133 142 167 169 174\n",
      " 192 210 212 229 230 236 239 245 255 258 263 269 278 295 311 316 320 325\n",
      " 356 381 397 414 415 441 442 449 451 452 466 471 482 493]\n"
     ]
    },
    {
     "name": "stderr",
     "output_type": "stream",
     "text": [
      "c:\\users\\tony\\anaconda3\\lib\\site-packages\\sklearn\\linear_model\\logistic.py:432: FutureWarning: Default solver will be changed to 'lbfgs' in 0.22. Specify a solver to silence this warning.\n",
      "  FutureWarning)\n",
      "c:\\users\\tony\\anaconda3\\lib\\site-packages\\sklearn\\linear_model\\logistic.py:459: FutureWarning: Default multi_class will be changed to 'auto' in 0.22. Specify the multi_class option to silence this warning.\n",
      "  \"this warning.\", FutureWarning)\n"
     ]
    },
    {
     "name": "stdout",
     "output_type": "stream",
     "text": [
      "TRAIN: [  0   1   2   3   4   5   6   7   8   9  10  11  12  13  14  15  16  17\n",
      "  19  20  21  22  23  24  25  26  27  28  29  30  31  33  34  35  36  37\n",
      "  38  39  40  41  42  43  44  45  46  47  49  50  51  52  53  54  55  56\n",
      "  57  58  59  60  61  63  64  65  67  68  69  70  71  72  73  74  75  76\n",
      "  77  78  79  81  82  83  84  85  86  87  88  90  93  94  95  96  97  98\n",
      "  99 100 101 102 103 104 105 106 107 108 109 110 111 112 114 115 116 117\n",
      " 118 119 120 121 122 123 124 125 126 127 128 129 130 131 132 133 134 135\n",
      " 136 137 138 139 142 143 144 145 146 147 148 149 150 151 152 153 154 156\n",
      " 157 158 159 160 161 162 163 164 165 166 167 168 169 170 171 172 173 174\n",
      " 175 176 177 178 179 180 181 182 186 187 188 190 192 193 195 197 198 199\n",
      " 200 201 202 203 204 205 206 207 209 210 211 212 213 215 216 217 219 220\n",
      " 221 222 224 226 227 228 229 230 231 232 233 234 235 236 237 238 239 240\n",
      " 241 243 244 245 246 247 248 250 251 253 254 255 257 258 260 261 263 264\n",
      " 266 267 268 269 270 273 274 275 276 277 278 279 280 281 282 283 284 285\n",
      " 286 287 288 289 290 292 293 294 295 296 297 298 299 300 301 302 303 304\n",
      " 305 306 307 308 309 310 311 312 313 314 315 316 317 319 320 322 323 324\n",
      " 325 326 327 328 329 330 331 332 333 334 335 337 338 339 340 341 343 344\n",
      " 345 347 348 349 350 351 352 353 354 355 356 357 358 359 360 361 362 363\n",
      " 364 365 366 367 368 370 371 372 373 374 375 376 377 378 380 381 382 383\n",
      " 384 385 386 388 389 390 391 392 393 394 395 396 397 398 399 400 401 402\n",
      " 403 404 405 406 407 408 409 410 411 412 413 414 415 416 417 419 420 421\n",
      " 422 423 424 425 427 428 429 430 431 432 433 434 435 436 437 438 439 440\n",
      " 441 442 444 445 446 447 448 449 450 451 452 453 454 456 457 458 459 460\n",
      " 461 462 463 464 465 466 467 468 469 470 471 472 473 474 475 476 478 479\n",
      " 480 481 482 483 484 485 487 488 489 490 491 492 493 494 495 496 498 499] TEST: [ 18  32  48  62  66  80  89  91  92 113 140 141 155 183 184 185 189 191\n",
      " 194 196 208 214 218 223 225 242 249 252 256 259 262 265 271 272 291 318\n",
      " 321 336 342 346 369 379 387 418 426 443 455 477 486 497]\n"
     ]
    },
    {
     "name": "stderr",
     "output_type": "stream",
     "text": [
      "c:\\users\\tony\\anaconda3\\lib\\site-packages\\sklearn\\linear_model\\logistic.py:432: FutureWarning: Default solver will be changed to 'lbfgs' in 0.22. Specify a solver to silence this warning.\n",
      "  FutureWarning)\n",
      "c:\\users\\tony\\anaconda3\\lib\\site-packages\\sklearn\\linear_model\\logistic.py:459: FutureWarning: Default multi_class will be changed to 'auto' in 0.22. Specify the multi_class option to silence this warning.\n",
      "  \"this warning.\", FutureWarning)\n"
     ]
    },
    {
     "name": "stdout",
     "output_type": "stream",
     "text": [
      "TRAIN: [  0   1   2   3   4   5   6   7   8   9  10  11  12  13  14  15  16  17\n",
      "  18  19  20  21  22  23  24  25  26  27  28  29  30  31  32  33  34  35\n",
      "  37  38  39  40  42  44  45  46  47  48  49  50  51  52  53  54  56  57\n",
      "  58  59  60  61  62  64  65  66  67  69  70  71  73  74  75  76  77  78\n",
      "  79  80  81  82  83  84  85  86  87  88  89  90  91  92  93  94  95  96\n",
      "  97  99 100 101 102 103 104 105 106 107 108 109 110 111 112 113 114 115\n",
      " 117 118 119 120 122 123 124 125 127 129 130 131 132 133 134 135 137 139\n",
      " 140 141 142 143 144 145 146 147 148 149 150 151 152 154 155 156 159 160\n",
      " 161 162 163 164 165 166 167 168 169 170 171 172 173 174 175 176 177 178\n",
      " 181 182 183 184 185 186 187 188 189 191 192 193 194 196 197 199 200 202\n",
      " 203 204 205 207 208 209 210 211 212 213 214 215 216 217 218 219 220 221\n",
      " 222 223 224 225 226 227 228 229 230 231 232 233 234 235 236 237 238 239\n",
      " 241 242 243 244 245 246 247 248 249 250 251 252 253 254 255 256 257 258\n",
      " 259 260 262 263 265 266 267 268 269 270 271 272 273 275 276 277 278 279\n",
      " 280 281 282 283 284 286 287 288 289 290 291 292 293 294 295 296 297 298\n",
      " 299 300 301 303 304 305 306 307 308 309 311 312 313 314 315 316 317 318\n",
      " 319 320 321 322 323 324 325 326 327 328 329 330 331 332 333 334 335 336\n",
      " 337 338 339 340 341 342 343 344 345 346 347 348 349 350 351 352 353 355\n",
      " 356 357 358 359 360 361 362 363 364 366 368 369 371 372 373 374 375 376\n",
      " 377 378 379 380 381 382 383 385 386 387 388 390 391 392 393 394 395 396\n",
      " 397 398 399 400 401 402 403 404 405 406 407 408 409 410 411 412 413 414\n",
      " 415 416 417 418 420 421 424 425 426 427 429 430 431 432 433 434 435 436\n",
      " 438 439 440 441 442 443 444 445 446 447 449 450 451 452 453 454 455 456\n",
      " 457 458 459 460 461 462 463 464 465 466 468 469 470 471 472 473 474 476\n",
      " 477 478 479 480 482 483 484 485 486 487 489 490 492 493 496 497 498 499] TEST: [ 36  41  43  55  63  68  72  98 116 121 126 128 136 138 153 157 158 179\n",
      " 180 190 195 198 201 206 240 261 264 274 285 302 310 354 365 367 370 384\n",
      " 389 419 422 423 428 437 448 467 475 481 488 491 494 495]\n"
     ]
    },
    {
     "name": "stderr",
     "output_type": "stream",
     "text": [
      "c:\\users\\tony\\anaconda3\\lib\\site-packages\\sklearn\\linear_model\\logistic.py:432: FutureWarning: Default solver will be changed to 'lbfgs' in 0.22. Specify a solver to silence this warning.\n",
      "  FutureWarning)\n",
      "c:\\users\\tony\\anaconda3\\lib\\site-packages\\sklearn\\linear_model\\logistic.py:459: FutureWarning: Default multi_class will be changed to 'auto' in 0.22. Specify the multi_class option to silence this warning.\n",
      "  \"this warning.\", FutureWarning)\n"
     ]
    },
    {
     "name": "stdout",
     "output_type": "stream",
     "text": [
      "TRAIN: [  0   1   2   4   5   6   8   9  10  11  12  13  14  15  16  17  18  19\n",
      "  20  21  22  23  24  25  26  27  28  29  30  31  32  33  34  35  36  37\n",
      "  38  39  40  41  42  43  44  45  46  48  49  52  54  55  56  57  58  59\n",
      "  60  61  62  63  64  65  66  67  68  69  70  71  72  73  74  76  77  78\n",
      "  80  81  82  83  84  85  86  87  88  89  90  91  92  93  94  95  96  97\n",
      "  98 100 101 102 103 105 106 107 108 109 110 111 112 113 114 115 116 117\n",
      " 118 119 120 121 122 123 125 126 127 128 129 130 131 132 133 134 135 136\n",
      " 137 138 139 140 141 142 143 144 145 147 148 149 150 151 153 154 155 156\n",
      " 157 158 159 160 161 162 163 164 165 166 167 168 169 170 171 173 174 175\n",
      " 176 177 179 180 181 182 183 184 185 186 187 188 189 190 191 192 194 195\n",
      " 196 198 199 201 202 203 204 205 206 207 208 209 210 212 214 215 216 217\n",
      " 218 219 220 221 222 223 224 225 226 227 228 229 230 231 233 234 235 236\n",
      " 238 239 240 241 242 243 244 245 246 247 248 249 250 252 253 254 255 256\n",
      " 257 258 259 260 261 262 263 264 265 266 267 268 269 270 271 272 273 274\n",
      " 275 276 277 278 279 280 281 282 283 284 285 286 287 288 289 290 291 292\n",
      " 293 294 295 297 298 299 300 301 302 303 305 306 307 308 309 310 311 312\n",
      " 313 315 316 317 318 319 320 321 322 323 325 326 327 328 329 330 331 332\n",
      " 333 334 336 337 338 340 341 342 343 344 345 346 348 349 350 351 352 353\n",
      " 354 355 356 357 358 359 360 361 362 363 364 365 366 367 368 369 370 371\n",
      " 372 373 374 376 379 380 381 382 383 384 385 387 388 389 390 391 392 393\n",
      " 394 395 397 398 399 400 401 403 405 406 407 411 412 413 414 415 417 418\n",
      " 419 420 421 422 423 424 425 426 427 428 429 430 431 432 433 434 435 436\n",
      " 437 438 439 440 441 442 443 444 446 447 448 449 451 452 453 454 455 457\n",
      " 458 459 460 461 463 464 466 467 468 471 472 473 474 475 476 477 478 479\n",
      " 480 481 482 483 485 486 487 488 489 491 492 493 494 495 496 497 498 499] TEST: [  3   7  47  50  51  53  75  79  99 104 124 146 152 172 178 193 197 200\n",
      " 211 213 232 237 251 296 304 314 324 335 339 347 375 377 378 386 396 402\n",
      " 404 408 409 410 416 445 450 456 462 465 469 470 484 490]\n"
     ]
    },
    {
     "name": "stderr",
     "output_type": "stream",
     "text": [
      "c:\\users\\tony\\anaconda3\\lib\\site-packages\\sklearn\\linear_model\\logistic.py:432: FutureWarning: Default solver will be changed to 'lbfgs' in 0.22. Specify a solver to silence this warning.\n",
      "  FutureWarning)\n",
      "c:\\users\\tony\\anaconda3\\lib\\site-packages\\sklearn\\linear_model\\logistic.py:459: FutureWarning: Default multi_class will be changed to 'auto' in 0.22. Specify the multi_class option to silence this warning.\n",
      "  \"this warning.\", FutureWarning)\n"
     ]
    },
    {
     "name": "stdout",
     "output_type": "stream",
     "text": [
      "TRAIN: [  0   1   2   3   4   7   8   9  10  11  12  13  14  16  18  20  21  22\n",
      "  23  24  26  27  29  31  32  33  34  35  36  38  39  40  41  42  43  44\n",
      "  45  46  47  48  49  50  51  52  53  54  55  57  59  60  61  62  63  65\n",
      "  66  67  68  69  71  72  73  74  75  76  78  79  80  81  82  83  84  85\n",
      "  86  87  88  89  90  91  92  93  94  95  96  97  98  99 100 101 102 103\n",
      " 104 105 106 107 108 109 110 111 112 113 114 115 116 117 118 119 121 122\n",
      " 123 124 125 126 128 129 130 131 132 133 134 135 136 137 138 140 141 142\n",
      " 143 144 145 146 147 148 150 151 152 153 154 155 156 157 158 159 160 161\n",
      " 162 164 165 166 167 168 169 170 171 172 173 174 175 176 177 178 179 180\n",
      " 181 182 183 184 185 186 188 189 190 191 192 193 194 195 196 197 198 200\n",
      " 201 203 204 205 206 208 209 210 211 212 213 214 215 216 217 218 219 220\n",
      " 221 222 223 225 226 227 228 229 230 231 232 233 234 236 237 238 239 240\n",
      " 242 244 245 246 247 248 249 250 251 252 253 254 255 256 257 258 259 260\n",
      " 261 262 263 264 265 266 268 269 270 271 272 273 274 275 276 277 278 279\n",
      " 280 282 283 285 286 287 288 289 290 291 292 295 296 297 298 299 300 301\n",
      " 302 303 304 305 306 307 308 310 311 312 313 314 315 316 318 319 320 321\n",
      " 322 323 324 325 327 328 329 331 332 334 335 336 337 338 339 340 342 343\n",
      " 344 345 346 347 349 351 352 353 354 355 356 357 360 361 362 363 364 365\n",
      " 367 368 369 370 371 372 373 374 375 376 377 378 379 380 381 383 384 385\n",
      " 386 387 388 389 390 392 393 394 395 396 397 398 399 400 401 402 403 404\n",
      " 405 406 407 408 409 410 411 412 413 414 415 416 417 418 419 420 422 423\n",
      " 424 425 426 427 428 429 430 431 432 433 435 436 437 438 440 441 442 443\n",
      " 444 445 446 447 448 449 450 451 452 453 454 455 456 457 458 459 460 461\n",
      " 462 463 464 465 466 467 468 469 470 471 472 473 474 475 477 478 479 481\n",
      " 482 483 484 485 486 487 488 489 490 491 492 493 494 495 496 497 498 499] TEST: [  5   6  15  17  19  25  28  30  37  56  58  64  70  77 120 127 139 149\n",
      " 163 187 199 202 207 224 235 241 243 267 281 284 293 294 309 317 326 330\n",
      " 333 341 348 350 358 359 366 382 391 421 434 439 476 480]\n"
     ]
    },
    {
     "name": "stderr",
     "output_type": "stream",
     "text": [
      "c:\\users\\tony\\anaconda3\\lib\\site-packages\\sklearn\\linear_model\\logistic.py:432: FutureWarning: Default solver will be changed to 'lbfgs' in 0.22. Specify a solver to silence this warning.\n",
      "  FutureWarning)\n",
      "c:\\users\\tony\\anaconda3\\lib\\site-packages\\sklearn\\linear_model\\logistic.py:459: FutureWarning: Default multi_class will be changed to 'auto' in 0.22. Specify the multi_class option to silence this warning.\n",
      "  \"this warning.\", FutureWarning)\n"
     ]
    },
    {
     "name": "stdout",
     "output_type": "stream",
     "text": [
      "TRAIN: [  0   1   2   3   4   5   6   7   8   9  11  12  13  14  15  16  17  18\n",
      "  19  20  21  22  23  24  25  26  28  29  30  32  33  34  35  36  37  38\n",
      "  39  41  42  43  44  45  46  47  48  49  50  51  52  53  54  55  56  57\n",
      "  58  59  60  61  62  63  64  65  66  67  68  69  70  71  72  74  75  76\n",
      "  77  78  79  80  81  82  84  85  86  87  88  89  90  91  92  93  94  95\n",
      "  96  97  98  99 100 101 102 103 104 105 106 107 110 111 113 114 115 116\n",
      " 117 118 120 121 122 123 124 125 126 127 128 129 130 131 132 133 134 135\n",
      " 136 137 138 139 140 141 142 143 144 145 146 148 149 151 152 153 154 155\n",
      " 156 157 158 159 161 162 163 164 165 166 167 168 169 170 171 172 173 174\n",
      " 175 176 178 179 180 181 182 183 184 185 186 187 188 189 190 191 192 193\n",
      " 194 195 196 197 198 199 200 201 202 205 206 207 208 210 211 212 213 214\n",
      " 216 218 219 220 221 222 223 224 225 226 227 228 229 230 231 232 234 235\n",
      " 236 237 238 239 240 241 242 243 245 246 247 248 249 250 251 252 253 254\n",
      " 255 256 257 258 259 261 262 263 264 265 266 267 268 269 270 271 272 274\n",
      " 275 276 277 278 279 280 281 284 285 287 290 291 292 293 294 295 296 299\n",
      " 302 303 304 308 309 310 311 312 313 314 315 316 317 318 319 320 321 322\n",
      " 323 324 325 326 328 329 330 332 333 335 336 337 338 339 340 341 342 343\n",
      " 344 345 346 347 348 349 350 351 353 354 355 356 357 358 359 360 361 362\n",
      " 364 365 366 367 368 369 370 371 372 373 374 375 376 377 378 379 381 382\n",
      " 383 384 385 386 387 388 389 390 391 393 394 395 396 397 398 399 400 401\n",
      " 402 403 404 405 406 407 408 409 410 411 413 414 415 416 417 418 419 421\n",
      " 422 423 424 425 426 427 428 429 430 431 432 434 435 436 437 438 439 441\n",
      " 442 443 444 445 446 447 448 449 450 451 452 453 455 456 457 458 459 462\n",
      " 463 464 465 466 467 468 469 470 471 472 473 474 475 476 477 478 479 480\n",
      " 481 482 483 484 485 486 487 488 489 490 491 493 494 495 496 497 498 499] TEST: [ 10  27  31  40  73  83 108 109 112 119 147 150 160 177 203 204 209 215\n",
      " 217 233 244 260 273 282 283 286 288 289 297 298 300 301 305 306 307 327\n",
      " 331 334 352 363 380 392 412 420 433 440 454 460 461 492]\n"
     ]
    },
    {
     "name": "stderr",
     "output_type": "stream",
     "text": [
      "c:\\users\\tony\\anaconda3\\lib\\site-packages\\sklearn\\linear_model\\logistic.py:432: FutureWarning: Default solver will be changed to 'lbfgs' in 0.22. Specify a solver to silence this warning.\n",
      "  FutureWarning)\n",
      "c:\\users\\tony\\anaconda3\\lib\\site-packages\\sklearn\\linear_model\\logistic.py:459: FutureWarning: Default multi_class will be changed to 'auto' in 0.22. Specify the multi_class option to silence this warning.\n",
      "  \"this warning.\", FutureWarning)\n"
     ]
    },
    {
     "name": "stdout",
     "output_type": "stream",
     "text": [
      "TRAIN: [  0   1   2   3   4   5   6   7   8   9  10  11  12  13  14  15  16  17\n",
      "  18  19  20  22  23  24  25  26  27  28  29  30  31  32  33  35  36  37\n",
      "  38  39  40  41  42  43  44  46  47  48  49  50  51  52  53  54  55  56\n",
      "  58  59  62  63  64  65  66  67  68  69  70  71  72  73  74  75  77  78\n",
      "  79  80  81  82  83  85  86  87  88  89  91  92  93  95  96  97  98  99\n",
      " 100 101 104 105 107 108 109 110 111 112 113 114 115 116 117 118 119 120\n",
      " 121 122 123 124 125 126 127 128 129 130 132 133 136 137 138 139 140 141\n",
      " 142 144 145 146 147 148 149 150 151 152 153 154 155 156 157 158 159 160\n",
      " 162 163 164 167 168 169 170 171 172 173 174 175 176 177 178 179 180 181\n",
      " 182 183 184 185 187 188 189 190 191 192 193 194 195 196 197 198 199 200\n",
      " 201 202 203 204 205 206 207 208 209 210 211 212 213 214 215 216 217 218\n",
      " 219 220 221 222 223 224 225 227 228 229 230 231 232 233 234 235 236 237\n",
      " 238 239 240 241 242 243 244 245 246 248 249 250 251 252 254 255 256 257\n",
      " 258 259 260 261 262 263 264 265 266 267 268 269 270 271 272 273 274 275\n",
      " 277 278 279 280 281 282 283 284 285 286 287 288 289 290 291 292 293 294\n",
      " 295 296 297 298 300 301 302 303 304 305 306 307 308 309 310 311 312 313\n",
      " 314 315 316 317 318 319 320 321 322 324 325 326 327 328 329 330 331 332\n",
      " 333 334 335 336 337 339 341 342 343 344 345 346 347 348 349 350 351 352\n",
      " 354 355 356 357 358 359 361 362 363 365 366 367 368 369 370 371 372 373\n",
      " 374 375 376 377 378 379 380 381 382 384 386 387 389 390 391 392 394 395\n",
      " 396 397 399 401 402 403 404 405 406 408 409 410 411 412 413 414 415 416\n",
      " 417 418 419 420 421 422 423 425 426 428 429 431 432 433 434 436 437 438\n",
      " 439 440 441 442 443 445 446 448 449 450 451 452 453 454 455 456 457 458\n",
      " 459 460 461 462 463 464 465 466 467 468 469 470 471 475 476 477 478 479\n",
      " 480 481 482 483 484 485 486 488 489 490 491 492 493 494 495 496 497 499] TEST: [ 21  34  45  57  60  61  76  84  90  94 102 103 106 131 134 135 143 161\n",
      " 165 166 186 226 247 253 276 299 323 338 340 353 360 364 383 385 388 393\n",
      " 398 400 407 424 427 430 435 444 447 472 473 474 487 498]\n"
     ]
    },
    {
     "name": "stderr",
     "output_type": "stream",
     "text": [
      "c:\\users\\tony\\anaconda3\\lib\\site-packages\\sklearn\\linear_model\\logistic.py:432: FutureWarning: Default solver will be changed to 'lbfgs' in 0.22. Specify a solver to silence this warning.\n",
      "  FutureWarning)\n",
      "c:\\users\\tony\\anaconda3\\lib\\site-packages\\sklearn\\linear_model\\logistic.py:459: FutureWarning: Default multi_class will be changed to 'auto' in 0.22. Specify the multi_class option to silence this warning.\n",
      "  \"this warning.\", FutureWarning)\n"
     ]
    },
    {
     "name": "stdout",
     "output_type": "stream",
     "text": [
      "TRAIN: [  1   2   3   4   5   6   7  10  11  12  13  15  16  17  18  19  20  21\n",
      "  22  23  24  25  26  27  28  29  30  31  32  34  35  36  37  38  40  41\n",
      "  42  43  45  47  48  49  50  51  52  53  55  56  57  58  59  60  61  62\n",
      "  63  64  66  67  68  69  70  71  72  73  74  75  76  77  78  79  80  82\n",
      "  83  84  86  87  88  89  90  91  92  94  95  96  97  98  99 100 101 102\n",
      " 103 104 105 106 107 108 109 110 111 112 113 114 115 116 117 118 119 120\n",
      " 121 122 124 126 127 128 129 131 133 134 135 136 137 138 139 140 141 142\n",
      " 143 144 145 146 147 149 150 152 153 154 155 157 158 159 160 161 162 163\n",
      " 165 166 167 168 169 171 172 173 174 175 176 177 178 179 180 181 183 184\n",
      " 185 186 187 188 189 190 191 192 193 194 195 196 197 198 199 200 201 202\n",
      " 203 204 205 206 207 208 209 210 211 212 213 214 215 216 217 218 219 221\n",
      " 222 223 224 225 226 227 228 229 230 231 232 233 235 236 237 238 239 240\n",
      " 241 242 243 244 245 246 247 249 250 251 252 253 254 255 256 258 259 260\n",
      " 261 262 263 264 265 266 267 268 269 270 271 272 273 274 276 277 278 280\n",
      " 281 282 283 284 285 286 287 288 289 291 292 293 294 295 296 297 298 299\n",
      " 300 301 302 303 304 305 306 307 309 310 311 313 314 316 317 318 320 321\n",
      " 322 323 324 325 326 327 329 330 331 333 334 335 336 337 338 339 340 341\n",
      " 342 345 346 347 348 349 350 352 353 354 355 356 357 358 359 360 361 362\n",
      " 363 364 365 366 367 368 369 370 371 372 373 374 375 376 377 378 379 380\n",
      " 381 382 383 384 385 386 387 388 389 390 391 392 393 394 395 396 397 398\n",
      " 399 400 401 402 403 404 407 408 409 410 412 414 415 416 417 418 419 420\n",
      " 421 422 423 424 425 426 427 428 429 430 431 433 434 435 436 437 438 439\n",
      " 440 441 442 443 444 445 447 448 449 450 451 452 453 454 455 456 457 458\n",
      " 459 460 461 462 463 464 465 466 467 468 469 470 471 472 473 474 475 476\n",
      " 477 480 481 482 484 485 486 487 488 489 490 491 492 493 494 495 497 498] TEST: [  0   8   9  14  33  39  44  46  54  65  81  85  93 123 125 130 132 148\n",
      " 151 156 164 170 182 220 234 248 257 275 279 290 308 312 315 319 328 332\n",
      " 343 344 351 405 406 411 413 432 446 478 479 483 496 499]\n"
     ]
    },
    {
     "name": "stderr",
     "output_type": "stream",
     "text": [
      "c:\\users\\tony\\anaconda3\\lib\\site-packages\\sklearn\\linear_model\\logistic.py:432: FutureWarning: Default solver will be changed to 'lbfgs' in 0.22. Specify a solver to silence this warning.\n",
      "  FutureWarning)\n",
      "c:\\users\\tony\\anaconda3\\lib\\site-packages\\sklearn\\linear_model\\logistic.py:459: FutureWarning: Default multi_class will be changed to 'auto' in 0.22. Specify the multi_class option to silence this warning.\n",
      "  \"this warning.\", FutureWarning)\n"
     ]
    },
    {
     "name": "stdout",
     "output_type": "stream",
     "text": [
      "TRAIN: [  0   1   2   3   5   6   7   8   9  10  11  13  14  15  16  17  18  19\n",
      "  20  21  22  23  24  25  27  28  29  30  31  32  33  34  36  37  38  39\n",
      "  40  41  42  43  44  45  46  47  48  49  50  51  52  53  54  55  56  57\n",
      "  58  59  60  61  62  63  64  65  66  67  68  70  71  72  73  74  75  76\n",
      "  77  79  80  81  82  83  84  85  86  88  89  90  91  92  93  94  95  96\n",
      "  98  99 100 101 102 103 104 105 106 108 109 110 112 113 116 118 119 120\n",
      " 121 123 124 125 126 127 128 129 130 131 132 133 134 135 136 137 138 139\n",
      " 140 141 142 143 144 146 147 148 149 150 151 152 153 155 156 157 158 159\n",
      " 160 161 162 163 164 165 166 167 168 169 170 172 174 177 178 179 180 182\n",
      " 183 184 185 186 187 189 190 191 192 193 194 195 196 197 198 199 200 201\n",
      " 202 203 204 205 206 207 208 209 210 211 212 213 214 215 217 218 219 220\n",
      " 222 223 224 225 226 229 230 231 232 233 234 235 236 237 239 240 241 242\n",
      " 243 244 245 246 247 248 249 251 252 253 255 256 257 258 259 260 261 262\n",
      " 263 264 265 267 269 270 271 272 273 274 275 276 277 278 279 281 282 283\n",
      " 284 285 286 287 288 289 290 291 292 293 294 295 296 297 298 299 300 301\n",
      " 302 304 305 306 307 308 309 310 311 312 313 314 315 316 317 318 319 320\n",
      " 321 322 323 324 325 326 327 328 329 330 331 332 333 334 335 336 338 339\n",
      " 340 341 342 343 344 346 347 348 350 351 352 353 354 356 358 359 360 362\n",
      " 363 364 365 366 367 368 369 370 372 375 376 377 378 379 380 381 382 383\n",
      " 384 385 386 387 388 389 391 392 393 395 396 397 398 399 400 401 402 403\n",
      " 404 405 406 407 408 409 410 411 412 413 414 415 416 417 418 419 420 421\n",
      " 422 423 424 426 427 428 429 430 431 432 433 434 435 437 438 439 440 441\n",
      " 442 443 444 445 446 447 448 449 450 451 452 453 454 455 456 458 460 461\n",
      " 462 465 466 467 468 469 470 471 472 473 474 475 476 477 478 479 480 481\n",
      " 482 483 484 485 486 487 488 489 490 491 492 493 494 495 496 497 498 499] TEST: [  4  12  26  35  69  78  87  97 107 111 114 115 117 122 145 154 171 173\n",
      " 175 176 181 188 216 221 227 228 238 250 254 266 268 280 303 337 345 349\n",
      " 355 357 361 371 373 374 390 394 425 436 457 459 463 464]\n"
     ]
    },
    {
     "name": "stderr",
     "output_type": "stream",
     "text": [
      "c:\\users\\tony\\anaconda3\\lib\\site-packages\\sklearn\\linear_model\\logistic.py:432: FutureWarning: Default solver will be changed to 'lbfgs' in 0.22. Specify a solver to silence this warning.\n",
      "  FutureWarning)\n",
      "c:\\users\\tony\\anaconda3\\lib\\site-packages\\sklearn\\linear_model\\logistic.py:459: FutureWarning: Default multi_class will be changed to 'auto' in 0.22. Specify the multi_class option to silence this warning.\n",
      "  \"this warning.\", FutureWarning)\n"
     ]
    },
    {
     "name": "stdout",
     "output_type": "stream",
     "text": [
      "TRAIN: [  0   2   3   4   5   6   7   8   9  10  11  12  14  15  16  17  18  19\n",
      "  20  21  22  24  25  26  27  28  30  31  32  33  34  35  36  37  39  40\n",
      "  41  42  43  44  45  46  47  48  50  51  53  54  55  56  57  58  60  61\n",
      "  62  63  64  65  66  67  68  69  70  71  72  73  75  76  77  78  79  80\n",
      "  81  83  84  85  87  88  89  90  91  92  93  94  97  98  99 100 102 103\n",
      " 104 106 107 108 109 110 111 112 113 114 115 116 117 119 120 121 122 123\n",
      " 124 125 126 127 128 129 130 131 132 133 134 135 136 138 139 140 141 142\n",
      " 143 145 146 147 148 149 150 151 152 153 154 155 156 157 158 160 161 163\n",
      " 164 165 166 167 169 170 171 172 173 174 175 176 177 178 179 180 181 182\n",
      " 183 184 185 186 187 188 189 190 191 192 193 194 195 196 197 198 199 200\n",
      " 201 202 203 204 206 207 208 209 210 211 212 213 214 215 216 217 218 220\n",
      " 221 223 224 225 226 227 228 229 230 232 233 234 235 236 237 238 239 240\n",
      " 241 242 243 244 245 247 248 249 250 251 252 253 254 255 256 257 258 259\n",
      " 260 261 262 263 264 265 266 267 268 269 271 272 273 274 275 276 278 279\n",
      " 280 281 282 283 284 285 286 288 289 290 291 293 294 295 296 297 298 299\n",
      " 300 301 302 303 304 305 306 307 308 309 310 311 312 314 315 316 317 318\n",
      " 319 320 321 323 324 325 326 327 328 330 331 332 333 334 335 336 337 338\n",
      " 339 340 341 342 343 344 345 346 347 348 349 350 351 352 353 354 355 356\n",
      " 357 358 359 360 361 363 364 365 366 367 369 370 371 373 374 375 377 378\n",
      " 379 380 381 382 383 384 385 386 387 388 389 390 391 392 393 394 396 397\n",
      " 398 400 402 404 405 406 407 408 409 410 411 412 413 414 415 416 418 419\n",
      " 420 421 422 423 424 425 426 427 428 430 432 433 434 435 436 437 439 440\n",
      " 441 442 443 444 445 446 447 448 449 450 451 452 454 455 456 457 459 460\n",
      " 461 462 463 464 465 466 467 469 470 471 472 473 474 475 476 477 478 479\n",
      " 480 481 482 483 484 486 487 488 490 491 492 493 494 495 496 497 498 499] TEST: [  1  13  23  29  38  49  52  59  74  82  86  95  96 101 105 118 137 144\n",
      " 159 162 168 205 219 222 231 246 270 277 287 292 313 322 329 362 368 372\n",
      " 376 395 399 401 403 417 429 431 438 453 458 468 485 489]\n"
     ]
    },
    {
     "name": "stderr",
     "output_type": "stream",
     "text": [
      "c:\\users\\tony\\anaconda3\\lib\\site-packages\\sklearn\\linear_model\\logistic.py:432: FutureWarning: Default solver will be changed to 'lbfgs' in 0.22. Specify a solver to silence this warning.\n",
      "  FutureWarning)\n",
      "c:\\users\\tony\\anaconda3\\lib\\site-packages\\sklearn\\linear_model\\logistic.py:459: FutureWarning: Default multi_class will be changed to 'auto' in 0.22. Specify the multi_class option to silence this warning.\n",
      "  \"this warning.\", FutureWarning)\n"
     ]
    }
   ],
   "source": [
    "acc1b = cross_validataion(data1b,label1)\n",
    "acc2b = cross_validataion(data2b,label1)\n",
    "acc1r = cross_validataion(data1r,label2)\n",
    "acc2r = cross_validataion(data2r,label2)"
   ]
  },
  {
   "cell_type": "code",
   "execution_count": 51,
   "metadata": {},
   "outputs": [
    {
     "name": "stdout",
     "output_type": "stream",
     "text": [
      "The average 10-fold cross-validated test accuracy of Naive Bayes is:\n",
      "0.49800000000000005  on blue band circles\n",
      "0.612  on blue band rings\n",
      "0.41400000000000003  on red band circles\n",
      "0.5740000000000001  on red band rings\n",
      "The average 10-fold cross-validated test accuracy of Multinomial Regression on 3 Principle components is:\n",
      "0.49000000000000005  on blue band circles\n",
      "0.59  on blue band rings\n",
      "0.4600000000000001  on red band circles\n",
      "0.48200000000000004  on red band rings\n"
     ]
    }
   ],
   "source": [
    "print(\"The average 10-fold cross-validated test accuracy of Naive Bayes is:\")\n",
    "print(np.mean(acc1b[:,0]),\" on blue band circles\")\n",
    "print(np.mean(acc2b[:,0]),\" on blue band rings\")\n",
    "print(np.mean(acc1r[:,0]),\" on red band circles\")\n",
    "print(np.mean(acc2r[:,0]),\" on red band rings\")\n",
    "print(\"The average 10-fold cross-validated test accuracy of Multinomial Regression on 3 Principle components is:\")\n",
    "print(np.mean(acc1b[:,1]),\" on blue band circles\")\n",
    "print(np.mean(acc2b[:,1]),\" on blue band rings\")\n",
    "print(np.mean(acc1r[:,1]),\" on red band circles\")\n",
    "print(np.mean(acc2r[:,1]),\" on red band rings\")"
   ]
  },
  {
   "cell_type": "code",
   "execution_count": 12,
   "metadata": {},
   "outputs": [
    {
     "name": "stdout",
     "output_type": "stream",
     "text": [
      "[[0.76 0.64]\n",
      " [0.7  0.62]\n",
      " [0.68 0.6 ]\n",
      " [0.6  0.54]\n",
      " [0.6  0.52]\n",
      " [0.54 0.54]\n",
      " [0.7  0.58]\n",
      " [0.58 0.6 ]\n",
      " [0.66 0.54]\n",
      " [0.6  0.64]]\n"
     ]
    }
   ],
   "source": [
    "print(acc1b)"
   ]
  },
  {
   "cell_type": "markdown",
   "metadata": {},
   "source": [
    "### Get the 3 pinciple components of K-PCA Transformation (for 450 data) "
   ]
  },
  {
   "cell_type": "code",
   "execution_count": 54,
   "metadata": {},
   "outputs": [
    {
     "name": "stdout",
     "output_type": "stream",
     "text": [
      "19290\n"
     ]
    },
    {
     "ename": "KeyboardInterrupt",
     "evalue": "",
     "output_type": "error",
     "traceback": [
      "\u001b[1;31m---------------------------------------------------------------------------\u001b[0m",
      "\u001b[1;31mKeyboardInterrupt\u001b[0m                         Traceback (most recent call last)",
      "\u001b[1;32m<ipython-input-54-5b5dca92843f>\u001b[0m in \u001b[0;36m<module>\u001b[1;34m()\u001b[0m\n\u001b[0;32m      1\u001b[0m \u001b[1;31m#150 data for each class\u001b[0m\u001b[1;33m\u001b[0m\u001b[1;33m\u001b[0m\u001b[0m\n\u001b[1;32m----> 2\u001b[1;33m \u001b[0mdata1b\u001b[0m\u001b[1;33m,\u001b[0m\u001b[0mdata1r\u001b[0m\u001b[1;33m,\u001b[0m\u001b[0mdata2b\u001b[0m\u001b[1;33m,\u001b[0m\u001b[0mdata2r\u001b[0m \u001b[1;33m=\u001b[0m \u001b[0mdata_slicing\u001b[0m\u001b[1;33m(\u001b[0m\u001b[0mdir0\u001b[0m\u001b[1;33m,\u001b[0m\u001b[0mloc1\u001b[0m\u001b[1;33m,\u001b[0m\u001b[0mloc2\u001b[0m\u001b[1;33m)\u001b[0m\u001b[1;33m\u001b[0m\u001b[0m\n\u001b[0m\u001b[0;32m      3\u001b[0m \u001b[0mdata1b\u001b[0m\u001b[1;33m,\u001b[0m\u001b[0mlabel1\u001b[0m \u001b[1;33m=\u001b[0m \u001b[0mdata_cleaning15\u001b[0m\u001b[1;33m(\u001b[0m\u001b[0mdata1b\u001b[0m\u001b[1;33m)\u001b[0m\u001b[1;33m\u001b[0m\u001b[0m\n\u001b[0;32m      4\u001b[0m \u001b[0mX_train1b\u001b[0m\u001b[1;33m,\u001b[0m \u001b[0mX_test1b\u001b[0m\u001b[1;33m,\u001b[0m \u001b[0my_train1b\u001b[0m\u001b[1;33m,\u001b[0m \u001b[0my_test1b\u001b[0m \u001b[1;33m=\u001b[0m \u001b[0mtrain_test_split\u001b[0m\u001b[1;33m(\u001b[0m\u001b[0mdata1b\u001b[0m\u001b[1;33m,\u001b[0m \u001b[0mlabel1\u001b[0m\u001b[1;33m,\u001b[0m \u001b[0mtest_size\u001b[0m\u001b[1;33m=\u001b[0m\u001b[1;36m0.3\u001b[0m\u001b[1;33m,\u001b[0m \u001b[0mrandom_state\u001b[0m\u001b[1;33m=\u001b[0m\u001b[1;36m42\u001b[0m\u001b[1;33m)\u001b[0m\u001b[1;33m\u001b[0m\u001b[0m\n\u001b[0;32m      5\u001b[0m \u001b[0mdata1r\u001b[0m\u001b[1;33m,\u001b[0m\u001b[0mlabel2\u001b[0m \u001b[1;33m=\u001b[0m \u001b[0mdata_cleaning15\u001b[0m\u001b[1;33m(\u001b[0m\u001b[0mdata1r\u001b[0m\u001b[1;33m)\u001b[0m\u001b[1;33m\u001b[0m\u001b[0m\n",
      "\u001b[1;32m<ipython-input-46-2c325d569cf4>\u001b[0m in \u001b[0;36mdata_slicing\u001b[1;34m(dir0, loc1, loc2)\u001b[0m\n\u001b[0;32m     61\u001b[0m             \u001b[1;32mif\u001b[0m \u001b[0mband\u001b[0m \u001b[1;33m==\u001b[0m \u001b[1;34m'b'\u001b[0m\u001b[1;33m:\u001b[0m\u001b[1;33m\u001b[0m\u001b[0m\n\u001b[0;32m     62\u001b[0m \u001b[1;31m#                 img = data_normalization(img)\u001b[0m\u001b[1;33m\u001b[0m\u001b[1;33m\u001b[0m\u001b[0m\n\u001b[1;32m---> 63\u001b[1;33m                 \u001b[0mnew1\u001b[0m \u001b[1;33m=\u001b[0m \u001b[0mGet_Data\u001b[0m\u001b[1;33m(\u001b[0m\u001b[0mimg\u001b[0m\u001b[1;33m,\u001b[0m \u001b[0mloc1\u001b[0m\u001b[1;33m)\u001b[0m\u001b[1;33m\u001b[0m\u001b[0m\n\u001b[0m\u001b[0;32m     64\u001b[0m                 \u001b[0mnew2\u001b[0m \u001b[1;33m=\u001b[0m \u001b[0mGet_Data\u001b[0m\u001b[1;33m(\u001b[0m\u001b[0mimg\u001b[0m\u001b[1;33m,\u001b[0m \u001b[0mloc2\u001b[0m\u001b[1;33m)\u001b[0m\u001b[1;33m\u001b[0m\u001b[0m\n\u001b[0;32m     65\u001b[0m                 \u001b[0mdata1b\u001b[0m\u001b[1;33m[\u001b[0m\u001b[0mi\u001b[0m\u001b[1;33m,\u001b[0m\u001b[1;33m:\u001b[0m\u001b[1;33m-\u001b[0m\u001b[1;36m1\u001b[0m\u001b[1;33m]\u001b[0m \u001b[1;33m=\u001b[0m \u001b[0mnew1\u001b[0m\u001b[1;33m.\u001b[0m\u001b[0mT\u001b[0m\u001b[1;33m\u001b[0m\u001b[0m\n",
      "\u001b[1;32m<ipython-input-46-2c325d569cf4>\u001b[0m in \u001b[0;36mGet_Data\u001b[1;34m(data, Loc)\u001b[0m\n\u001b[0;32m     31\u001b[0m     \u001b[0mout\u001b[0m \u001b[1;33m=\u001b[0m \u001b[0mnp\u001b[0m\u001b[1;33m.\u001b[0m\u001b[0mzeros\u001b[0m\u001b[1;33m(\u001b[0m\u001b[1;33m[\u001b[0m\u001b[0mnp\u001b[0m\u001b[1;33m.\u001b[0m\u001b[0mshape\u001b[0m\u001b[1;33m(\u001b[0m\u001b[0mLoc\u001b[0m\u001b[1;33m)\u001b[0m\u001b[1;33m[\u001b[0m\u001b[1;36m0\u001b[0m\u001b[1;33m]\u001b[0m\u001b[1;33m,\u001b[0m\u001b[1;36m1\u001b[0m\u001b[1;33m]\u001b[0m\u001b[1;33m)\u001b[0m\u001b[1;33m\u001b[0m\u001b[0m\n\u001b[0;32m     32\u001b[0m     \u001b[1;32mfor\u001b[0m \u001b[0mi\u001b[0m \u001b[1;32min\u001b[0m \u001b[0mrange\u001b[0m\u001b[1;33m(\u001b[0m\u001b[1;36m0\u001b[0m\u001b[1;33m,\u001b[0m\u001b[0mn\u001b[0m\u001b[1;33m-\u001b[0m\u001b[1;36m1\u001b[0m\u001b[1;33m)\u001b[0m\u001b[1;33m:\u001b[0m\u001b[1;33m\u001b[0m\u001b[0m\n\u001b[1;32m---> 33\u001b[1;33m         \u001b[0mout\u001b[0m\u001b[1;33m[\u001b[0m\u001b[0mi\u001b[0m\u001b[1;33m]\u001b[0m \u001b[1;33m=\u001b[0m \u001b[0mdata\u001b[0m\u001b[1;33m[\u001b[0m\u001b[0mLoc\u001b[0m\u001b[1;33m[\u001b[0m\u001b[0mi\u001b[0m\u001b[1;33m,\u001b[0m\u001b[1;36m0\u001b[0m\u001b[1;33m]\u001b[0m\u001b[1;33m,\u001b[0m\u001b[0mLoc\u001b[0m\u001b[1;33m[\u001b[0m\u001b[0mi\u001b[0m\u001b[1;33m,\u001b[0m\u001b[1;36m1\u001b[0m\u001b[1;33m]\u001b[0m\u001b[1;33m]\u001b[0m\u001b[1;33m\u001b[0m\u001b[0m\n\u001b[0m\u001b[0;32m     34\u001b[0m     \u001b[1;32mreturn\u001b[0m \u001b[0mout\u001b[0m\u001b[1;33m\u001b[0m\u001b[0m\n\u001b[0;32m     35\u001b[0m \u001b[1;33m\u001b[0m\u001b[0m\n",
      "\u001b[1;31mKeyboardInterrupt\u001b[0m: "
     ]
    }
   ],
   "source": [
    "   #150 data for each class\n",
    "data1b,data1r,data2b,data2r = data_slicing(dir0,loc1,loc2)\n",
    "data1b,label1 = data_cleaning15(data1b)\n",
    "X_train1b, X_test1b, y_train1b, y_test1b = train_test_split(data1b, label1, test_size=0.3, random_state=42)\n",
    "data1r,label2 = data_cleaning15(data1r)\n",
    "X_train1r, X_test1r, y_train1r, y_test1r = train_test_split(data1r, label2, test_size=0.3, random_state=42)\n",
    "data2b,label1 = data_cleaning15(data2b)\n",
    "X_train2b, X_test2b, y_train2b, y_test2b = train_test_split(data2b, label1, test_size=0.3, random_state=42)\n",
    "data2r,label2 = data_cleaning15(data2r)\n",
    "X_train2r, X_test2r, y_train2r, y_test2r = train_test_split(data2r, label2, test_size=0.3, random_state=42)\n"
   ]
  },
  {
   "cell_type": "code",
   "execution_count": 55,
   "metadata": {},
   "outputs": [
    {
     "name": "stdout",
     "output_type": "stream",
     "text": [
      "19290\n",
      "100 200 300 400 500\n",
      "100 200 300 400 500\n",
      "100 200 300 400 500\n",
      "100 200 300 400 500\n"
     ]
    }
   ],
   "source": [
    "   #150 data for each class\n",
    "data1b,data1r,data2b,data2r = data_slicing(dir0,loc1,loc2)\n",
    "data1b,label1 = data_cleaning100(data1b)\n",
    "X_train1b, X_test1b, y_train1b, y_test1b = train_test_split(data1b, label1, test_size=0.3, random_state=42)\n",
    "data1r,label2 = data_cleaning100(data1r)\n",
    "X_train1r, X_test1r, y_train1r, y_test1r = train_test_split(data1r, label2, test_size=0.3, random_state=42)\n",
    "data2b,label1 = data_cleaning100(data2b)\n",
    "X_train2b, X_test2b, y_train2b, y_test2b = train_test_split(data2b, label1, test_size=0.3, random_state=42)\n",
    "data2r,label2 = data_cleaning100(data2r)\n",
    "X_train2r, X_test2r, y_train2r, y_test2r = train_test_split(data2r, label2, test_size=0.3, random_state=42)\n"
   ]
  },
  {
   "cell_type": "code",
   "execution_count": 56,
   "metadata": {},
   "outputs": [
    {
     "name": "stdout",
     "output_type": "stream",
     "text": [
      "(500, 11277) (500, 11304) (500, 11277) (500, 11304) (500,) (500,)\n"
     ]
    }
   ],
   "source": [
    "print(data1b.shape,data2b.shape,data1r.shape,data2r.shape,label1.shape,label2.shape)\n",
    "\n",
    "\n",
    "# X1 = X_train1b\n",
    "# y1 = y_train1b\n",
    "X1 = data1b\n",
    "y1 = label1\n",
    "X1 = data_normalization(X1)\n",
    "kpca = KernelPCA(kernel=\"linear\", fit_inverse_transform=True, gamma=10)\n",
    "X_kpca = kpca.fit_transform(X1)\n",
    "#X_back = kpca.inverse_transform(X_kpca)\n",
    "pca = PCA()\n",
    "X_pca = pca.fit_transform(X1)\n"
   ]
  },
  {
   "cell_type": "code",
   "execution_count": 57,
   "metadata": {},
   "outputs": [],
   "source": [
    "# X2 = X_train2b\n",
    "# y2 = y_train2b\n",
    "X2 = data2b\n",
    "y2 = label1\n",
    "X2 = data_normalization(X2)\n",
    "X_kpca2 = kpca.fit_transform(X2)\n",
    "#X_back2 = kpca.inverse_transform(X_kpca)\n",
    "X_pca2 = pca.fit_transform(X2)"
   ]
  },
  {
   "cell_type": "code",
   "execution_count": 20,
   "metadata": {},
   "outputs": [
    {
     "data": {
      "image/png": "[encoded data removed]",
      "text/plain": [
       "<matplotlib.figure.Figure at 0x92474ffa20>"
      ]
     },
     "metadata": {},
     "output_type": "display_data"
    }
   ],
   "source": [
    "fig = plt.figure()\n",
    "ax = fig.add_subplot(111, projection='3d')\n",
    "\n",
    "ax.scatter(X_kpca[y1==2, 0], X_kpca[y1==2, 1],X_kpca[y1==2, 2], color='r', marker='^', alpha=.4)\n",
    "ax.scatter(X_kpca[y1==1, 0], X_kpca[y1==1, 1],X_kpca[y1==1, 2], color='b', marker='o', alpha=.4)\n",
    "ax.scatter(X_kpca[y1==3, 0], X_kpca[y1==3, 1],X_kpca[y1==3, 2], color='g', marker='o', alpha=.4)\n",
    "ax.view_init(azim=45)\n",
    "label = ax.set_xlabel('Principle Component 1', fontsize = 9)\n",
    "label = ax.set_ylabel('Principle Component 2', fontsize = 9)\n",
    "label = ax.set_zlabel('Principle Component 3', fontsize = 9)\n",
    "plt.legend(('class p','class m','class o,i,u'),loc='upper left', fontsize = 7)\n",
    "plt.title(\"Plot on 3 principle components of blue-band inner circle.\", fontsize = 9)\n",
    "plt.show()\n"
   ]
  },
  {
   "cell_type": "code",
   "execution_count": 58,
   "metadata": {},
   "outputs": [
    {
     "data": {
      "image/png": "[encoded data removed]",
      "text/plain": [
       "<matplotlib.figure.Figure at 0x248010f748>"
      ]
     },
     "metadata": {
      "needs_background": "light"
     },
     "output_type": "display_data"
    }
   ],
   "source": [
    "fig = plt.figure()\n",
    "ax = fig.add_subplot(111, projection='3d')\n",
    "\n",
    "ax.scatter(X_kpca[y1==2, 0], X_kpca[y1==2, 1],X_kpca[y1==2, 2], color='r', marker='^', alpha=.4)\n",
    "ax.scatter(X_kpca[y1==1, 0], X_kpca[y1==1, 1],X_kpca[y1==1, 2], color='b', marker='o', alpha=.4)\n",
    "ax.scatter(X_kpca[y1==3, 0], X_kpca[y1==3, 1],X_kpca[y1==3, 2], color='g', marker='o', alpha=.4)\n",
    "ax.scatter(X_kpca[y1==4, 0], X_kpca[y1==4, 1],X_kpca[y1==4, 2], color='c', marker='o', alpha=.4)\n",
    "ax.scatter(X_kpca[y1==5, 0], X_kpca[y1==5, 1],X_kpca[y1==5, 2], color='k', marker='o', alpha=.4)\n",
    "ax.view_init(azim=45)\n",
    "label = ax.set_xlabel('Principle Component 1', fontsize = 9)\n",
    "label = ax.set_ylabel('Principle Component 2', fontsize = 9)\n",
    "label = ax.set_zlabel('Principle Component 3', fontsize = 9)\n",
    "plt.legend(('class p','class m','class o','class i','class u'),loc='upper left', fontsize = 7)\n",
    "plt.title(\"Plot on 3 principle components of blue-band inner circle.\", fontsize = 9)\n",
    "plt.show()\n"
   ]
  },
  {
   "cell_type": "code",
   "execution_count": 59,
   "metadata": {},
   "outputs": [
    {
     "data": {
      "image/png": "[encoded data removed]",
      "text/plain": [
       "<matplotlib.figure.Figure at 0x2480051dd8>"
      ]
     },
     "metadata": {
      "needs_background": "light"
     },
     "output_type": "display_data"
    }
   ],
   "source": [
    "fig = plt.figure()\n",
    "ax = fig.add_subplot(111, projection='3d')\n",
    "\n",
    "ax.scatter(X_kpca2[y1==2, 0], X_kpca2[y1==2, 1],X_kpca2[y1==2, 2], color='r', marker='^', alpha=.4)\n",
    "ax.scatter(X_kpca2[y1==1, 0], X_kpca2[y1==1, 1],X_kpca2[y1==1, 2], color='b', marker='o', alpha=.4)\n",
    "ax.scatter(X_kpca2[y1==3, 0], X_kpca2[y1==3, 1],X_kpca2[y1==3, 2], color='g', marker='o', alpha=.4)\n",
    "ax.scatter(X_kpca2[y1==4, 0], X_kpca2[y1==4, 1],X_kpca2[y1==4, 2], color='c', marker='o', alpha=.4)\n",
    "ax.scatter(X_kpca2[y1==5, 0], X_kpca2[y1==5, 1],X_kpca2[y1==5, 2], color='k', marker='o', alpha=.4)\n",
    "ax.view_init(azim=45)\n",
    "label = ax.set_xlabel('Principle Component 1', fontsize = 9)\n",
    "label = ax.set_ylabel('Principle Component 2', fontsize = 9)\n",
    "label = ax.set_zlabel('Principle Component 3', fontsize = 9)\n",
    "plt.legend(('class p','class m','class o','class i','class u'),loc='upper left', fontsize = 7)\n",
    "plt.title(\"Plot on 3 principle components of blue-band ring.\", fontsize = 9)\n",
    "plt.show()\n"
   ]
  },
  {
   "cell_type": "code",
   "execution_count": 21,
   "metadata": {},
   "outputs": [
    {
     "data": {
      "image/png": "[encoded data removed]",
      "text/plain": [
       "<matplotlib.figure.Figure at 0x922a3b88d0>"
      ]
     },
     "metadata": {},
     "output_type": "display_data"
    }
   ],
   "source": [
    "fig = plt.figure()\n",
    "ax = fig.add_subplot(111, projection='3d')\n",
    "\n",
    "ax.scatter(X_kpca2[y2==2, 0], X_kpca2[y2==2, 1],X_kpca2[y2==2, 2], color='r', marker='^', alpha=.4)\n",
    "ax.scatter(X_kpca2[y2==1, 0], X_kpca2[y2==1, 1],X_kpca2[y2==1, 2], color='b', marker='o', alpha=.4)\n",
    "ax.scatter(X_kpca2[y2==3, 0], X_kpca2[y2==3, 1],X_kpca2[y2==3, 2], color='g', marker='o', alpha=.4)\n",
    "ax.view_init(azim=45)\n",
    "label = ax.set_xlabel('Principle Component 1', fontsize = 9)\n",
    "label = ax.set_ylabel('Principle Component 2', fontsize = 9)\n",
    "label = ax.set_zlabel('Principle Component 3', fontsize = 9)\n",
    "plt.legend(('class p','class m','class o,i,u'),loc='upper left', fontsize = 7)\n",
    "plt.title(\"Plot on 3 principle components of blue-band ring.\", fontsize = 9)\n",
    "plt.show()\n"
   ]
  },
  {
   "cell_type": "markdown",
   "metadata": {},
   "source": [
    "### Naive Bayes"
   ]
  },
  {
   "cell_type": "code",
   "execution_count": 60,
   "metadata": {},
   "outputs": [
    {
     "name": "stdout",
     "output_type": "stream",
     "text": [
      "500\n",
      "150\n",
      "test accuracy for circled area is  0.5933333333333334\n"
     ]
    }
   ],
   "source": [
    "from sklearn.naive_bayes import MultinomialNB\n",
    "clf = MultinomialNB()\n",
    "clf.fit(X1, y1)\n",
    "MultinomialNB(alpha=1.0, class_prior=None, fit_prior=True)\n",
    "pred = clf.predict(X_test1b)\n",
    "err = pred - y_test1b\n",
    "err= np.asarray(err)\n",
    "print(X1.shape[0])\n",
    "print(len(err))\n",
    "j = 0\n",
    "for i in range(len(err)):\n",
    "    if err[i] == 0:\n",
    "        j += 1\n",
    "        \n",
    "print(\"test accuracy for circled area is \"  ,j/len(err))"
   ]
  },
  {
   "cell_type": "code",
   "execution_count": 61,
   "metadata": {},
   "outputs": [
    {
     "name": "stdout",
     "output_type": "stream",
     "text": [
      "test accuracy for ring area is  0.6866666666666666\n"
     ]
    }
   ],
   "source": [
    "clf = MultinomialNB()\n",
    "clf.fit(X2, y2)\n",
    "MultinomialNB(alpha=1.0, class_prior=None, fit_prior=True)\n",
    "pred = clf.predict(X_test2b)\n",
    "err = pred - y_test2b\n",
    "err= np.asarray(err)\n",
    "j = 0\n",
    "for i in range(len(err)):\n",
    "    if err[i] == 0:\n",
    "        j += 1\n",
    "        \n",
    "print(\"test accuracy for ring area is \"  ,j/len(err))"
   ]
  },
  {
   "cell_type": "markdown",
   "metadata": {},
   "source": [
    "### Multinomial Logistic Regression on 3 Principle components "
   ]
  },
  {
   "cell_type": "code",
   "execution_count": 62,
   "metadata": {},
   "outputs": [
    {
     "name": "stdout",
     "output_type": "stream",
     "text": [
      "test accuracy for circled area on 3 principle component is  0.5266666666666666\n"
     ]
    },
    {
     "name": "stderr",
     "output_type": "stream",
     "text": [
      "c:\\users\\tony\\anaconda3\\lib\\site-packages\\sklearn\\linear_model\\logistic.py:432: FutureWarning: Default solver will be changed to 'lbfgs' in 0.22. Specify a solver to silence this warning.\n",
      "  FutureWarning)\n",
      "c:\\users\\tony\\anaconda3\\lib\\site-packages\\sklearn\\linear_model\\logistic.py:459: FutureWarning: Default multi_class will be changed to 'auto' in 0.22. Specify the multi_class option to silence this warning.\n",
      "  \"this warning.\", FutureWarning)\n"
     ]
    }
   ],
   "source": [
    "data_Circle = X_kpca[:,:3]\n",
    "data_Ring = X_kpca2[:,:3]\n",
    "label_Circle = label1\n",
    "label_Ring = label1\n",
    "X_train1, X_test1, Y_train1, Y_test1 = train_test_split(data_Circle, label_Circle, test_size=0.3, random_state=5889098)\n",
    "X_train2, X_test2, Y_train2, Y_test2 = train_test_split(data_Ring, label_Ring, test_size=0.3, random_state=5889098)\n",
    "\n",
    "from sklearn.preprocessing import StandardScaler\n",
    "from sklearn import linear_model, datasets\n",
    "sc = StandardScaler()\n",
    "sc.fit(X_train1)\n",
    "X_train_std1 = sc.transform(X_train1)\n",
    "X_test_std1 = sc.transform(X_test1)\n",
    "\n",
    "logreg = linear_model.LogisticRegression()\n",
    "logreg.fit(X_train1, Y_train1)\n",
    "prepro = logreg.predict_proba(X_test_std1)\n",
    "acc = logreg.score(X_test_std1,Y_test1)\n",
    "print(\"test accuracy for circled area on 3 principle component is \"  ,acc)"
   ]
  },
  {
   "cell_type": "code",
   "execution_count": 63,
   "metadata": {},
   "outputs": [
    {
     "name": "stdout",
     "output_type": "stream",
     "text": [
      "test accuracy for ring area on 3 principle component is  0.5866666666666667\n"
     ]
    },
    {
     "name": "stderr",
     "output_type": "stream",
     "text": [
      "c:\\users\\tony\\anaconda3\\lib\\site-packages\\sklearn\\linear_model\\logistic.py:432: FutureWarning: Default solver will be changed to 'lbfgs' in 0.22. Specify a solver to silence this warning.\n",
      "  FutureWarning)\n",
      "c:\\users\\tony\\anaconda3\\lib\\site-packages\\sklearn\\linear_model\\logistic.py:459: FutureWarning: Default multi_class will be changed to 'auto' in 0.22. Specify the multi_class option to silence this warning.\n",
      "  \"this warning.\", FutureWarning)\n"
     ]
    }
   ],
   "source": [
    "sc = StandardScaler()\n",
    "sc.fit(X_train2)\n",
    "X_train_std2 = sc.transform(X_train2)\n",
    "X_test_std2 = sc.transform(X_test2)\n",
    "\n",
    "logreg = linear_model.LogisticRegression()\n",
    "logreg.fit(X_train2, Y_train2)\n",
    "prepro = logreg.predict_proba(X_test_std2)\n",
    "acc = logreg.score(X_test_std2,Y_test2)\n",
    "print(\"test accuracy for ring area on 3 principle component is \"  ,acc)"
   ]
  },
  {
   "cell_type": "markdown",
   "metadata": {},
   "source": [
    "### test the accuracy on different principle components"
   ]
  },
  {
   "cell_type": "code",
   "execution_count": 64,
   "metadata": {},
   "outputs": [
    {
     "name": "stderr",
     "output_type": "stream",
     "text": [
      "c:\\users\\tony\\anaconda3\\lib\\site-packages\\sklearn\\linear_model\\logistic.py:432: FutureWarning: Default solver will be changed to 'lbfgs' in 0.22. Specify a solver to silence this warning.\n",
      "  FutureWarning)\n",
      "c:\\users\\tony\\anaconda3\\lib\\site-packages\\sklearn\\linear_model\\logistic.py:459: FutureWarning: Default multi_class will be changed to 'auto' in 0.22. Specify the multi_class option to silence this warning.\n",
      "  \"this warning.\", FutureWarning)\n",
      "c:\\users\\tony\\anaconda3\\lib\\site-packages\\sklearn\\linear_model\\logistic.py:432: FutureWarning: Default solver will be changed to 'lbfgs' in 0.22. Specify a solver to silence this warning.\n",
      "  FutureWarning)\n",
      "c:\\users\\tony\\anaconda3\\lib\\site-packages\\sklearn\\linear_model\\logistic.py:459: FutureWarning: Default multi_class will be changed to 'auto' in 0.22. Specify the multi_class option to silence this warning.\n",
      "  \"this warning.\", FutureWarning)\n",
      "c:\\users\\tony\\anaconda3\\lib\\site-packages\\sklearn\\linear_model\\logistic.py:432: FutureWarning: Default solver will be changed to 'lbfgs' in 0.22. Specify a solver to silence this warning.\n",
      "  FutureWarning)\n",
      "c:\\users\\tony\\anaconda3\\lib\\site-packages\\sklearn\\linear_model\\logistic.py:459: FutureWarning: Default multi_class will be changed to 'auto' in 0.22. Specify the multi_class option to silence this warning.\n",
      "  \"this warning.\", FutureWarning)\n",
      "c:\\users\\tony\\anaconda3\\lib\\site-packages\\sklearn\\linear_model\\logistic.py:432: FutureWarning: Default solver will be changed to 'lbfgs' in 0.22. Specify a solver to silence this warning.\n",
      "  FutureWarning)\n",
      "c:\\users\\tony\\anaconda3\\lib\\site-packages\\sklearn\\linear_model\\logistic.py:459: FutureWarning: Default multi_class will be changed to 'auto' in 0.22. Specify the multi_class option to silence this warning.\n",
      "  \"this warning.\", FutureWarning)\n",
      "c:\\users\\tony\\anaconda3\\lib\\site-packages\\sklearn\\linear_model\\logistic.py:432: FutureWarning: Default solver will be changed to 'lbfgs' in 0.22. Specify a solver to silence this warning.\n",
      "  FutureWarning)\n",
      "c:\\users\\tony\\anaconda3\\lib\\site-packages\\sklearn\\linear_model\\logistic.py:459: FutureWarning: Default multi_class will be changed to 'auto' in 0.22. Specify the multi_class option to silence this warning.\n",
      "  \"this warning.\", FutureWarning)\n",
      "c:\\users\\tony\\anaconda3\\lib\\site-packages\\sklearn\\linear_model\\logistic.py:432: FutureWarning: Default solver will be changed to 'lbfgs' in 0.22. Specify a solver to silence this warning.\n",
      "  FutureWarning)\n",
      "c:\\users\\tony\\anaconda3\\lib\\site-packages\\sklearn\\linear_model\\logistic.py:459: FutureWarning: Default multi_class will be changed to 'auto' in 0.22. Specify the multi_class option to silence this warning.\n",
      "  \"this warning.\", FutureWarning)\n",
      "c:\\users\\tony\\anaconda3\\lib\\site-packages\\sklearn\\linear_model\\logistic.py:432: FutureWarning: Default solver will be changed to 'lbfgs' in 0.22. Specify a solver to silence this warning.\n",
      "  FutureWarning)\n",
      "c:\\users\\tony\\anaconda3\\lib\\site-packages\\sklearn\\linear_model\\logistic.py:459: FutureWarning: Default multi_class will be changed to 'auto' in 0.22. Specify the multi_class option to silence this warning.\n",
      "  \"this warning.\", FutureWarning)\n",
      "c:\\users\\tony\\anaconda3\\lib\\site-packages\\sklearn\\linear_model\\logistic.py:432: FutureWarning: Default solver will be changed to 'lbfgs' in 0.22. Specify a solver to silence this warning.\n",
      "  FutureWarning)\n",
      "c:\\users\\tony\\anaconda3\\lib\\site-packages\\sklearn\\linear_model\\logistic.py:459: FutureWarning: Default multi_class will be changed to 'auto' in 0.22. Specify the multi_class option to silence this warning.\n",
      "  \"this warning.\", FutureWarning)\n",
      "c:\\users\\tony\\anaconda3\\lib\\site-packages\\sklearn\\linear_model\\logistic.py:432: FutureWarning: Default solver will be changed to 'lbfgs' in 0.22. Specify a solver to silence this warning.\n",
      "  FutureWarning)\n",
      "c:\\users\\tony\\anaconda3\\lib\\site-packages\\sklearn\\linear_model\\logistic.py:459: FutureWarning: Default multi_class will be changed to 'auto' in 0.22. Specify the multi_class option to silence this warning.\n",
      "  \"this warning.\", FutureWarning)\n",
      "c:\\users\\tony\\anaconda3\\lib\\site-packages\\sklearn\\linear_model\\logistic.py:432: FutureWarning: Default solver will be changed to 'lbfgs' in 0.22. Specify a solver to silence this warning.\n",
      "  FutureWarning)\n",
      "c:\\users\\tony\\anaconda3\\lib\\site-packages\\sklearn\\linear_model\\logistic.py:459: FutureWarning: Default multi_class will be changed to 'auto' in 0.22. Specify the multi_class option to silence this warning.\n",
      "  \"this warning.\", FutureWarning)\n",
      "c:\\users\\tony\\anaconda3\\lib\\site-packages\\sklearn\\linear_model\\logistic.py:432: FutureWarning: Default solver will be changed to 'lbfgs' in 0.22. Specify a solver to silence this warning.\n",
      "  FutureWarning)\n",
      "c:\\users\\tony\\anaconda3\\lib\\site-packages\\sklearn\\linear_model\\logistic.py:459: FutureWarning: Default multi_class will be changed to 'auto' in 0.22. Specify the multi_class option to silence this warning.\n",
      "  \"this warning.\", FutureWarning)\n",
      "c:\\users\\tony\\anaconda3\\lib\\site-packages\\sklearn\\linear_model\\logistic.py:432: FutureWarning: Default solver will be changed to 'lbfgs' in 0.22. Specify a solver to silence this warning.\n",
      "  FutureWarning)\n",
      "c:\\users\\tony\\anaconda3\\lib\\site-packages\\sklearn\\linear_model\\logistic.py:459: FutureWarning: Default multi_class will be changed to 'auto' in 0.22. Specify the multi_class option to silence this warning.\n",
      "  \"this warning.\", FutureWarning)\n",
      "c:\\users\\tony\\anaconda3\\lib\\site-packages\\sklearn\\linear_model\\logistic.py:432: FutureWarning: Default solver will be changed to 'lbfgs' in 0.22. Specify a solver to silence this warning.\n",
      "  FutureWarning)\n",
      "c:\\users\\tony\\anaconda3\\lib\\site-packages\\sklearn\\linear_model\\logistic.py:459: FutureWarning: Default multi_class will be changed to 'auto' in 0.22. Specify the multi_class option to silence this warning.\n",
      "  \"this warning.\", FutureWarning)\n",
      "c:\\users\\tony\\anaconda3\\lib\\site-packages\\sklearn\\linear_model\\logistic.py:432: FutureWarning: Default solver will be changed to 'lbfgs' in 0.22. Specify a solver to silence this warning.\n",
      "  FutureWarning)\n",
      "c:\\users\\tony\\anaconda3\\lib\\site-packages\\sklearn\\linear_model\\logistic.py:459: FutureWarning: Default multi_class will be changed to 'auto' in 0.22. Specify the multi_class option to silence this warning.\n",
      "  \"this warning.\", FutureWarning)\n",
      "c:\\users\\tony\\anaconda3\\lib\\site-packages\\sklearn\\linear_model\\logistic.py:432: FutureWarning: Default solver will be changed to 'lbfgs' in 0.22. Specify a solver to silence this warning.\n",
      "  FutureWarning)\n",
      "c:\\users\\tony\\anaconda3\\lib\\site-packages\\sklearn\\linear_model\\logistic.py:459: FutureWarning: Default multi_class will be changed to 'auto' in 0.22. Specify the multi_class option to silence this warning.\n",
      "  \"this warning.\", FutureWarning)\n",
      "c:\\users\\tony\\anaconda3\\lib\\site-packages\\sklearn\\linear_model\\logistic.py:432: FutureWarning: Default solver will be changed to 'lbfgs' in 0.22. Specify a solver to silence this warning.\n",
      "  FutureWarning)\n",
      "c:\\users\\tony\\anaconda3\\lib\\site-packages\\sklearn\\linear_model\\logistic.py:459: FutureWarning: Default multi_class will be changed to 'auto' in 0.22. Specify the multi_class option to silence this warning.\n",
      "  \"this warning.\", FutureWarning)\n",
      "c:\\users\\tony\\anaconda3\\lib\\site-packages\\sklearn\\linear_model\\logistic.py:432: FutureWarning: Default solver will be changed to 'lbfgs' in 0.22. Specify a solver to silence this warning.\n",
      "  FutureWarning)\n",
      "c:\\users\\tony\\anaconda3\\lib\\site-packages\\sklearn\\linear_model\\logistic.py:459: FutureWarning: Default multi_class will be changed to 'auto' in 0.22. Specify the multi_class option to silence this warning.\n",
      "  \"this warning.\", FutureWarning)\n",
      "c:\\users\\tony\\anaconda3\\lib\\site-packages\\sklearn\\linear_model\\logistic.py:432: FutureWarning: Default solver will be changed to 'lbfgs' in 0.22. Specify a solver to silence this warning.\n",
      "  FutureWarning)\n",
      "c:\\users\\tony\\anaconda3\\lib\\site-packages\\sklearn\\linear_model\\logistic.py:459: FutureWarning: Default multi_class will be changed to 'auto' in 0.22. Specify the multi_class option to silence this warning.\n",
      "  \"this warning.\", FutureWarning)\n",
      "c:\\users\\tony\\anaconda3\\lib\\site-packages\\sklearn\\linear_model\\logistic.py:432: FutureWarning: Default solver will be changed to 'lbfgs' in 0.22. Specify a solver to silence this warning.\n",
      "  FutureWarning)\n",
      "c:\\users\\tony\\anaconda3\\lib\\site-packages\\sklearn\\linear_model\\logistic.py:459: FutureWarning: Default multi_class will be changed to 'auto' in 0.22. Specify the multi_class option to silence this warning.\n",
      "  \"this warning.\", FutureWarning)\n",
      "c:\\users\\tony\\anaconda3\\lib\\site-packages\\sklearn\\linear_model\\logistic.py:432: FutureWarning: Default solver will be changed to 'lbfgs' in 0.22. Specify a solver to silence this warning.\n",
      "  FutureWarning)\n",
      "c:\\users\\tony\\anaconda3\\lib\\site-packages\\sklearn\\linear_model\\logistic.py:459: FutureWarning: Default multi_class will be changed to 'auto' in 0.22. Specify the multi_class option to silence this warning.\n",
      "  \"this warning.\", FutureWarning)\n",
      "c:\\users\\tony\\anaconda3\\lib\\site-packages\\sklearn\\linear_model\\logistic.py:432: FutureWarning: Default solver will be changed to 'lbfgs' in 0.22. Specify a solver to silence this warning.\n",
      "  FutureWarning)\n",
      "c:\\users\\tony\\anaconda3\\lib\\site-packages\\sklearn\\linear_model\\logistic.py:459: FutureWarning: Default multi_class will be changed to 'auto' in 0.22. Specify the multi_class option to silence this warning.\n",
      "  \"this warning.\", FutureWarning)\n",
      "c:\\users\\tony\\anaconda3\\lib\\site-packages\\sklearn\\linear_model\\logistic.py:432: FutureWarning: Default solver will be changed to 'lbfgs' in 0.22. Specify a solver to silence this warning.\n",
      "  FutureWarning)\n",
      "c:\\users\\tony\\anaconda3\\lib\\site-packages\\sklearn\\linear_model\\logistic.py:459: FutureWarning: Default multi_class will be changed to 'auto' in 0.22. Specify the multi_class option to silence this warning.\n",
      "  \"this warning.\", FutureWarning)\n",
      "c:\\users\\tony\\anaconda3\\lib\\site-packages\\sklearn\\linear_model\\logistic.py:432: FutureWarning: Default solver will be changed to 'lbfgs' in 0.22. Specify a solver to silence this warning.\n",
      "  FutureWarning)\n",
      "c:\\users\\tony\\anaconda3\\lib\\site-packages\\sklearn\\linear_model\\logistic.py:459: FutureWarning: Default multi_class will be changed to 'auto' in 0.22. Specify the multi_class option to silence this warning.\n",
      "  \"this warning.\", FutureWarning)\n",
      "c:\\users\\tony\\anaconda3\\lib\\site-packages\\sklearn\\linear_model\\logistic.py:432: FutureWarning: Default solver will be changed to 'lbfgs' in 0.22. Specify a solver to silence this warning.\n",
      "  FutureWarning)\n",
      "c:\\users\\tony\\anaconda3\\lib\\site-packages\\sklearn\\linear_model\\logistic.py:459: FutureWarning: Default multi_class will be changed to 'auto' in 0.22. Specify the multi_class option to silence this warning.\n",
      "  \"this warning.\", FutureWarning)\n",
      "c:\\users\\tony\\anaconda3\\lib\\site-packages\\sklearn\\linear_model\\logistic.py:432: FutureWarning: Default solver will be changed to 'lbfgs' in 0.22. Specify a solver to silence this warning.\n",
      "  FutureWarning)\n",
      "c:\\users\\tony\\anaconda3\\lib\\site-packages\\sklearn\\linear_model\\logistic.py:459: FutureWarning: Default multi_class will be changed to 'auto' in 0.22. Specify the multi_class option to silence this warning.\n",
      "  \"this warning.\", FutureWarning)\n",
      "c:\\users\\tony\\anaconda3\\lib\\site-packages\\sklearn\\linear_model\\logistic.py:432: FutureWarning: Default solver will be changed to 'lbfgs' in 0.22. Specify a solver to silence this warning.\n",
      "  FutureWarning)\n",
      "c:\\users\\tony\\anaconda3\\lib\\site-packages\\sklearn\\linear_model\\logistic.py:459: FutureWarning: Default multi_class will be changed to 'auto' in 0.22. Specify the multi_class option to silence this warning.\n",
      "  \"this warning.\", FutureWarning)\n",
      "c:\\users\\tony\\anaconda3\\lib\\site-packages\\sklearn\\linear_model\\logistic.py:432: FutureWarning: Default solver will be changed to 'lbfgs' in 0.22. Specify a solver to silence this warning.\n",
      "  FutureWarning)\n",
      "c:\\users\\tony\\anaconda3\\lib\\site-packages\\sklearn\\linear_model\\logistic.py:459: FutureWarning: Default multi_class will be changed to 'auto' in 0.22. Specify the multi_class option to silence this warning.\n",
      "  \"this warning.\", FutureWarning)\n",
      "c:\\users\\tony\\anaconda3\\lib\\site-packages\\sklearn\\linear_model\\logistic.py:432: FutureWarning: Default solver will be changed to 'lbfgs' in 0.22. Specify a solver to silence this warning.\n",
      "  FutureWarning)\n",
      "c:\\users\\tony\\anaconda3\\lib\\site-packages\\sklearn\\linear_model\\logistic.py:459: FutureWarning: Default multi_class will be changed to 'auto' in 0.22. Specify the multi_class option to silence this warning.\n",
      "  \"this warning.\", FutureWarning)\n",
      "c:\\users\\tony\\anaconda3\\lib\\site-packages\\sklearn\\linear_model\\logistic.py:432: FutureWarning: Default solver will be changed to 'lbfgs' in 0.22. Specify a solver to silence this warning.\n",
      "  FutureWarning)\n",
      "c:\\users\\tony\\anaconda3\\lib\\site-packages\\sklearn\\linear_model\\logistic.py:459: FutureWarning: Default multi_class will be changed to 'auto' in 0.22. Specify the multi_class option to silence this warning.\n",
      "  \"this warning.\", FutureWarning)\n",
      "c:\\users\\tony\\anaconda3\\lib\\site-packages\\sklearn\\linear_model\\logistic.py:432: FutureWarning: Default solver will be changed to 'lbfgs' in 0.22. Specify a solver to silence this warning.\n",
      "  FutureWarning)\n",
      "c:\\users\\tony\\anaconda3\\lib\\site-packages\\sklearn\\linear_model\\logistic.py:459: FutureWarning: Default multi_class will be changed to 'auto' in 0.22. Specify the multi_class option to silence this warning.\n",
      "  \"this warning.\", FutureWarning)\n",
      "c:\\users\\tony\\anaconda3\\lib\\site-packages\\sklearn\\linear_model\\logistic.py:432: FutureWarning: Default solver will be changed to 'lbfgs' in 0.22. Specify a solver to silence this warning.\n",
      "  FutureWarning)\n",
      "c:\\users\\tony\\anaconda3\\lib\\site-packages\\sklearn\\linear_model\\logistic.py:459: FutureWarning: Default multi_class will be changed to 'auto' in 0.22. Specify the multi_class option to silence this warning.\n",
      "  \"this warning.\", FutureWarning)\n",
      "c:\\users\\tony\\anaconda3\\lib\\site-packages\\sklearn\\linear_model\\logistic.py:432: FutureWarning: Default solver will be changed to 'lbfgs' in 0.22. Specify a solver to silence this warning.\n",
      "  FutureWarning)\n",
      "c:\\users\\tony\\anaconda3\\lib\\site-packages\\sklearn\\linear_model\\logistic.py:459: FutureWarning: Default multi_class will be changed to 'auto' in 0.22. Specify the multi_class option to silence this warning.\n",
      "  \"this warning.\", FutureWarning)\n",
      "c:\\users\\tony\\anaconda3\\lib\\site-packages\\sklearn\\linear_model\\logistic.py:432: FutureWarning: Default solver will be changed to 'lbfgs' in 0.22. Specify a solver to silence this warning.\n",
      "  FutureWarning)\n",
      "c:\\users\\tony\\anaconda3\\lib\\site-packages\\sklearn\\linear_model\\logistic.py:459: FutureWarning: Default multi_class will be changed to 'auto' in 0.22. Specify the multi_class option to silence this warning.\n",
      "  \"this warning.\", FutureWarning)\n",
      "c:\\users\\tony\\anaconda3\\lib\\site-packages\\sklearn\\linear_model\\logistic.py:432: FutureWarning: Default solver will be changed to 'lbfgs' in 0.22. Specify a solver to silence this warning.\n",
      "  FutureWarning)\n",
      "c:\\users\\tony\\anaconda3\\lib\\site-packages\\sklearn\\linear_model\\logistic.py:459: FutureWarning: Default multi_class will be changed to 'auto' in 0.22. Specify the multi_class option to silence this warning.\n",
      "  \"this warning.\", FutureWarning)\n",
      "c:\\users\\tony\\anaconda3\\lib\\site-packages\\sklearn\\linear_model\\logistic.py:432: FutureWarning: Default solver will be changed to 'lbfgs' in 0.22. Specify a solver to silence this warning.\n",
      "  FutureWarning)\n",
      "c:\\users\\tony\\anaconda3\\lib\\site-packages\\sklearn\\linear_model\\logistic.py:459: FutureWarning: Default multi_class will be changed to 'auto' in 0.22. Specify the multi_class option to silence this warning.\n",
      "  \"this warning.\", FutureWarning)\n",
      "c:\\users\\tony\\anaconda3\\lib\\site-packages\\sklearn\\linear_model\\logistic.py:432: FutureWarning: Default solver will be changed to 'lbfgs' in 0.22. Specify a solver to silence this warning.\n",
      "  FutureWarning)\n",
      "c:\\users\\tony\\anaconda3\\lib\\site-packages\\sklearn\\linear_model\\logistic.py:459: FutureWarning: Default multi_class will be changed to 'auto' in 0.22. Specify the multi_class option to silence this warning.\n",
      "  \"this warning.\", FutureWarning)\n",
      "c:\\users\\tony\\anaconda3\\lib\\site-packages\\sklearn\\linear_model\\logistic.py:432: FutureWarning: Default solver will be changed to 'lbfgs' in 0.22. Specify a solver to silence this warning.\n",
      "  FutureWarning)\n",
      "c:\\users\\tony\\anaconda3\\lib\\site-packages\\sklearn\\linear_model\\logistic.py:459: FutureWarning: Default multi_class will be changed to 'auto' in 0.22. Specify the multi_class option to silence this warning.\n",
      "  \"this warning.\", FutureWarning)\n",
      "c:\\users\\tony\\anaconda3\\lib\\site-packages\\sklearn\\linear_model\\logistic.py:432: FutureWarning: Default solver will be changed to 'lbfgs' in 0.22. Specify a solver to silence this warning.\n",
      "  FutureWarning)\n",
      "c:\\users\\tony\\anaconda3\\lib\\site-packages\\sklearn\\linear_model\\logistic.py:459: FutureWarning: Default multi_class will be changed to 'auto' in 0.22. Specify the multi_class option to silence this warning.\n",
      "  \"this warning.\", FutureWarning)\n",
      "c:\\users\\tony\\anaconda3\\lib\\site-packages\\sklearn\\linear_model\\logistic.py:432: FutureWarning: Default solver will be changed to 'lbfgs' in 0.22. Specify a solver to silence this warning.\n",
      "  FutureWarning)\n"
     ]
    },
    {
     "name": "stderr",
     "output_type": "stream",
     "text": [
      "c:\\users\\tony\\anaconda3\\lib\\site-packages\\sklearn\\linear_model\\logistic.py:459: FutureWarning: Default multi_class will be changed to 'auto' in 0.22. Specify the multi_class option to silence this warning.\n",
      "  \"this warning.\", FutureWarning)\n",
      "c:\\users\\tony\\anaconda3\\lib\\site-packages\\sklearn\\linear_model\\logistic.py:432: FutureWarning: Default solver will be changed to 'lbfgs' in 0.22. Specify a solver to silence this warning.\n",
      "  FutureWarning)\n",
      "c:\\users\\tony\\anaconda3\\lib\\site-packages\\sklearn\\linear_model\\logistic.py:459: FutureWarning: Default multi_class will be changed to 'auto' in 0.22. Specify the multi_class option to silence this warning.\n",
      "  \"this warning.\", FutureWarning)\n",
      "c:\\users\\tony\\anaconda3\\lib\\site-packages\\sklearn\\linear_model\\logistic.py:432: FutureWarning: Default solver will be changed to 'lbfgs' in 0.22. Specify a solver to silence this warning.\n",
      "  FutureWarning)\n",
      "c:\\users\\tony\\anaconda3\\lib\\site-packages\\sklearn\\linear_model\\logistic.py:459: FutureWarning: Default multi_class will be changed to 'auto' in 0.22. Specify the multi_class option to silence this warning.\n",
      "  \"this warning.\", FutureWarning)\n",
      "c:\\users\\tony\\anaconda3\\lib\\site-packages\\sklearn\\linear_model\\logistic.py:432: FutureWarning: Default solver will be changed to 'lbfgs' in 0.22. Specify a solver to silence this warning.\n",
      "  FutureWarning)\n",
      "c:\\users\\tony\\anaconda3\\lib\\site-packages\\sklearn\\linear_model\\logistic.py:459: FutureWarning: Default multi_class will be changed to 'auto' in 0.22. Specify the multi_class option to silence this warning.\n",
      "  \"this warning.\", FutureWarning)\n",
      "c:\\users\\tony\\anaconda3\\lib\\site-packages\\sklearn\\linear_model\\logistic.py:432: FutureWarning: Default solver will be changed to 'lbfgs' in 0.22. Specify a solver to silence this warning.\n",
      "  FutureWarning)\n",
      "c:\\users\\tony\\anaconda3\\lib\\site-packages\\sklearn\\linear_model\\logistic.py:459: FutureWarning: Default multi_class will be changed to 'auto' in 0.22. Specify the multi_class option to silence this warning.\n",
      "  \"this warning.\", FutureWarning)\n",
      "c:\\users\\tony\\anaconda3\\lib\\site-packages\\sklearn\\linear_model\\logistic.py:432: FutureWarning: Default solver will be changed to 'lbfgs' in 0.22. Specify a solver to silence this warning.\n",
      "  FutureWarning)\n",
      "c:\\users\\tony\\anaconda3\\lib\\site-packages\\sklearn\\linear_model\\logistic.py:459: FutureWarning: Default multi_class will be changed to 'auto' in 0.22. Specify the multi_class option to silence this warning.\n",
      "  \"this warning.\", FutureWarning)\n",
      "c:\\users\\tony\\anaconda3\\lib\\site-packages\\sklearn\\linear_model\\logistic.py:432: FutureWarning: Default solver will be changed to 'lbfgs' in 0.22. Specify a solver to silence this warning.\n",
      "  FutureWarning)\n",
      "c:\\users\\tony\\anaconda3\\lib\\site-packages\\sklearn\\linear_model\\logistic.py:459: FutureWarning: Default multi_class will be changed to 'auto' in 0.22. Specify the multi_class option to silence this warning.\n",
      "  \"this warning.\", FutureWarning)\n",
      "c:\\users\\tony\\anaconda3\\lib\\site-packages\\sklearn\\linear_model\\logistic.py:432: FutureWarning: Default solver will be changed to 'lbfgs' in 0.22. Specify a solver to silence this warning.\n",
      "  FutureWarning)\n",
      "c:\\users\\tony\\anaconda3\\lib\\site-packages\\sklearn\\linear_model\\logistic.py:459: FutureWarning: Default multi_class will be changed to 'auto' in 0.22. Specify the multi_class option to silence this warning.\n",
      "  \"this warning.\", FutureWarning)\n",
      "c:\\users\\tony\\anaconda3\\lib\\site-packages\\sklearn\\linear_model\\logistic.py:432: FutureWarning: Default solver will be changed to 'lbfgs' in 0.22. Specify a solver to silence this warning.\n",
      "  FutureWarning)\n",
      "c:\\users\\tony\\anaconda3\\lib\\site-packages\\sklearn\\linear_model\\logistic.py:459: FutureWarning: Default multi_class will be changed to 'auto' in 0.22. Specify the multi_class option to silence this warning.\n",
      "  \"this warning.\", FutureWarning)\n",
      "c:\\users\\tony\\anaconda3\\lib\\site-packages\\sklearn\\linear_model\\logistic.py:432: FutureWarning: Default solver will be changed to 'lbfgs' in 0.22. Specify a solver to silence this warning.\n",
      "  FutureWarning)\n",
      "c:\\users\\tony\\anaconda3\\lib\\site-packages\\sklearn\\linear_model\\logistic.py:459: FutureWarning: Default multi_class will be changed to 'auto' in 0.22. Specify the multi_class option to silence this warning.\n",
      "  \"this warning.\", FutureWarning)\n",
      "c:\\users\\tony\\anaconda3\\lib\\site-packages\\sklearn\\linear_model\\logistic.py:432: FutureWarning: Default solver will be changed to 'lbfgs' in 0.22. Specify a solver to silence this warning.\n",
      "  FutureWarning)\n",
      "c:\\users\\tony\\anaconda3\\lib\\site-packages\\sklearn\\linear_model\\logistic.py:459: FutureWarning: Default multi_class will be changed to 'auto' in 0.22. Specify the multi_class option to silence this warning.\n",
      "  \"this warning.\", FutureWarning)\n",
      "c:\\users\\tony\\anaconda3\\lib\\site-packages\\sklearn\\linear_model\\logistic.py:432: FutureWarning: Default solver will be changed to 'lbfgs' in 0.22. Specify a solver to silence this warning.\n",
      "  FutureWarning)\n",
      "c:\\users\\tony\\anaconda3\\lib\\site-packages\\sklearn\\linear_model\\logistic.py:459: FutureWarning: Default multi_class will be changed to 'auto' in 0.22. Specify the multi_class option to silence this warning.\n",
      "  \"this warning.\", FutureWarning)\n",
      "c:\\users\\tony\\anaconda3\\lib\\site-packages\\sklearn\\linear_model\\logistic.py:432: FutureWarning: Default solver will be changed to 'lbfgs' in 0.22. Specify a solver to silence this warning.\n",
      "  FutureWarning)\n",
      "c:\\users\\tony\\anaconda3\\lib\\site-packages\\sklearn\\linear_model\\logistic.py:459: FutureWarning: Default multi_class will be changed to 'auto' in 0.22. Specify the multi_class option to silence this warning.\n",
      "  \"this warning.\", FutureWarning)\n",
      "c:\\users\\tony\\anaconda3\\lib\\site-packages\\sklearn\\linear_model\\logistic.py:432: FutureWarning: Default solver will be changed to 'lbfgs' in 0.22. Specify a solver to silence this warning.\n",
      "  FutureWarning)\n",
      "c:\\users\\tony\\anaconda3\\lib\\site-packages\\sklearn\\linear_model\\logistic.py:459: FutureWarning: Default multi_class will be changed to 'auto' in 0.22. Specify the multi_class option to silence this warning.\n",
      "  \"this warning.\", FutureWarning)\n",
      "c:\\users\\tony\\anaconda3\\lib\\site-packages\\sklearn\\linear_model\\logistic.py:432: FutureWarning: Default solver will be changed to 'lbfgs' in 0.22. Specify a solver to silence this warning.\n",
      "  FutureWarning)\n",
      "c:\\users\\tony\\anaconda3\\lib\\site-packages\\sklearn\\linear_model\\logistic.py:459: FutureWarning: Default multi_class will be changed to 'auto' in 0.22. Specify the multi_class option to silence this warning.\n",
      "  \"this warning.\", FutureWarning)\n",
      "c:\\users\\tony\\anaconda3\\lib\\site-packages\\sklearn\\linear_model\\logistic.py:432: FutureWarning: Default solver will be changed to 'lbfgs' in 0.22. Specify a solver to silence this warning.\n",
      "  FutureWarning)\n",
      "c:\\users\\tony\\anaconda3\\lib\\site-packages\\sklearn\\linear_model\\logistic.py:459: FutureWarning: Default multi_class will be changed to 'auto' in 0.22. Specify the multi_class option to silence this warning.\n",
      "  \"this warning.\", FutureWarning)\n",
      "c:\\users\\tony\\anaconda3\\lib\\site-packages\\sklearn\\linear_model\\logistic.py:432: FutureWarning: Default solver will be changed to 'lbfgs' in 0.22. Specify a solver to silence this warning.\n",
      "  FutureWarning)\n",
      "c:\\users\\tony\\anaconda3\\lib\\site-packages\\sklearn\\linear_model\\logistic.py:459: FutureWarning: Default multi_class will be changed to 'auto' in 0.22. Specify the multi_class option to silence this warning.\n",
      "  \"this warning.\", FutureWarning)\n",
      "c:\\users\\tony\\anaconda3\\lib\\site-packages\\sklearn\\linear_model\\logistic.py:432: FutureWarning: Default solver will be changed to 'lbfgs' in 0.22. Specify a solver to silence this warning.\n",
      "  FutureWarning)\n",
      "c:\\users\\tony\\anaconda3\\lib\\site-packages\\sklearn\\linear_model\\logistic.py:459: FutureWarning: Default multi_class will be changed to 'auto' in 0.22. Specify the multi_class option to silence this warning.\n",
      "  \"this warning.\", FutureWarning)\n",
      "c:\\users\\tony\\anaconda3\\lib\\site-packages\\sklearn\\linear_model\\logistic.py:432: FutureWarning: Default solver will be changed to 'lbfgs' in 0.22. Specify a solver to silence this warning.\n",
      "  FutureWarning)\n",
      "c:\\users\\tony\\anaconda3\\lib\\site-packages\\sklearn\\linear_model\\logistic.py:459: FutureWarning: Default multi_class will be changed to 'auto' in 0.22. Specify the multi_class option to silence this warning.\n",
      "  \"this warning.\", FutureWarning)\n",
      "c:\\users\\tony\\anaconda3\\lib\\site-packages\\sklearn\\linear_model\\logistic.py:432: FutureWarning: Default solver will be changed to 'lbfgs' in 0.22. Specify a solver to silence this warning.\n",
      "  FutureWarning)\n",
      "c:\\users\\tony\\anaconda3\\lib\\site-packages\\sklearn\\linear_model\\logistic.py:459: FutureWarning: Default multi_class will be changed to 'auto' in 0.22. Specify the multi_class option to silence this warning.\n",
      "  \"this warning.\", FutureWarning)\n",
      "c:\\users\\tony\\anaconda3\\lib\\site-packages\\sklearn\\linear_model\\logistic.py:432: FutureWarning: Default solver will be changed to 'lbfgs' in 0.22. Specify a solver to silence this warning.\n",
      "  FutureWarning)\n",
      "c:\\users\\tony\\anaconda3\\lib\\site-packages\\sklearn\\linear_model\\logistic.py:459: FutureWarning: Default multi_class will be changed to 'auto' in 0.22. Specify the multi_class option to silence this warning.\n",
      "  \"this warning.\", FutureWarning)\n",
      "c:\\users\\tony\\anaconda3\\lib\\site-packages\\sklearn\\linear_model\\logistic.py:432: FutureWarning: Default solver will be changed to 'lbfgs' in 0.22. Specify a solver to silence this warning.\n",
      "  FutureWarning)\n",
      "c:\\users\\tony\\anaconda3\\lib\\site-packages\\sklearn\\linear_model\\logistic.py:459: FutureWarning: Default multi_class will be changed to 'auto' in 0.22. Specify the multi_class option to silence this warning.\n",
      "  \"this warning.\", FutureWarning)\n",
      "c:\\users\\tony\\anaconda3\\lib\\site-packages\\sklearn\\linear_model\\logistic.py:432: FutureWarning: Default solver will be changed to 'lbfgs' in 0.22. Specify a solver to silence this warning.\n",
      "  FutureWarning)\n",
      "c:\\users\\tony\\anaconda3\\lib\\site-packages\\sklearn\\linear_model\\logistic.py:459: FutureWarning: Default multi_class will be changed to 'auto' in 0.22. Specify the multi_class option to silence this warning.\n",
      "  \"this warning.\", FutureWarning)\n",
      "c:\\users\\tony\\anaconda3\\lib\\site-packages\\sklearn\\linear_model\\logistic.py:432: FutureWarning: Default solver will be changed to 'lbfgs' in 0.22. Specify a solver to silence this warning.\n",
      "  FutureWarning)\n"
     ]
    },
    {
     "name": "stderr",
     "output_type": "stream",
     "text": [
      "c:\\users\\tony\\anaconda3\\lib\\site-packages\\sklearn\\linear_model\\logistic.py:459: FutureWarning: Default multi_class will be changed to 'auto' in 0.22. Specify the multi_class option to silence this warning.\n",
      "  \"this warning.\", FutureWarning)\n",
      "c:\\users\\tony\\anaconda3\\lib\\site-packages\\sklearn\\linear_model\\logistic.py:432: FutureWarning: Default solver will be changed to 'lbfgs' in 0.22. Specify a solver to silence this warning.\n",
      "  FutureWarning)\n",
      "c:\\users\\tony\\anaconda3\\lib\\site-packages\\sklearn\\linear_model\\logistic.py:459: FutureWarning: Default multi_class will be changed to 'auto' in 0.22. Specify the multi_class option to silence this warning.\n",
      "  \"this warning.\", FutureWarning)\n",
      "c:\\users\\tony\\anaconda3\\lib\\site-packages\\sklearn\\linear_model\\logistic.py:432: FutureWarning: Default solver will be changed to 'lbfgs' in 0.22. Specify a solver to silence this warning.\n",
      "  FutureWarning)\n",
      "c:\\users\\tony\\anaconda3\\lib\\site-packages\\sklearn\\linear_model\\logistic.py:459: FutureWarning: Default multi_class will be changed to 'auto' in 0.22. Specify the multi_class option to silence this warning.\n",
      "  \"this warning.\", FutureWarning)\n",
      "c:\\users\\tony\\anaconda3\\lib\\site-packages\\sklearn\\linear_model\\logistic.py:432: FutureWarning: Default solver will be changed to 'lbfgs' in 0.22. Specify a solver to silence this warning.\n",
      "  FutureWarning)\n",
      "c:\\users\\tony\\anaconda3\\lib\\site-packages\\sklearn\\linear_model\\logistic.py:459: FutureWarning: Default multi_class will be changed to 'auto' in 0.22. Specify the multi_class option to silence this warning.\n",
      "  \"this warning.\", FutureWarning)\n",
      "c:\\users\\tony\\anaconda3\\lib\\site-packages\\sklearn\\linear_model\\logistic.py:432: FutureWarning: Default solver will be changed to 'lbfgs' in 0.22. Specify a solver to silence this warning.\n",
      "  FutureWarning)\n",
      "c:\\users\\tony\\anaconda3\\lib\\site-packages\\sklearn\\linear_model\\logistic.py:459: FutureWarning: Default multi_class will be changed to 'auto' in 0.22. Specify the multi_class option to silence this warning.\n",
      "  \"this warning.\", FutureWarning)\n",
      "c:\\users\\tony\\anaconda3\\lib\\site-packages\\sklearn\\linear_model\\logistic.py:432: FutureWarning: Default solver will be changed to 'lbfgs' in 0.22. Specify a solver to silence this warning.\n",
      "  FutureWarning)\n",
      "c:\\users\\tony\\anaconda3\\lib\\site-packages\\sklearn\\linear_model\\logistic.py:459: FutureWarning: Default multi_class will be changed to 'auto' in 0.22. Specify the multi_class option to silence this warning.\n",
      "  \"this warning.\", FutureWarning)\n",
      "c:\\users\\tony\\anaconda3\\lib\\site-packages\\sklearn\\linear_model\\logistic.py:432: FutureWarning: Default solver will be changed to 'lbfgs' in 0.22. Specify a solver to silence this warning.\n",
      "  FutureWarning)\n",
      "c:\\users\\tony\\anaconda3\\lib\\site-packages\\sklearn\\linear_model\\logistic.py:459: FutureWarning: Default multi_class will be changed to 'auto' in 0.22. Specify the multi_class option to silence this warning.\n",
      "  \"this warning.\", FutureWarning)\n",
      "c:\\users\\tony\\anaconda3\\lib\\site-packages\\sklearn\\linear_model\\logistic.py:432: FutureWarning: Default solver will be changed to 'lbfgs' in 0.22. Specify a solver to silence this warning.\n",
      "  FutureWarning)\n",
      "c:\\users\\tony\\anaconda3\\lib\\site-packages\\sklearn\\linear_model\\logistic.py:459: FutureWarning: Default multi_class will be changed to 'auto' in 0.22. Specify the multi_class option to silence this warning.\n",
      "  \"this warning.\", FutureWarning)\n",
      "c:\\users\\tony\\anaconda3\\lib\\site-packages\\sklearn\\linear_model\\logistic.py:432: FutureWarning: Default solver will be changed to 'lbfgs' in 0.22. Specify a solver to silence this warning.\n",
      "  FutureWarning)\n",
      "c:\\users\\tony\\anaconda3\\lib\\site-packages\\sklearn\\linear_model\\logistic.py:459: FutureWarning: Default multi_class will be changed to 'auto' in 0.22. Specify the multi_class option to silence this warning.\n",
      "  \"this warning.\", FutureWarning)\n",
      "c:\\users\\tony\\anaconda3\\lib\\site-packages\\sklearn\\linear_model\\logistic.py:432: FutureWarning: Default solver will be changed to 'lbfgs' in 0.22. Specify a solver to silence this warning.\n",
      "  FutureWarning)\n",
      "c:\\users\\tony\\anaconda3\\lib\\site-packages\\sklearn\\linear_model\\logistic.py:459: FutureWarning: Default multi_class will be changed to 'auto' in 0.22. Specify the multi_class option to silence this warning.\n",
      "  \"this warning.\", FutureWarning)\n",
      "c:\\users\\tony\\anaconda3\\lib\\site-packages\\sklearn\\linear_model\\logistic.py:432: FutureWarning: Default solver will be changed to 'lbfgs' in 0.22. Specify a solver to silence this warning.\n",
      "  FutureWarning)\n",
      "c:\\users\\tony\\anaconda3\\lib\\site-packages\\sklearn\\linear_model\\logistic.py:459: FutureWarning: Default multi_class will be changed to 'auto' in 0.22. Specify the multi_class option to silence this warning.\n",
      "  \"this warning.\", FutureWarning)\n",
      "c:\\users\\tony\\anaconda3\\lib\\site-packages\\sklearn\\linear_model\\logistic.py:432: FutureWarning: Default solver will be changed to 'lbfgs' in 0.22. Specify a solver to silence this warning.\n",
      "  FutureWarning)\n",
      "c:\\users\\tony\\anaconda3\\lib\\site-packages\\sklearn\\linear_model\\logistic.py:459: FutureWarning: Default multi_class will be changed to 'auto' in 0.22. Specify the multi_class option to silence this warning.\n",
      "  \"this warning.\", FutureWarning)\n",
      "c:\\users\\tony\\anaconda3\\lib\\site-packages\\sklearn\\linear_model\\logistic.py:432: FutureWarning: Default solver will be changed to 'lbfgs' in 0.22. Specify a solver to silence this warning.\n",
      "  FutureWarning)\n",
      "c:\\users\\tony\\anaconda3\\lib\\site-packages\\sklearn\\linear_model\\logistic.py:459: FutureWarning: Default multi_class will be changed to 'auto' in 0.22. Specify the multi_class option to silence this warning.\n",
      "  \"this warning.\", FutureWarning)\n",
      "c:\\users\\tony\\anaconda3\\lib\\site-packages\\sklearn\\linear_model\\logistic.py:432: FutureWarning: Default solver will be changed to 'lbfgs' in 0.22. Specify a solver to silence this warning.\n",
      "  FutureWarning)\n",
      "c:\\users\\tony\\anaconda3\\lib\\site-packages\\sklearn\\linear_model\\logistic.py:459: FutureWarning: Default multi_class will be changed to 'auto' in 0.22. Specify the multi_class option to silence this warning.\n",
      "  \"this warning.\", FutureWarning)\n",
      "c:\\users\\tony\\anaconda3\\lib\\site-packages\\sklearn\\linear_model\\logistic.py:432: FutureWarning: Default solver will be changed to 'lbfgs' in 0.22. Specify a solver to silence this warning.\n",
      "  FutureWarning)\n",
      "c:\\users\\tony\\anaconda3\\lib\\site-packages\\sklearn\\linear_model\\logistic.py:459: FutureWarning: Default multi_class will be changed to 'auto' in 0.22. Specify the multi_class option to silence this warning.\n",
      "  \"this warning.\", FutureWarning)\n",
      "c:\\users\\tony\\anaconda3\\lib\\site-packages\\sklearn\\linear_model\\logistic.py:432: FutureWarning: Default solver will be changed to 'lbfgs' in 0.22. Specify a solver to silence this warning.\n",
      "  FutureWarning)\n",
      "c:\\users\\tony\\anaconda3\\lib\\site-packages\\sklearn\\linear_model\\logistic.py:459: FutureWarning: Default multi_class will be changed to 'auto' in 0.22. Specify the multi_class option to silence this warning.\n",
      "  \"this warning.\", FutureWarning)\n",
      "c:\\users\\tony\\anaconda3\\lib\\site-packages\\sklearn\\linear_model\\logistic.py:432: FutureWarning: Default solver will be changed to 'lbfgs' in 0.22. Specify a solver to silence this warning.\n",
      "  FutureWarning)\n",
      "c:\\users\\tony\\anaconda3\\lib\\site-packages\\sklearn\\linear_model\\logistic.py:459: FutureWarning: Default multi_class will be changed to 'auto' in 0.22. Specify the multi_class option to silence this warning.\n",
      "  \"this warning.\", FutureWarning)\n",
      "c:\\users\\tony\\anaconda3\\lib\\site-packages\\sklearn\\linear_model\\logistic.py:432: FutureWarning: Default solver will be changed to 'lbfgs' in 0.22. Specify a solver to silence this warning.\n",
      "  FutureWarning)\n",
      "c:\\users\\tony\\anaconda3\\lib\\site-packages\\sklearn\\linear_model\\logistic.py:459: FutureWarning: Default multi_class will be changed to 'auto' in 0.22. Specify the multi_class option to silence this warning.\n",
      "  \"this warning.\", FutureWarning)\n",
      "c:\\users\\tony\\anaconda3\\lib\\site-packages\\sklearn\\linear_model\\logistic.py:432: FutureWarning: Default solver will be changed to 'lbfgs' in 0.22. Specify a solver to silence this warning.\n",
      "  FutureWarning)\n",
      "c:\\users\\tony\\anaconda3\\lib\\site-packages\\sklearn\\linear_model\\logistic.py:459: FutureWarning: Default multi_class will be changed to 'auto' in 0.22. Specify the multi_class option to silence this warning.\n",
      "  \"this warning.\", FutureWarning)\n"
     ]
    },
    {
     "data": {
      "text/plain": [
       "Text(0.5,1,'Number of Principle Components vs. accuracy on inner circle')"
      ]
     },
     "execution_count": 64,
     "metadata": {},
     "output_type": "execute_result"
    },
    {
     "data": {
      "image/png": "[encoded data removed]",
      "text/plain": [
       "<matplotlib.figure.Figure at 0x2480091c18>"
      ]
     },
     "metadata": {
      "needs_background": "light"
     },
     "output_type": "display_data"
    }
   ],
   "source": [
    "num_components = 40\n",
    "x_axis = range(num_components)\n",
    "acc1 = np.zeros(num_components)\n",
    "acc2 = np.zeros(num_components)\n",
    "for i in range(num_components):\n",
    "    data_Circle = X_kpca[:,:i+1]\n",
    "    data_Ring = X_kpca2[:,:i+1]\n",
    "    label_Circle = label1\n",
    "    label_Ring = label1\n",
    "    X_train1, X_test1, Y_train1, Y_test1 = train_test_split(data_Circle, label_Circle, test_size=0.3, random_state=0)\n",
    "    X_train2, X_test2, Y_train2, Y_test2 = train_test_split(data_Ring, label_Ring, test_size=0.3, random_state=0)\n",
    "    sc = StandardScaler()\n",
    "    sc.fit(X_train1)\n",
    "    X_train_std1 = sc.transform(X_train1)\n",
    "    X_test_std1 = sc.transform(X_test1)\n",
    "\n",
    "    logreg = linear_model.LogisticRegression()\n",
    "    logreg.fit(X_train1, Y_train1)\n",
    "    prepro = logreg.predict_proba(X_test_std1)\n",
    "    acc1[i] = logreg.score(X_test_std1,Y_test1)\n",
    "    \n",
    "\n",
    "    sc.fit(X_train2)\n",
    "    X_train_std2 = sc.transform(X_train2)\n",
    "    X_test_std2 = sc.transform(X_test2)\n",
    "\n",
    "    logreg = linear_model.LogisticRegression()\n",
    "    logreg.fit(X_train2, Y_train2)\n",
    "    prepro = logreg.predict_proba(X_test_std2)\n",
    "    acc2[i] = logreg.score(X_test_std2,Y_test2)\n",
    "plt.figure\n",
    "plt.plot(x_axis,acc1)\n",
    "plt.xlabel(\"Principle Components\")\n",
    "plt.ylabel(\"accuracy\")\n",
    "plt.title(\"Number of Principle Components vs. accuracy on inner circle\")"
   ]
  },
  {
   "cell_type": "code",
   "execution_count": 65,
   "metadata": {},
   "outputs": [
    {
     "data": {
      "text/plain": [
       "Text(0.5,1,'Number of Principle Components vs. accuracy on outer ring')"
      ]
     },
     "execution_count": 65,
     "metadata": {},
     "output_type": "execute_result"
    },
    {
     "data": {
      "image/png": "[encoded data removed]",
      "text/plain": [
       "<matplotlib.figure.Figure at 0x248000de10>"
      ]
     },
     "metadata": {
      "needs_background": "light"
     },
     "output_type": "display_data"
    }
   ],
   "source": [
    "plt.figure\n",
    "plt.plot(x_axis,acc2)\n",
    "plt.xlabel(\"Principle Components\")\n",
    "plt.ylabel(\"accuracy\")\n",
    "plt.title(\"Number of Principle Components vs. accuracy on outer ring\")"
   ]
  },
  {
   "cell_type": "code",
   "execution_count": 17,
   "metadata": {},
   "outputs": [
    {
     "name": "stdout",
     "output_type": "stream",
     "text": [
      "0.9947503284160074\n",
      "0.9063077870366499\n",
      "121\n",
      "174\n",
      "0.5260869565217391\n",
      "0.7565217391304347\n",
      "0.7353910524340095\n",
      "1.0606601717798214\n"
     ]
    }
   ],
   "source": [
    "import numpy as np\n",
    "print(np.sin(np.deg2rad(44.7))*np.sqrt(2))\n",
    "print(np.sin(np.deg2rad(65)))\n",
    "print(366-245)\n",
    "print(419-245)\n",
    "print((366-245)/(475-245))\n",
    "print((419-245)/(475-245))\n",
    "print(0.52 * np.sqrt(2))\n",
    "print(0.75 * np.sqrt(2))"
   ]
  },
  {
   "cell_type": "code",
   "execution_count": 130,
   "metadata": {},
   "outputs": [
    {
     "data": {
      "image/png": "[encoded data removed]",
      "text/plain": [
       "<matplotlib.figure.Figure at 0x24b3fcc780>"
      ]
     },
     "metadata": {},
     "output_type": "display_data"
    }
   ],
   "source": [
    "\n",
    "# img = np.asarray(img)\n",
    "from pylab import figure, cm\n",
    "from matplotlib.colors import LogNorm\n",
    "from matplotlib import colors, cm, pyplot as plt\n",
    "# C = some matrix\n",
    "fname = 'D:\\\\Test_Data21\\\\b2005102007m.png'\n",
    "image = Image.open(fname).convert(\"L\")\n",
    "arr = np.asarray(image)\n",
    "arr =arr +2\n",
    "plt.imshow(arr, cmap='gray', vmin=0, vmax=255)\n",
    "plt.show()\n"
   ]
  },
  {
   "cell_type": "code",
   "execution_count": 2,
   "metadata": {},
   "outputs": [
    {
     "name": "stdout",
     "output_type": "stream",
     "text": [
      "array([[[130, 127, 126, ..., 131, 124, 129],\n",
      "        [128, 126, 122, ..., 118, 130, 128],\n",
      "        [131, 120, 118, ..., 131, 116, 123],\n",
      "        ...,\n",
      "        [115, 112,  96, ..., 110, 110, 100],\n",
      "        [137, 142, 138, ..., 121, 115, 140],\n",
      "        [116, 113, 123, ..., 105, 104, 108]],\n",
      "\n",
      "       [[121, 131, 138, ..., 129, 135, 132],\n",
      "        [131, 141, 126, ..., 136, 131, 116],\n",
      "        [122, 117, 124, ..., 116, 134, 130],\n",
      "        ...,\n",
      "        [109, 121, 118, ..., 111, 104, 116],\n",
      "        [123, 119, 120, ..., 107, 113, 109],\n",
      "        [118, 108, 115, ..., 110, 100, 111]],\n",
      "\n",
      "       [[129, 123, 123, ..., 138, 127, 125],\n",
      "        [139, 133, 130, ..., 121, 120, 122],\n",
      "        [129, 119, 120, ..., 129, 120, 131],\n",
      "        ...,\n",
      "        [114, 107, 100, ..., 111, 114, 117],\n",
      "        [ 96,  99, 109, ...,  99, 118, 103],\n",
      "        [110, 112, 107, ...,  94, 111, 110]],\n",
      "\n",
      "       ...,\n",
      "\n",
      "       [[129, 133, 120, ..., 130, 131, 137],\n",
      "        [128, 123, 122, ..., 126, 121, 137],\n",
      "        [118, 118, 123, ..., 119, 120, 127],\n",
      "        ...,\n",
      "        [109, 118, 123, ..., 104, 112, 111],\n",
      "        [115, 113, 111, ..., 112, 120, 118],\n",
      "        [125, 112, 117, ..., 114, 129, 124]],\n",
      "\n",
      "       [[131, 129, 133, ..., 124, 131, 129],\n",
      "        [120, 129, 128, ..., 115, 132, 126],\n",
      "        [112, 124, 128, ..., 113, 133, 129],\n",
      "        ...,\n",
      "        [126, 125, 112, ..., 115, 119, 125],\n",
      "        [133, 139, 125, ..., 113, 118, 122],\n",
      "        [121, 113, 113, ..., 111, 110, 120]],\n",
      "\n",
      "       [[120, 131, 127, ..., 134, 129, 127],\n",
      "        [124, 127, 123, ..., 130, 123, 138],\n",
      "        [131, 116, 130, ..., 125, 120, 131],\n",
      "        ...,\n",
      "        [121, 108, 112, ..., 111, 108, 116],\n",
      "        [113, 102, 108, ..., 112, 113, 120],\n",
      "        [104, 128, 112, ..., 111, 111, 110]]], dtype=uint16)\n"
     ]
    }
   ],
   "source": [
    "import pprint, pickle\n",
    "dest = 'D:/Test_Data2'\n",
    "pkl_file = open(dest+'data.pkl', 'rb')\n",
    "\n",
    "data1 = pickle.load(pkl_file)\n",
    "pprint.pprint(data1)\n",
    "\n",
    "pkl_file.close()"
   ]
  }
 ],
 "metadata": {
  "kernelspec": {
   "display_name": "Python 3",
   "language": "python",
   "name": "python3"
  },
  "language_info": {
   "codemirror_mode": {
    "name": "ipython",
    "version": 3
   },
   "file_extension": ".py",
   "mimetype": "text/x-python",
   "name": "python",
   "nbconvert_exporter": "python",
   "pygments_lexer": "ipython3",
   "version": "3.7.3"
  }
 },
 "nbformat": 4,
 "nbformat_minor": 2
}
