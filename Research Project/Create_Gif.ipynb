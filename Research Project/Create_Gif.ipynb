{
 "cells": [
  {
   "cell_type": "code",
   "execution_count": 1,
   "metadata": {},
   "outputs": [],
   "source": [
    "import sys\n",
    "import datetime\n",
    "import imageio"
   ]
  },
  {
   "cell_type": "code",
   "execution_count": null,
   "metadata": {},
   "outputs": [],
   "source": [
    "def create_gif(filenames, duration):\n",
    "    images = []\n",
    "    for filename in filenames:\n",
    "        images.append(imageio.imread(filename))\n",
    "    output_file = 'Gif-%s.gif' % datetime.datetime.now().strftime('%Y-%M-%d-%H-%M-%S')\n",
    "    imageio.mimsave(output_file, images, duration=duration)\n",
    "\n",
    "\n",
    "if __name__ == \"__main__\":\n",
    "    script = sys.argv.pop(0)\n",
    "\n",
    "    if len(sys.argv) < 2:\n",
    "        print('Usage: python {} <duration> <path to images separated by space>'.format(script))\n",
    "        sys.exit(1)\n",
    "\n",
    "    duration = float(sys.argv.pop(0))\n",
    "    filenames = sys.argv\n",
    "\n",
    "\n",
    "    if not all(f.lower().endswith(VALID_EXTENSIONS) for f in filenames):\n",
    "        print('Only png and jpg files allowed')\n",
    "        sys.exit(1)\n",
    "\n",
    "    create_gif(filenames, duration)"
   ]
  }
 ],
 "metadata": {
  "kernelspec": {
   "display_name": "Python 3",
   "language": "python",
   "name": "python3"
  },
  "language_info": {
   "codemirror_mode": {
    "name": "ipython",
    "version": 3
   },
   "file_extension": ".py",
   "mimetype": "text/x-python",
   "name": "python",
   "nbconvert_exporter": "python",
   "pygments_lexer": "ipython3",
   "version": "3.7.3"
  }
 },
 "nbformat": 4,
 "nbformat_minor": 2
}
