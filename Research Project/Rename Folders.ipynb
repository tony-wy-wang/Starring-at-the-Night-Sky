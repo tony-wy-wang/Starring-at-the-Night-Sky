{
 "cells": [
  {
   "cell_type": "code",
   "execution_count": 1,
   "metadata": {},
   "outputs": [],
   "source": [
    "import os, sys\n",
    "path1 = 'E:\\\\Desktop\\\\test\\\\data'  #所需修改文件夹所在路径\n",
    "dirs = os.listdir(path1)\n",
    " \n",
    "i = 0\n",
    "for dir in dirs:\n",
    "    os.rename(str(dir),str(i))\n",
    "    print (\"重命名成功!\")\n",
    "    i += 1\n",
    "# 打印出重命名后的目录\n",
    "print (\"目录为: %s\" %os.listdir(os.getcwd()))"
   ]
  },
  {
   "cell_type": "code",
   "execution_count": null,
   "metadata": {},
   "outputs": [],
   "source": []
  }
 ],
 "metadata": {
  "kernelspec": {
   "display_name": "Python 3",
   "language": "python",
   "name": "python3"
  },
  "language_info": {
   "codemirror_mode": {
    "name": "ipython",
    "version": 3
   },
   "file_extension": ".py",
   "mimetype": "text/x-python",
   "name": "python",
   "nbconvert_exporter": "python",
   "pygments_lexer": "ipython3",
   "version": "3.7.3"
  }
 },
 "nbformat": 4,
 "nbformat_minor": 2
}
