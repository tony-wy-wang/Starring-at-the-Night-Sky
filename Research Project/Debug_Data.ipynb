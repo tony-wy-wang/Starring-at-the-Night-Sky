{
 "cells": [
  {
   "cell_type": "code",
   "execution_count": 1,
   "metadata": {},
   "outputs": [],
   "source": [
    "import numpy as np\n",
    "import matplotlib.pyplot as plt\n",
    "from astropy.visualization import astropy_mpl_style\n",
    "from astropy.io import fits\n",
    "import astropy\n",
    "plt.style.use(astropy_mpl_style)\n",
    "from astropy.utils.data import get_pkg_data_filename\n",
    "import numpy as np\n",
    "#import ogr\n",
    "#import shapely.wkt\n",
    "#import shapely.geometry\n",
    "import urllib.request\n",
    "import zipfile\n",
    "import json\n",
    "import csv\n",
    "from collections import Counter\n",
    "import itertools\n",
    "from collections import defaultdict\n",
    "import pandas as pd\n",
    "import matplotlib.pyplot as plt\n",
    "import numpy as np\n",
    "import csv\n",
    "import os, glob\n",
    "from sklearn import decomposition\n",
    "from sklearn import cluster\n",
    "from sklearn import preprocessing\n",
    "from sklearn.datasets import load_digits\n",
    "from sklearn.decomposition import IncrementalPCA\n",
    "from scipy import spatial\n",
    "from io import StringIO\n",
    "import importlib\n",
    "from mpl_toolkits.mplot3d import Axes3D\n",
    "from astropy.utils.data import get_pkg_data_filename\n",
    "from astropy.io import fits\n",
    "import PIL\n",
    "from PIL import Image\n",
    "import scipy.misc\n",
    "import math\n",
    "from scipy.spatial.distance import pdist, squareform\n",
    "import pickle"
   ]
  },
  {
   "cell_type": "code",
   "execution_count": 8,
   "metadata": {},
   "outputs": [],
   "source": [
    "txt='E:\\\\TMT_SITE_RAID\\\\TMT_DATA_2\\\\T2-Armazones\\\\Test_Data\\\\list1.txt'\n",
    "root = 'E:\\\\TMT_SITE_RAID\\\\TMT_DATA_2\\\\T2-Armazones\\\\Debug_Data\\\\'\n",
    "fh = open(txt, 'r')\n",
    "imgs = []\n",
    "for line in fh:\n",
    "    line = line.strip('\\n')\n",
    "    line = line.rstrip()\n",
    "    words = line.split()\n",
    "    label = words[-1]\n",
    "    if label == 'i':\n",
    "        data = np.zeros([1024,1024,30])\n",
    "    elif label == 'o':\n",
    "        data = np.zeros([1024,1024,30]) + 50\n",
    "    elif label == 'p':\n",
    "        data = np.zeros([1024,1024,30]) + 100\n",
    "    else:\n",
    "        data = np.zeros([1024,1024,30]) + 200\n",
    "    words2 = words[-2].split('\\\\')\n",
    "    file = words2[-1]\n",
    "    dir0 = root+file\n",
    "    np.save(dir0,data)"
   ]
  },
  {
   "cell_type": "code",
   "execution_count": 7,
   "metadata": {},
   "outputs": [
    {
     "name": "stdout",
     "output_type": "stream",
     "text": [
      "(1024, 1024, 30)\n"
     ]
    }
   ],
   "source": [
    "print(np.zeros([1024,1024,30]).shape)"
   ]
  }
 ],
 "metadata": {
  "kernelspec": {
   "display_name": "Python 3",
   "language": "python",
   "name": "python3"
  },
  "language_info": {
   "codemirror_mode": {
    "name": "ipython",
    "version": 3
   },
   "file_extension": ".py",
   "mimetype": "text/x-python",
   "name": "python",
   "nbconvert_exporter": "python",
   "pygments_lexer": "ipython3",
   "version": "3.7.3"
  }
 },
 "nbformat": 4,
 "nbformat_minor": 2
}
